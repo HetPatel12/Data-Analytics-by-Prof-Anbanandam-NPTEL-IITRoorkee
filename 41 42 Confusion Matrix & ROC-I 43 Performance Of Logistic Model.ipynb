{
 "cells": [
  {
   "cell_type": "markdown",
   "id": "4d647ccf",
   "metadata": {},
   "source": [
    "# Lec-41 "
   ]
  },
  {
   "cell_type": "markdown",
   "id": "7e232b97",
   "metadata": {},
   "source": [
    "To check the performance of the logistic regression model. 1) Confusion Matrix  2) ROC And check whether the model developed is good or not."
   ]
  },
  {
   "cell_type": "markdown",
   "id": "40ffa39e",
   "metadata": {},
   "source": [
    "Threshold value is a vertical line that gives either true +ve or true -ve"
   ]
  },
  {
   "cell_type": "markdown",
   "id": "09ee66e5",
   "metadata": {},
   "source": [
    "# Lec-42"
   ]
  },
  {
   "cell_type": "markdown",
   "id": "8f95fff8",
   "metadata": {},
   "source": [
    "Different types of ROC Curves and when to choose which curve"
   ]
  },
  {
   "cell_type": "code",
   "execution_count": 1,
   "id": "6b773317",
   "metadata": {},
   "outputs": [],
   "source": [
    "import pandas as pd\n",
    "import matplotlib.pyplot as plt"
   ]
  },
  {
   "cell_type": "code",
   "execution_count": 2,
   "id": "bcd7db19",
   "metadata": {},
   "outputs": [
    {
     "data": {
      "text/html": [
       "<div>\n",
       "<style scoped>\n",
       "    .dataframe tbody tr th:only-of-type {\n",
       "        vertical-align: middle;\n",
       "    }\n",
       "\n",
       "    .dataframe tbody tr th {\n",
       "        vertical-align: top;\n",
       "    }\n",
       "\n",
       "    .dataframe thead th {\n",
       "        text-align: right;\n",
       "    }\n",
       "</style>\n",
       "<table border=\"1\" class=\"dataframe\">\n",
       "  <thead>\n",
       "    <tr style=\"text-align: right;\">\n",
       "      <th></th>\n",
       "      <th>Customer</th>\n",
       "      <th>Spending</th>\n",
       "      <th>Card</th>\n",
       "      <th>Coupon</th>\n",
       "    </tr>\n",
       "  </thead>\n",
       "  <tbody>\n",
       "    <tr>\n",
       "      <th>0</th>\n",
       "      <td>1</td>\n",
       "      <td>2.291</td>\n",
       "      <td>1</td>\n",
       "      <td>0</td>\n",
       "    </tr>\n",
       "    <tr>\n",
       "      <th>1</th>\n",
       "      <td>2</td>\n",
       "      <td>3.215</td>\n",
       "      <td>1</td>\n",
       "      <td>0</td>\n",
       "    </tr>\n",
       "    <tr>\n",
       "      <th>2</th>\n",
       "      <td>3</td>\n",
       "      <td>2.135</td>\n",
       "      <td>1</td>\n",
       "      <td>0</td>\n",
       "    </tr>\n",
       "    <tr>\n",
       "      <th>3</th>\n",
       "      <td>4</td>\n",
       "      <td>3.924</td>\n",
       "      <td>0</td>\n",
       "      <td>0</td>\n",
       "    </tr>\n",
       "    <tr>\n",
       "      <th>4</th>\n",
       "      <td>5</td>\n",
       "      <td>2.528</td>\n",
       "      <td>1</td>\n",
       "      <td>0</td>\n",
       "    </tr>\n",
       "  </tbody>\n",
       "</table>\n",
       "</div>"
      ],
      "text/plain": [
       "   Customer  Spending  Card  Coupon\n",
       "0         1     2.291     1       0\n",
       "1         2     3.215     1       0\n",
       "2         3     2.135     1       0\n",
       "3         4     3.924     0       0\n",
       "4         5     2.528     1       0"
      ]
     },
     "execution_count": 2,
     "metadata": {},
     "output_type": "execute_result"
    }
   ],
   "source": [
    "# my data ight be inaccurate as I am having only 10 values of 100\n",
    "data = pd.read_excel('logreg.xlsx')\n",
    "data.head()"
   ]
  },
  {
   "cell_type": "code",
   "execution_count": 3,
   "id": "e53e3703",
   "metadata": {},
   "outputs": [
    {
     "data": {
      "text/html": [
       "<div>\n",
       "<style scoped>\n",
       "    .dataframe tbody tr th:only-of-type {\n",
       "        vertical-align: middle;\n",
       "    }\n",
       "\n",
       "    .dataframe tbody tr th {\n",
       "        vertical-align: top;\n",
       "    }\n",
       "\n",
       "    .dataframe thead th {\n",
       "        text-align: right;\n",
       "    }\n",
       "</style>\n",
       "<table border=\"1\" class=\"dataframe\">\n",
       "  <thead>\n",
       "    <tr style=\"text-align: right;\">\n",
       "      <th></th>\n",
       "      <th>Customer</th>\n",
       "      <th>Spending</th>\n",
       "      <th>Card</th>\n",
       "      <th>Coupon</th>\n",
       "    </tr>\n",
       "  </thead>\n",
       "  <tbody>\n",
       "    <tr>\n",
       "      <th>count</th>\n",
       "      <td>10.00000</td>\n",
       "      <td>10.000000</td>\n",
       "      <td>10.000000</td>\n",
       "      <td>10.000000</td>\n",
       "    </tr>\n",
       "    <tr>\n",
       "      <th>mean</th>\n",
       "      <td>5.50000</td>\n",
       "      <td>3.055300</td>\n",
       "      <td>0.500000</td>\n",
       "      <td>0.200000</td>\n",
       "    </tr>\n",
       "    <tr>\n",
       "      <th>std</th>\n",
       "      <td>3.02765</td>\n",
       "      <td>1.599938</td>\n",
       "      <td>0.527046</td>\n",
       "      <td>0.421637</td>\n",
       "    </tr>\n",
       "    <tr>\n",
       "      <th>min</th>\n",
       "      <td>1.00000</td>\n",
       "      <td>1.182000</td>\n",
       "      <td>0.000000</td>\n",
       "      <td>0.000000</td>\n",
       "    </tr>\n",
       "    <tr>\n",
       "      <th>25%</th>\n",
       "      <td>3.25000</td>\n",
       "      <td>2.314250</td>\n",
       "      <td>0.000000</td>\n",
       "      <td>0.000000</td>\n",
       "    </tr>\n",
       "    <tr>\n",
       "      <th>50%</th>\n",
       "      <td>5.50000</td>\n",
       "      <td>2.500500</td>\n",
       "      <td>0.500000</td>\n",
       "      <td>0.000000</td>\n",
       "    </tr>\n",
       "    <tr>\n",
       "      <th>75%</th>\n",
       "      <td>7.75000</td>\n",
       "      <td>3.312500</td>\n",
       "      <td>1.000000</td>\n",
       "      <td>0.000000</td>\n",
       "    </tr>\n",
       "    <tr>\n",
       "      <th>max</th>\n",
       "      <td>10.00000</td>\n",
       "      <td>7.076000</td>\n",
       "      <td>1.000000</td>\n",
       "      <td>1.000000</td>\n",
       "    </tr>\n",
       "  </tbody>\n",
       "</table>\n",
       "</div>"
      ],
      "text/plain": [
       "       Customer   Spending       Card     Coupon\n",
       "count  10.00000  10.000000  10.000000  10.000000\n",
       "mean    5.50000   3.055300   0.500000   0.200000\n",
       "std     3.02765   1.599938   0.527046   0.421637\n",
       "min     1.00000   1.182000   0.000000   0.000000\n",
       "25%     3.25000   2.314250   0.000000   0.000000\n",
       "50%     5.50000   2.500500   0.500000   0.000000\n",
       "75%     7.75000   3.312500   1.000000   0.000000\n",
       "max    10.00000   7.076000   1.000000   1.000000"
      ]
     },
     "execution_count": 3,
     "metadata": {},
     "output_type": "execute_result"
    }
   ],
   "source": [
    "# get some statistical details\n",
    "data.describe()"
   ]
  },
  {
   "cell_type": "code",
   "execution_count": 4,
   "id": "b126f0d7",
   "metadata": {},
   "outputs": [
    {
     "data": {
      "text/plain": [
       "array([0, 1], dtype=int64)"
      ]
     },
     "execution_count": 4,
     "metadata": {},
     "output_type": "execute_result"
    }
   ],
   "source": [
    "data['Coupon'].unique() # gives unique value in particular column\n",
    "# 0: customer didnt used coupon 1 means used coupon"
   ]
  },
  {
   "cell_type": "code",
   "execution_count": 5,
   "id": "9aa12af2",
   "metadata": {},
   "outputs": [
    {
     "data": {
      "text/plain": [
       "0    8\n",
       "1    2\n",
       "Name: Coupon, dtype: int64"
      ]
     },
     "execution_count": 5,
     "metadata": {},
     "output_type": "execute_result"
    }
   ],
   "source": [
    "data['Coupon'].value_counts()\n",
    "# no. of 0s and 1s"
   ]
  },
  {
   "cell_type": "code",
   "execution_count": 6,
   "id": "60d81ba4",
   "metadata": {},
   "outputs": [],
   "source": [
    "# Build the model\n",
    "from sklearn import linear_model\n",
    "from sklearn.model_selection import train_test_split\n",
    "from sklearn.linear_model import LogisticRegression"
   ]
  },
  {
   "cell_type": "code",
   "execution_count": 7,
   "id": "73f85092",
   "metadata": {},
   "outputs": [],
   "source": [
    "# Split the datset\n",
    "x = data[['Card','Spending']] # Both are independent variable\n",
    "y = data['Coupon'].values.reshape(-1,1)\n",
    "x_train, x_test, y_train, y_test = train_test_split(x, y, test_size=0.2, random_state=42)\n",
    "# test_size=0.25 means dataset for testing"
   ]
  },
  {
   "cell_type": "code",
   "execution_count": 8,
   "id": "b389a639",
   "metadata": {},
   "outputs": [
    {
     "data": {
      "text/plain": [
       "(8, 2, 2, 2)"
      ]
     },
     "execution_count": 8,
     "metadata": {},
     "output_type": "execute_result"
    }
   ],
   "source": [
    "len(x_train), len(x_test), len(x_test), len(y_test)"
   ]
  },
  {
   "cell_type": "markdown",
   "id": "2c25511e",
   "metadata": {},
   "source": [
    "Building the model and predicting the values"
   ]
  },
  {
   "cell_type": "code",
   "execution_count": 9,
   "id": "fd7cf889",
   "metadata": {},
   "outputs": [
    {
     "data": {
      "text/html": [
       "<style>#sk-container-id-1 {color: black;background-color: white;}#sk-container-id-1 pre{padding: 0;}#sk-container-id-1 div.sk-toggleable {background-color: white;}#sk-container-id-1 label.sk-toggleable__label {cursor: pointer;display: block;width: 100%;margin-bottom: 0;padding: 0.3em;box-sizing: border-box;text-align: center;}#sk-container-id-1 label.sk-toggleable__label-arrow:before {content: \"▸\";float: left;margin-right: 0.25em;color: #696969;}#sk-container-id-1 label.sk-toggleable__label-arrow:hover:before {color: black;}#sk-container-id-1 div.sk-estimator:hover label.sk-toggleable__label-arrow:before {color: black;}#sk-container-id-1 div.sk-toggleable__content {max-height: 0;max-width: 0;overflow: hidden;text-align: left;background-color: #f0f8ff;}#sk-container-id-1 div.sk-toggleable__content pre {margin: 0.2em;color: black;border-radius: 0.25em;background-color: #f0f8ff;}#sk-container-id-1 input.sk-toggleable__control:checked~div.sk-toggleable__content {max-height: 200px;max-width: 100%;overflow: auto;}#sk-container-id-1 input.sk-toggleable__control:checked~label.sk-toggleable__label-arrow:before {content: \"▾\";}#sk-container-id-1 div.sk-estimator input.sk-toggleable__control:checked~label.sk-toggleable__label {background-color: #d4ebff;}#sk-container-id-1 div.sk-label input.sk-toggleable__control:checked~label.sk-toggleable__label {background-color: #d4ebff;}#sk-container-id-1 input.sk-hidden--visually {border: 0;clip: rect(1px 1px 1px 1px);clip: rect(1px, 1px, 1px, 1px);height: 1px;margin: -1px;overflow: hidden;padding: 0;position: absolute;width: 1px;}#sk-container-id-1 div.sk-estimator {font-family: monospace;background-color: #f0f8ff;border: 1px dotted black;border-radius: 0.25em;box-sizing: border-box;margin-bottom: 0.5em;}#sk-container-id-1 div.sk-estimator:hover {background-color: #d4ebff;}#sk-container-id-1 div.sk-parallel-item::after {content: \"\";width: 100%;border-bottom: 1px solid gray;flex-grow: 1;}#sk-container-id-1 div.sk-label:hover label.sk-toggleable__label {background-color: #d4ebff;}#sk-container-id-1 div.sk-serial::before {content: \"\";position: absolute;border-left: 1px solid gray;box-sizing: border-box;top: 0;bottom: 0;left: 50%;z-index: 0;}#sk-container-id-1 div.sk-serial {display: flex;flex-direction: column;align-items: center;background-color: white;padding-right: 0.2em;padding-left: 0.2em;position: relative;}#sk-container-id-1 div.sk-item {position: relative;z-index: 1;}#sk-container-id-1 div.sk-parallel {display: flex;align-items: stretch;justify-content: center;background-color: white;position: relative;}#sk-container-id-1 div.sk-item::before, #sk-container-id-1 div.sk-parallel-item::before {content: \"\";position: absolute;border-left: 1px solid gray;box-sizing: border-box;top: 0;bottom: 0;left: 50%;z-index: -1;}#sk-container-id-1 div.sk-parallel-item {display: flex;flex-direction: column;z-index: 1;position: relative;background-color: white;}#sk-container-id-1 div.sk-parallel-item:first-child::after {align-self: flex-end;width: 50%;}#sk-container-id-1 div.sk-parallel-item:last-child::after {align-self: flex-start;width: 50%;}#sk-container-id-1 div.sk-parallel-item:only-child::after {width: 0;}#sk-container-id-1 div.sk-dashed-wrapped {border: 1px dashed gray;margin: 0 0.4em 0.5em 0.4em;box-sizing: border-box;padding-bottom: 0.4em;background-color: white;}#sk-container-id-1 div.sk-label label {font-family: monospace;font-weight: bold;display: inline-block;line-height: 1.2em;}#sk-container-id-1 div.sk-label-container {text-align: center;}#sk-container-id-1 div.sk-container {/* jupyter's `normalize.less` sets `[hidden] { display: none; }` but bootstrap.min.css set `[hidden] { display: none !important; }` so we also need the `!important` here to be able to override the default hidden behavior on the sphinx rendered scikit-learn.org. See: https://github.com/scikit-learn/scikit-learn/issues/21755 */display: inline-block !important;position: relative;}#sk-container-id-1 div.sk-text-repr-fallback {display: none;}</style><div id=\"sk-container-id-1\" class=\"sk-top-container\"><div class=\"sk-text-repr-fallback\"><pre>LogisticRegression()</pre><b>In a Jupyter environment, please rerun this cell to show the HTML representation or trust the notebook. <br />On GitHub, the HTML representation is unable to render, please try loading this page with nbviewer.org.</b></div><div class=\"sk-container\" hidden><div class=\"sk-item\"><div class=\"sk-estimator sk-toggleable\"><input class=\"sk-toggleable__control sk-hidden--visually\" id=\"sk-estimator-id-1\" type=\"checkbox\" checked><label for=\"sk-estimator-id-1\" class=\"sk-toggleable__label sk-toggleable__label-arrow\">LogisticRegression</label><div class=\"sk-toggleable__content\"><pre>LogisticRegression()</pre></div></div></div></div></div>"
      ],
      "text/plain": [
       "LogisticRegression()"
      ]
     },
     "execution_count": 9,
     "metadata": {},
     "output_type": "execute_result"
    }
   ],
   "source": [
    "# Fit the model\n",
    "\n",
    "# construct logistic regression\n",
    "Lreg = LogisticRegression(solver='lbfgs')\n",
    "# multinomial option is supported only by lbfgs \n",
    "#you can find it using LinearRegression?\n",
    "Lreg.fit(x_train, y_train.ravel()) \n",
    "# ravel return 1D array with all input array elements"
   ]
  },
  {
   "cell_type": "markdown",
   "id": "c8ae6360",
   "metadata": {},
   "source": [
    "Predict constructed model with test dataset"
   ]
  },
  {
   "cell_type": "code",
   "execution_count": 10,
   "id": "8fa4b45d",
   "metadata": {},
   "outputs": [
    {
     "data": {
      "text/plain": [
       "array([0, 0], dtype=int64)"
      ]
     },
     "execution_count": 10,
     "metadata": {},
     "output_type": "execute_result"
    }
   ],
   "source": [
    "y_predict = Lreg.predict(x_test)\n",
    "y_predict"
   ]
  },
  {
   "cell_type": "code",
   "execution_count": 11,
   "id": "0eb59d23",
   "metadata": {},
   "outputs": [
    {
     "data": {
      "text/plain": [
       "array([0, 0, 0, 0, 0, 0, 0, 0], dtype=int64)"
      ]
     },
     "execution_count": 11,
     "metadata": {},
     "output_type": "execute_result"
    }
   ],
   "source": [
    "# predicted output for training dataset\n",
    "y_predict_train = Lreg.predict(x_train)\n",
    "y_predict_train"
   ]
  },
  {
   "cell_type": "markdown",
   "id": "2c622a4a",
   "metadata": {},
   "source": [
    "Calculate probability of predicting data values"
   ]
  },
  {
   "cell_type": "code",
   "execution_count": 12,
   "id": "af3c6f6d",
   "metadata": {},
   "outputs": [
    {
     "data": {
      "text/plain": [
       "array([0.16896713, 0.12887125, 0.03711189, 0.13533206, 0.12920422,\n",
       "       0.1195601 , 0.10743606, 0.17353045])"
      ]
     },
     "execution_count": 12,
     "metadata": {},
     "output_type": "execute_result"
    }
   ],
   "source": [
    "# probability value for above trained dataset\n",
    "y_prob_train = Lreg.predict_proba(x_train)[:,1]\n",
    "y_prob_train\n",
    "# 8 datasets"
   ]
  },
  {
   "cell_type": "code",
   "execution_count": 13,
   "id": "bf7cdc06",
   "metadata": {},
   "outputs": [
    {
     "data": {
      "text/plain": [
       "array([0.18089415, 0.09579797])"
      ]
     },
     "execution_count": 13,
     "metadata": {},
     "output_type": "execute_result"
    }
   ],
   "source": [
    "# test dataset probability\n",
    "y_prob = Lreg.predict_proba(x_test)[:,1]\n",
    "y_prob.reshape(1,-1)\n",
    "y_prob\n",
    "# 2 datasets"
   ]
  },
  {
   "cell_type": "markdown",
   "id": "720823fe",
   "metadata": {},
   "source": [
    "Summary for Logistic model"
   ]
  },
  {
   "cell_type": "code",
   "execution_count": 14,
   "id": "c379bf93",
   "metadata": {},
   "outputs": [
    {
     "name": "stdout",
     "output_type": "stream",
     "text": [
      "Optimization terminated successfully.\n",
      "         Current function value: 0.180494\n",
      "         Iterations 10\n",
      "                           Logit Regression Results                           \n",
      "==============================================================================\n",
      "Dep. Variable:                 Coupon   No. Observations:                   10\n",
      "Model:                          Logit   Df Residuals:                        7\n",
      "Method:                           MLE   Df Model:                            2\n",
      "Date:                Wed, 23 Aug 2023   Pseudo R-squ.:                  0.6393\n",
      "Time:                        14:25:57   Log-Likelihood:                -1.8049\n",
      "converged:                       True   LL-Null:                       -5.0040\n",
      "Covariance Type:            nonrobust   LLR p-value:                   0.04080\n",
      "==============================================================================\n",
      "                 coef    std err          z      P>|z|      [0.025      0.975]\n",
      "------------------------------------------------------------------------------\n",
      "const         16.1552     14.770      1.094      0.274     -12.794      45.104\n",
      "Spending      -6.6543      6.043     -1.101      0.271     -18.498       5.190\n",
      "Card          -5.3085      5.716     -0.929      0.353     -16.511       5.894\n",
      "==============================================================================\n",
      "\n",
      "Possibly complete quasi-separation: A fraction 0.30 of observations can be\n",
      "perfectly predicted. This might indicate that there is complete\n",
      "quasi-separation. In this case some parameters will not be identified.\n"
     ]
    }
   ],
   "source": [
    "# Regression Model\n",
    "x = data[['Spending', 'Card']]\n",
    "y = data['Coupon']\n",
    "\n",
    "import statsmodels.api as sm\n",
    "x1 = sm.add_constant(x)\n",
    "logit_model = sm.Logit(y,x1)\n",
    "result = logit_model.fit()\n",
    "print(result.summary())"
   ]
  },
  {
   "cell_type": "code",
   "execution_count": 15,
   "id": "4b4b9ac2",
   "metadata": {},
   "outputs": [
    {
     "data": {
      "text/plain": [
       "0.5"
      ]
     },
     "execution_count": 15,
     "metadata": {},
     "output_type": "execute_result"
    }
   ],
   "source": [
    "# accuracy of the model\n",
    "from sklearn.metrics import accuracy_score\n",
    "score = accuracy_score(y_test, y_predict)\n",
    "score"
   ]
  },
  {
   "cell_type": "code",
   "execution_count": 16,
   "id": "69dfe3b3",
   "metadata": {},
   "outputs": [
    {
     "data": {
      "text/plain": [
       "array([[1, 0],\n",
       "       [1, 0]], dtype=int64)"
      ]
     },
     "execution_count": 16,
     "metadata": {},
     "output_type": "execute_result"
    }
   ],
   "source": [
    "# confusion matrix\n",
    "from sklearn.metrics import confusion_matrix\n",
    "confusion_matrix(y_test, y_predict)\n",
    "# [a,b]  a is true negative, b is false positive\n",
    "# [c,d]  d is true positive, 5 is false negative"
   ]
  },
  {
   "cell_type": "code",
   "execution_count": 17,
   "id": "0bc5c66e",
   "metadata": {},
   "outputs": [
    {
     "name": "stdout",
     "output_type": "stream",
     "text": [
      "True Negatives:  1\n",
      "False Positives:  0\n",
      "False Negatives:  1\n",
      "True Positives:  0\n"
     ]
    }
   ],
   "source": [
    "tn,fp,fn,tp = confusion_matrix(y_test, y_predict).ravel()\n",
    "print(\"True Negatives: \",tn)\n",
    "print(\"False Positives: \",fp)\n",
    "print(\"False Negatives: \",fn)\n",
    "print(\"True Positives: \",tp)"
   ]
  },
  {
   "cell_type": "code",
   "execution_count": 18,
   "id": "7e79c787",
   "metadata": {},
   "outputs": [
    {
     "name": "stdout",
     "output_type": "stream",
     "text": [
      "              precision    recall  f1-score   support\n",
      "\n",
      "           0       0.50      1.00      0.67         1\n",
      "           1       0.00      0.00      0.00         1\n",
      "\n",
      "    accuracy                           0.50         2\n",
      "   macro avg       0.25      0.50      0.33         2\n",
      "weighted avg       0.25      0.50      0.33         2\n",
      "\n"
     ]
    },
    {
     "name": "stderr",
     "output_type": "stream",
     "text": [
      "D:\\Anaconda3\\lib\\site-packages\\sklearn\\metrics\\_classification.py:1344: UndefinedMetricWarning: Precision and F-score are ill-defined and being set to 0.0 in labels with no predicted samples. Use `zero_division` parameter to control this behavior.\n",
      "  _warn_prf(average, modifier, msg_start, len(result))\n",
      "D:\\Anaconda3\\lib\\site-packages\\sklearn\\metrics\\_classification.py:1344: UndefinedMetricWarning: Precision and F-score are ill-defined and being set to 0.0 in labels with no predicted samples. Use `zero_division` parameter to control this behavior.\n",
      "  _warn_prf(average, modifier, msg_start, len(result))\n",
      "D:\\Anaconda3\\lib\\site-packages\\sklearn\\metrics\\_classification.py:1344: UndefinedMetricWarning: Precision and F-score are ill-defined and being set to 0.0 in labels with no predicted samples. Use `zero_division` parameter to control this behavior.\n",
      "  _warn_prf(average, modifier, msg_start, len(result))\n"
     ]
    }
   ],
   "source": [
    "# Classification Report : remember recall and support\n",
    "from sklearn.metrics import classification_report\n",
    "print(classification_report(y_test, y_predict))"
   ]
  },
  {
   "cell_type": "markdown",
   "id": "74f84755",
   "metadata": {},
   "source": [
    "Recall gives an idea about whenit's actually yes. How often does it predict yes.   \n",
    "\n",
    "Precision tells us about when it predicts yes. How often is it correct    \n",
    "\n",
    "Precision = tp/(tp+fp), for 1\n",
    "Accuracy = (tp+tn)/(tp+tn+fp+fn)\n",
    "Recall = tp/(tp+fn) for 1\n",
    "\n",
    "Recall value for 1 is called sensitivity and 0 called specificity\n",
    "\n",
    "Fmeasure=(2Recall*Precision)/(Recall+Precision)\n",
    "\n",
    "Harmonic mean of Precision and Recall is used to indicate a balance between Precision & Recall providing each equal weightage it ranges from 0 to 1. F1 Score reaches its best value at 1 (perfect precision & recall) and worst at 0"
   ]
  },
  {
   "cell_type": "markdown",
   "id": "ea85938f",
   "metadata": {},
   "source": [
    "# Lec-43 Performance Of Logistic Model"
   ]
  },
  {
   "cell_type": "code",
   "execution_count": 19,
   "id": "858f289e",
   "metadata": {},
   "outputs": [
    {
     "name": "stdout",
     "output_type": "stream",
     "text": [
      "Accuracy 0.50\n"
     ]
    }
   ],
   "source": [
    "Accuracy = (tp+tn)/(tp+tn+fp+fn)\n",
    "print(\"Accuracy {:0.2f}\".format(Accuracy))"
   ]
  },
  {
   "cell_type": "markdown",
   "id": "09418c5e",
   "metadata": {},
   "source": [
    "True Negative Rate"
   ]
  },
  {
   "cell_type": "code",
   "execution_count": 20,
   "id": "d2563bc2",
   "metadata": {},
   "outputs": [
    {
     "name": "stdout",
     "output_type": "stream",
     "text": [
      "Specificity 1.00\n"
     ]
    }
   ],
   "source": [
    "Specificity = tn/(tn+tp)\n",
    "print(\"Specificity {:0.2f}\".format(Specificity))"
   ]
  },
  {
   "cell_type": "markdown",
   "id": "58b32011",
   "metadata": {},
   "source": [
    "True Positive Rate"
   ]
  },
  {
   "cell_type": "code",
   "execution_count": 21,
   "id": "e066c031",
   "metadata": {},
   "outputs": [
    {
     "name": "stdout",
     "output_type": "stream",
     "text": [
      "Sensitivity 0.00\n"
     ]
    }
   ],
   "source": [
    "Sensitivity = tp/(tp+fn)\n",
    "print(\"Sensitivity {:0.2f}\".format(Sensitivity))"
   ]
  },
  {
   "cell_type": "markdown",
   "id": "06eefbf6",
   "metadata": {},
   "source": [
    "ROC Curve"
   ]
  },
  {
   "cell_type": "code",
   "execution_count": 22,
   "id": "6ca93835",
   "metadata": {},
   "outputs": [],
   "source": [
    "from sklearn.metrics import roc_auc_score\n",
    "from sklearn.metrics import roc_curve, auc\n",
    "log_ROC_AUC1 = roc_auc_score(y_train, y_predict_train)\n",
    "fpr1, tpr1, thresholds1 = roc_curve(y_train, y_prob_train)\n",
    "roc_auc1 = auc(fpr1,tpr1)"
   ]
  },
  {
   "cell_type": "code",
   "execution_count": 24,
   "id": "5c82f93c",
   "metadata": {},
   "outputs": [
    {
     "data": {
      "image/png": "[encoded data removed]",
      "text/plain": [
       "<Figure size 640x480 with 1 Axes>"
      ]
     },
     "metadata": {},
     "output_type": "display_data"
    }
   ],
   "source": [
    "# different false +ve and true +ve rates\n",
    "log_ROC_AUC = roc_auc_score(y_train, y_predict_train)\n",
    "fpr, tpr, thresholds = roc_curve(y_train, y_prob_train)\n",
    "roc_auc = auc(fpr,tpr)\n",
    "\n",
    "# this is our test data set\n",
    "plt.figure()\n",
    "plt.plot(fpr1,tpr1, color='blue', label='ROC curve = area(%0.2f)' % roc_auc1)\n",
    "plt.plot([0,1],[0,1],'r--')\n",
    "plt.xlim([0.0, 1.0])\n",
    "plt.ylim([0.0, 1.05])\n",
    "plt.xlabel('False Positive Rates')\n",
    "plt.ylabel('True Positive Rate')\n",
    "plt.title('Reciever operating characteristic example')\n",
    "plt.legend(loc=\"lower right\")\n",
    "plt.show()\n",
    "# for default value ROC value is blue one"
   ]
  },
  {
   "cell_type": "code",
   "execution_count": 25,
   "id": "eb83e832",
   "metadata": {},
   "outputs": [
    {
     "data": {
      "text/plain": [
       "array([0.        , 0.14285714, 0.14285714, 1.        ])"
      ]
     },
     "execution_count": 25,
     "metadata": {},
     "output_type": "execute_result"
    }
   ],
   "source": [
    "fpr\n",
    "# gives different false +ve rates"
   ]
  },
  {
   "cell_type": "code",
   "execution_count": 26,
   "id": "48a494fe",
   "metadata": {},
   "outputs": [
    {
     "data": {
      "text/plain": [
       "array([0., 0., 1., 1.])"
      ]
     },
     "execution_count": 26,
     "metadata": {},
     "output_type": "execute_result"
    }
   ],
   "source": [
    "tpr\n",
    "# gives different true positive rates\n",
    "# fpr and tpr are values of x&y-axis of ROC Curve\n",
    "# for different combinations you get different ROC values."
   ]
  },
  {
   "cell_type": "code",
   "execution_count": 27,
   "id": "e9536dae",
   "metadata": {},
   "outputs": [
    {
     "data": {
      "text/plain": [
       "array([1, 1])"
      ]
     },
     "execution_count": 27,
     "metadata": {},
     "output_type": "execute_result"
    }
   ],
   "source": [
    "# threshold values are select on which error is better. \n",
    "# We choose 35->0.35 as threshold value\n",
    "from sklearn.preprocessing import binarize\n",
    "# y_predict_class1 = binarize(y_prob.reshape(1,-1) ,0.5)[0]\n",
    "y_predict_class1 = binarize(y_prob.reshape(1,-1))[0] # it is wrong\n",
    "y_predict_class1\n",
    "\n",
    "# convert array float to int type\n",
    "y_predict_class1 = y_predict_class1.astype(int)\n",
    "y_predict_class1\n",
    "\n",
    "# if your threshold value is low everything will be predicted as positive"
   ]
  },
  {
   "cell_type": "code",
   "execution_count": 28,
   "id": "e6578384",
   "metadata": {},
   "outputs": [
    {
     "name": "stdout",
     "output_type": "stream",
     "text": [
      "[[0 1]\n",
      " [0 1]]\n"
     ]
    }
   ],
   "source": [
    "confusion_matrix_2 = confusion_matrix(y_test, y_predict_class1)\n",
    "print(confusion_matrix_2)"
   ]
  },
  {
   "cell_type": "code",
   "execution_count": 31,
   "id": "42c1cf1b",
   "metadata": {},
   "outputs": [
    {
     "data": {
      "text/plain": [
       "array([1, 1])"
      ]
     },
     "execution_count": 31,
     "metadata": {},
     "output_type": "execute_result"
    }
   ],
   "source": [
    "from sklearn.preprocessing import binarize\n",
    "#y_predict_class2 = binarize(y_prob.reshape(1,-1) ''',0.5''')[0]\n",
    "y_predict_class2 = binarize(y_prob.reshape(1,-1))[0]\n",
    "y_predict_class2\n",
    "\n",
    "# convert array float to int type\n",
    "y_predict_class2 = y_predict_class1.astype(int)\n",
    "y_predict_class2"
   ]
  },
  {
   "cell_type": "code",
   "execution_count": 32,
   "id": "8598d60a",
   "metadata": {},
   "outputs": [
    {
     "name": "stdout",
     "output_type": "stream",
     "text": [
      "[[0 1]\n",
      " [0 1]]\n"
     ]
    }
   ],
   "source": [
    "confusion_matrix_3 = confusion_matrix(y_test, y_predict_class2)\n",
    "print(confusion_matrix_3)"
   ]
  },
  {
   "cell_type": "code",
   "execution_count": 33,
   "id": "86030ba3",
   "metadata": {},
   "outputs": [
    {
     "name": "stdout",
     "output_type": "stream",
     "text": [
      "              precision    recall  f1-score   support\n",
      "\n",
      "           0       0.00      0.00      0.00         1\n",
      "           1       0.50      1.00      0.67         1\n",
      "\n",
      "    accuracy                           0.50         2\n",
      "   macro avg       0.25      0.50      0.33         2\n",
      "weighted avg       0.25      0.50      0.33         2\n",
      "\n"
     ]
    },
    {
     "name": "stderr",
     "output_type": "stream",
     "text": [
      "D:\\Anaconda3\\lib\\site-packages\\sklearn\\metrics\\_classification.py:1344: UndefinedMetricWarning: Precision and F-score are ill-defined and being set to 0.0 in labels with no predicted samples. Use `zero_division` parameter to control this behavior.\n",
      "  _warn_prf(average, modifier, msg_start, len(result))\n",
      "D:\\Anaconda3\\lib\\site-packages\\sklearn\\metrics\\_classification.py:1344: UndefinedMetricWarning: Precision and F-score are ill-defined and being set to 0.0 in labels with no predicted samples. Use `zero_division` parameter to control this behavior.\n",
      "  _warn_prf(average, modifier, msg_start, len(result))\n",
      "D:\\Anaconda3\\lib\\site-packages\\sklearn\\metrics\\_classification.py:1344: UndefinedMetricWarning: Precision and F-score are ill-defined and being set to 0.0 in labels with no predicted samples. Use `zero_division` parameter to control this behavior.\n",
      "  _warn_prf(average, modifier, msg_start, len(result))\n"
     ]
    }
   ],
   "source": [
    "# classification report\n",
    "from sklearn.metrics import classification_report\n",
    "print(classification_report(y_test, y_predict_class2))\n",
    "\n",
    "# as we increase the threshold valuetrue -ve value increases \n",
    "# and true +vevalue decreases specificity increase and sensitivity decreases"
   ]
  },
  {
   "cell_type": "markdown",
   "id": "250499e2",
   "metadata": {},
   "source": [
    "Find the optimal cut-off point(Threshold Value)"
   ]
  },
  {
   "cell_type": "code",
   "execution_count": 34,
   "id": "5ec94f79",
   "metadata": {},
   "outputs": [],
   "source": [
    "from sklearn.metrics import roc_curve, auc"
   ]
  },
  {
   "cell_type": "code",
   "execution_count": 35,
   "id": "0c2c04e5",
   "metadata": {},
   "outputs": [
    {
     "name": "stdout",
     "output_type": "stream",
     "text": [
      "Area under the ROC Curve: 1.000000\n"
     ]
    }
   ],
   "source": [
    "fpr,tpr,thresholds = roc_curve(y_test, y_prob)\n",
    "roc_auc = auc(fpr,tpr)\n",
    "print(\"Area under the ROC Curve: %f\" % roc_auc)\n",
    "# area under roc curve for optimal threshold value and nearer to 1 is better "
   ]
  },
  {
   "cell_type": "code",
   "execution_count": 38,
   "id": "780c23ff",
   "metadata": {},
   "outputs": [],
   "source": [
    "# Get the optimal threshold value\n",
    "#import numpy as np\n",
    "#i = np.arange(len(tpr)) # index for df\n",
    "#roc = pd.DataFrame(('fpr': pd.Series(fpr, index=i), 'tpr': pd.Series(tpr, index=i), '1-fpr': pd.eries(1-fpr, index=i), 'tf':pd.Series(tpr-(1-fpr), index=i),'thresholds': pd.Series(thresholds, index=i)))\n",
    "#roc.iloc[(roc.tf-0).abs().argsort()[:1]]"
   ]
  },
  {
   "cell_type": "code",
   "execution_count": 39,
   "id": "145313f7",
   "metadata": {},
   "outputs": [
    {
     "name": "stdout",
     "output_type": "stream",
     "text": [
      "   fpr  tpr  1-fpr   tf  thresholds\n",
      "1  0.0  1.0    1.0  0.0    0.180894\n"
     ]
    }
   ],
   "source": [
    "import numpy as np\n",
    "import pandas as pd\n",
    "\n",
    "# Assuming you have defined fpr, tpr, thresholds, and other required variables\n",
    "\n",
    "i = np.arange(len(tpr))  # index for df\n",
    "roc = pd.DataFrame({\n",
    "    'fpr': pd.Series(fpr, index=i),\n",
    "    'tpr': pd.Series(tpr, index=i),\n",
    "    '1-fpr': pd.Series(1 - fpr, index=i),\n",
    "    'tf': pd.Series(tpr - (1 - fpr), index=i),\n",
    "    'thresholds': pd.Series(thresholds, index=i)\n",
    "})\n",
    "\n",
    "min_tf_idx = (roc['tf'] - 0).abs().argsort()[:1]\n",
    "selected_row = roc.iloc[min_tf_idx]\n",
    "\n",
    "print(selected_row)\n"
   ]
  },
  {
   "cell_type": "code",
   "execution_count": 40,
   "id": "d41f68fe",
   "metadata": {},
   "outputs": [
    {
     "data": {
      "text/plain": [
       "[Text(-0.25, 0, ''),\n",
       " Text(0.0, 0, ''),\n",
       " Text(0.25, 0, ''),\n",
       " Text(0.5, 0, ''),\n",
       " Text(0.75, 0, ''),\n",
       " Text(1.0, 0, ''),\n",
       " Text(1.25, 0, ''),\n",
       " Text(1.5, 0, ''),\n",
       " Text(1.75, 0, ''),\n",
       " Text(2.0, 0, ''),\n",
       " Text(2.25, 0, '')]"
      ]
     },
     "execution_count": 40,
     "metadata": {},
     "output_type": "execute_result"
    },
    {
     "data": {
      "image/png": "[encoded data removed]",
      "text/plain": [
       "<Figure size 640x480 with 1 Axes>"
      ]
     },
     "metadata": {},
     "output_type": "display_data"
    }
   ],
   "source": [
    "fig, ax = plt.subplots()\n",
    "plt.plot(roc['tpr'], color='green')\n",
    "plt.plot(roc['1-fpr'], color='red')\n",
    "plt.xlabel('1-False Positive Rate')\n",
    "plt.ylabel('True Positive Rate')\n",
    "plt.title('Reciever Operating Characteristic')\n",
    "ax.set_xticklabels([])"
   ]
  },
  {
   "cell_type": "code",
   "execution_count": 41,
   "id": "2e9da702",
   "metadata": {},
   "outputs": [
    {
     "name": "stdout",
     "output_type": "stream",
     "text": [
      "[[0 1]\n",
      " [0 1]]\n",
      "              precision    recall  f1-score   support\n",
      "\n",
      "           0       0.00      0.00      0.00         1\n",
      "           1       0.50      1.00      0.67         1\n",
      "\n",
      "    accuracy                           0.50         2\n",
      "   macro avg       0.25      0.50      0.33         2\n",
      "weighted avg       0.25      0.50      0.33         2\n",
      "\n"
     ]
    },
    {
     "name": "stderr",
     "output_type": "stream",
     "text": [
      "D:\\Anaconda3\\lib\\site-packages\\sklearn\\metrics\\_classification.py:1344: UndefinedMetricWarning: Precision and F-score are ill-defined and being set to 0.0 in labels with no predicted samples. Use `zero_division` parameter to control this behavior.\n",
      "  _warn_prf(average, modifier, msg_start, len(result))\n",
      "D:\\Anaconda3\\lib\\site-packages\\sklearn\\metrics\\_classification.py:1344: UndefinedMetricWarning: Precision and F-score are ill-defined and being set to 0.0 in labels with no predicted samples. Use `zero_division` parameter to control this behavior.\n",
      "  _warn_prf(average, modifier, msg_start, len(result))\n",
      "D:\\Anaconda3\\lib\\site-packages\\sklearn\\metrics\\_classification.py:1344: UndefinedMetricWarning: Precision and F-score are ill-defined and being set to 0.0 in labels with no predicted samples. Use `zero_division` parameter to control this behavior.\n",
      "  _warn_prf(average, modifier, msg_start, len(result))\n"
     ]
    }
   ],
   "source": [
    "# draw near ROC Curve for this optimal value now \n",
    "from sklearn.preprocessing import binarize\n",
    "#y_predict_class2 = binarize(y_prob.reshape(1,-1),0.45)[0]\n",
    "y_predict_class2 = binarize(y_prob.reshape(1,-1))[0]\n",
    "y_predict_class2\n",
    "\n",
    "confusion_matrix_3 = confusion_matrix(y_test, y_predict_class2)\n",
    "print(confusion_matrix_3)\n",
    "\n",
    "from sklearn.metrics import classification_report\n",
    "print(classification_report(y_test, y_predict_class2))"
   ]
  },
  {
   "cell_type": "code",
   "execution_count": 62,
   "id": "66b96614",
   "metadata": {},
   "outputs": [],
   "source": [
    "LogisticRegression?"
   ]
  }
 ],
 "metadata": {
  "kernelspec": {
   "display_name": "Python 3 (ipykernel)",
   "language": "python",
   "name": "python3"
  },
  "language_info": {
   "codemirror_mode": {
    "name": "ipython",
    "version": 3
   },
   "file_extension": ".py",
   "mimetype": "text/x-python",
   "name": "python",
   "nbconvert_exporter": "python",
   "pygments_lexer": "ipython3",
   "version": "3.9.16"
  }
 },
 "nbformat": 4,
 "nbformat_minor": 5
}
