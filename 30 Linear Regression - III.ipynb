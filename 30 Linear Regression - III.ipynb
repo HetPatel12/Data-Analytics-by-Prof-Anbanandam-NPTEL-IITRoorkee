{
 "cells": [
  {
   "cell_type": "markdown",
   "id": "0cc619d1",
   "metadata": {},
   "source": [
    "Meaning of coefficient of determination and test statistical hypothesis and construct confidence interval and regression model parameters"
   ]
  },
  {
   "cell_type": "markdown",
   "id": "01a5d561",
   "metadata": {},
   "source": [
    "SST(Total sum of square error), SSR(Regression sum of square), SSE(Error Sum of Square)"
   ]
  },
  {
   "cell_type": "markdown",
   "id": "fced206f",
   "metadata": {},
   "source": [
    "Error which we are able to explain is independent variable x"
   ]
  },
  {
   "cell_type": "markdown",
   "id": "9e80c208",
   "metadata": {},
   "source": [
    "Coeff. Of Determination = R^2 <= 1 If "
   ]
  }
 ],
 "metadata": {
  "kernelspec": {
   "display_name": "Python 3 (ipykernel)",
   "language": "python",
   "name": "python3"
  },
  "language_info": {
   "codemirror_mode": {
    "name": "ipython",
    "version": 3
   },
   "file_extension": ".py",
   "mimetype": "text/x-python",
   "name": "python",
   "nbconvert_exporter": "python",
   "pygments_lexer": "ipython3",
   "version": "3.9.15"
  }
 },
 "nbformat": 4,
 "nbformat_minor": 5
}
