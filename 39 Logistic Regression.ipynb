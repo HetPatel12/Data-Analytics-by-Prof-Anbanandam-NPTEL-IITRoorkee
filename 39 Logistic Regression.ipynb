{
 "cells": [
  {
   "cell_type": "markdown",
   "id": "01923b54",
   "metadata": {},
   "source": [
    "Testing individual significance of all independent variable"
   ]
  },
  {
   "cell_type": "code",
   "execution_count": 1,
   "id": "3253a900",
   "metadata": {},
   "outputs": [],
   "source": [
    "# chi-sq value of g-statistics\n",
    "import scipy\n",
    "from scipy.stats import chi2"
   ]
  },
  {
   "cell_type": "code",
   "execution_count": 2,
   "id": "a4d29ac8",
   "metadata": {},
   "outputs": [
    {
     "data": {
      "text/plain": [
       "0.000549145469075383"
      ]
     },
     "execution_count": 2,
     "metadata": {},
     "output_type": "execute_result"
    }
   ],
   "source": [
    "chi2.pdf(13.628, 2) #(G-value, degrees of freedom(no. of indepenent variable))\n",
    "# p-value is output and it is very low and model is significant"
   ]
  },
  {
   "cell_type": "code",
   "execution_count": null,
   "id": "f34540ff",
   "metadata": {},
   "outputs": [],
   "source": [
    "\n"
   ]
  }
 ],
 "metadata": {
  "kernelspec": {
   "display_name": "Python 3 (ipykernel)",
   "language": "python",
   "name": "python3"
  },
  "language_info": {
   "codemirror_mode": {
    "name": "ipython",
    "version": 3
   },
   "file_extension": ".py",
   "mimetype": "text/x-python",
   "name": "python",
   "nbconvert_exporter": "python",
   "pygments_lexer": "ipython3",
   "version": "3.9.16"
  }
 },
 "nbformat": 4,
 "nbformat_minor": 5
}
