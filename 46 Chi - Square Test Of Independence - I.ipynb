{
 "cells": [
  {
   "cell_type": "markdown",
   "id": "dc56fecd",
   "metadata": {},
   "source": [
    "It has 2 applications: one to test the independence and 2nd to test goodness of fit."
   ]
  },
  {
   "cell_type": "markdown",
   "id": "63237474",
   "metadata": {},
   "source": [
    "When to go for Chi^2 test: There are diff types of data: nominal, ordinal, interval raio. Whenever the data is nominal or ordinal go for chi-square test. Bcoz data which are nominal in nature cant go for z-test, t-test, anova and even regression cant be done."
   ]
  },
  {
   "cell_type": "markdown",
   "id": "454f1765",
   "metadata": {},
   "source": [
    "Screenshot(1880)\n",
    "\n",
    "How this connetion has connection with other test: Eg. We have studied a sample t-test suppose there was a sample1 then with the help of xbar we predi ted mu. After that we have done one sample z-test on sample1.Here we can say 1 sample proportion test, 1 sample z-proportion test \n",
    "\n",
    "Whenever there is a 2 population sample1 and sample2: we have done 2 sample z-test and t-test. Here we can also go for 2 sample proportion z-test\n",
    "\n",
    "When there are more than 2 populations: Go for ANOVA. Go for chi-square test\n",
    "\n",
    "\n",
    "If there are 2 sample mean instead of using 2 samplez-test you can use ANOVA also. You get same result"
   ]
  },
  {
   "cell_type": "markdown",
   "id": "bc18e02b",
   "metadata": {},
   "source": [
    "ScreenShot(1881)\n",
    "\n",
    "When there is a qualitative variables ie, the nominal data we should go for test of independence. Heree we'll have 2 category. In contigency table, there will be some value in row, column. So we are going to see whether these are dependent or independent"
   ]
  },
  {
   "cell_type": "code",
   "execution_count": 2,
   "id": "1e8c1527",
   "metadata": {},
   "outputs": [],
   "source": [
    "import numpy\n",
    "import pandas\n",
    "from scipy import stats"
   ]
  },
  {
   "cell_type": "code",
   "execution_count": 3,
   "id": "36c7194f",
   "metadata": {},
   "outputs": [
    {
     "data": {
      "text/plain": [
       "16.811893829770927"
      ]
     },
     "execution_count": 3,
     "metadata": {},
     "output_type": "execute_result"
    }
   ],
   "source": [
    "# chi2 test\n",
    "stats.chi2.ppf(0.99,6) # (1-alpha, degrees of freedom)"
   ]
  },
  {
   "cell_type": "markdown",
   "id": "7baa454e",
   "metadata": {},
   "source": [
    "valus inside the cell is observed frequency.\n",
    "\n",
    "eij gives expected frequency"
   ]
  },
  {
   "cell_type": "code",
   "execution_count": null,
   "id": "9c18c1e3",
   "metadata": {},
   "outputs": [],
   "source": []
  }
 ],
 "metadata": {
  "kernelspec": {
   "display_name": "Python 3 (ipykernel)",
   "language": "python",
   "name": "python3"
  },
  "language_info": {
   "codemirror_mode": {
    "name": "ipython",
    "version": 3
   },
   "file_extension": ".py",
   "mimetype": "text/x-python",
   "name": "python",
   "nbconvert_exporter": "python",
   "pygments_lexer": "ipython3",
   "version": "3.9.16"
  }
 },
 "nbformat": 4,
 "nbformat_minor": 5
}
