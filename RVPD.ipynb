{
 "cells": [
  {
   "cell_type": "code",
   "execution_count": 1,
   "metadata": {},
   "outputs": [],
   "source": [
    "from scipy import stats"
   ]
  },
  {
   "cell_type": "markdown",
   "metadata": {},
   "source": [
    "You are a teacher, and you have collected exam scores from a class of 30 students. The scores \n",
    "follow a normal distribution with a mean of 75 and a standard deviation of 10. \n",
    "a. What is the probability that a randomly selected student scored above 85?  \n",
    "b. If you were to select a random sample of 10 students from this class, what is the probability that \n",
    "their average score is below 70? "
   ]
  },
  {
   "cell_type": "code",
   "execution_count": 2,
   "metadata": {},
   "outputs": [
    {
     "name": "stdout",
     "output_type": "stream",
     "text": [
      "1.0\n",
      "0.15865525393145707\n"
     ]
    }
   ],
   "source": [
    "X = 85 \n",
    "mu = 75\n",
    "sigma = 10\n",
    "z = (X-mu)/sigma\n",
    "print(z)\n",
    "p = 1-stats.norm.cdf(85,75,10)\n",
    "print(p)"
   ]
  },
  {
   "cell_type": "markdown",
   "metadata": {},
   "source": [
    "In a factory, 95% of manufactured items are of acceptable quality (success), while 5% are defective \n",
    "(failure). If you randomly select 10 items for inspection: \n",
    "a. What is the probability that exactly 3 of them are defective?  \n",
    "b. Calculate the mean and standard deviation of the number of defective items in a sample of 10. "
   ]
  },
  {
   "cell_type": "code",
   "execution_count": 5,
   "metadata": {},
   "outputs": [
    {
     "name": "stdout",
     "output_type": "stream",
     "text": [
      "0.010475059441406236\n",
      "0.5\n",
      "0.689202437604511\n"
     ]
    }
   ],
   "source": [
    "n = 10  \n",
    "k = 3   \n",
    "p = 0.05  \n",
    "\n",
    "# Probability of exactly k defective items\n",
    "probability = stats.binom.pmf(k, n, p)\n",
    "print(probability)\n",
    "\n",
    "# Mean and standard deviation\n",
    "mean = n * p\n",
    "std_deviation = (n * p * (1 - p)) ** 0.5\n",
    "print(mean)\n",
    "print(std_deviation)\n"
   ]
  },
  {
   "cell_type": "markdown",
   "metadata": {},
   "source": [
    "Assume that the heights of a population of adults follow a normal distribution with a mean of 170 \n",
    "cm and a standard deviation of 10 cm.\n",
    "a. What percentage of the population is taller than 180 cm?  \n",
    "b. If you randomly select three individuals from this population, what is the probability that at least \n",
    "one of them is shorter than 160 cm?"
   ]
  },
  {
   "cell_type": "code",
   "execution_count": 7,
   "metadata": {},
   "outputs": [
    {
     "name": "stdout",
     "output_type": "stream",
     "text": [
      "0.15865525393145707\n",
      "0.15865525393145707\n",
      "0.5955551179314644\n",
      "0.40444488206853557\n"
     ]
    }
   ],
   "source": [
    "a = 1-stats.norm.cdf(180,170,10)\n",
    "print(a)\n",
    "bLessThan160 = stats.norm.cdf(160,170,10)\n",
    "print(bLessThan160)\n",
    "\n",
    "bNoneShorterThan160 = (1-bLessThan160)**3\n",
    "print(bNoneShorterThan160)\n",
    "\n",
    "bAtleastOneShorterThan160 = 1-bNoneShorterThan160\n",
    "print(bAtleastOneShorterThan160)"
   ]
  },
  {
   "cell_type": "markdown",
   "metadata": {},
   "source": [
    "You are monitoring the time between customer arrivals at a store, and it follows an exponential \n",
    "distribution with an average rate of 4 arrivals per hour. \n",
    "a. What is the probability that the time between two arrivals is less than 10 minutes (1/6 of an \n",
    "hour)?  \n",
    "b. Calculate the mean waiting time until the next customer arrives."
   ]
  },
  {
   "cell_type": "code",
   "execution_count": 10,
   "metadata": {},
   "outputs": [
    {
     "data": {
      "text/plain": [
       "0.0"
      ]
     },
     "execution_count": 10,
     "metadata": {},
     "output_type": "execute_result"
    }
   ],
   "source": [
    "stats.expon.cdf(10/60,1/4)"
   ]
  },
  {
   "cell_type": "code",
   "execution_count": 15,
   "metadata": {},
   "outputs": [
    {
     "name": "stdout",
     "output_type": "stream",
     "text": [
      "0.486582880967408\n",
      "0.25\n"
     ]
    }
   ],
   "source": [
    "lamda = 4  \n",
    "timeInterval= 10  \n",
    "\n",
    "a = timeInterval / 60\n",
    "b = 1 / lamda\n",
    "ansA = stats.expon.cdf(a, scale=b)\n",
    "print(ansA)\n",
    "\n",
    "ansB = b\n",
    "print(b)"
   ]
  },
  {
   "cell_type": "markdown",
   "metadata": {},
   "source": [
    "You are conducting a random survey, and participants are asked to pick a random number between \n",
    "1 and 100. \n",
    "a. Define a random variable W that represents the number chosen by a participant.  \n",
    "b. What is the probability density function (PDF) for random variable W within the given range? \n",
    "c. Calculate the probability that a participant selects a number between 30 and 50."
   ]
  },
  {
   "cell_type": "code",
   "execution_count": 16,
   "metadata": {},
   "outputs": [
    {
     "name": "stdout",
     "output_type": "stream",
     "text": [
      "30 to 50: 0.21212121212121215\n"
     ]
    }
   ],
   "source": [
    "lower_bound = 30\n",
    "upper_bound = 50\n",
    "\n",
    "a = 1   \n",
    "b = 100 \n",
    "\n",
    "pBw30to50 = stats.uniform.cdf(upper_bound, loc=a, scale=b - a) - stats.uniform.cdf(lower_bound - 1, loc=a, scale=b - a)\n",
    "print(f\"{lower_bound} to {upper_bound}: {pBw30to50}\")\n"
   ]
  },
  {
   "cell_type": "markdown",
   "metadata": {},
   "source": [
    "You are playing a game of darts, and the probability of hitting the bullseye on each throw is 0.2. \n",
    "a. Define a random variable Z that represents the number of throws until you hit the bullseye for \n",
    "the first time.  \n",
    "b. Calculate the probability mass function (PMF) for random variable Z.  \n",
    "c. What is the expected number of throws until you hit the bullseye for the first time? "
   ]
  },
  {
   "cell_type": "code",
   "execution_count": 17,
   "metadata": {},
   "outputs": [
    {
     "name": "stdout",
     "output_type": "stream",
     "text": [
      "a. PMF for Z (number of throws until the first bullseye):\n",
      "P(Z = 1) = 0.2\n",
      "P(Z = 2) = 0.16000000000000003\n",
      "P(Z = 3) = 0.12800000000000003\n",
      "P(Z = 4) = 0.10240000000000003\n",
      "P(Z = 5) = 0.08192000000000002\n",
      "P(Z = 6) = 0.06553600000000002\n",
      "P(Z = 7) = 0.052428800000000025\n",
      "P(Z = 8) = 0.041943040000000015\n",
      "P(Z = 9) = 0.033554432000000016\n",
      "P(Z = 10) = 0.026843545600000015\n",
      "P(Z = 11) = 0.021474836480000013\n",
      "P(Z = 12) = 0.01717986918400001\n",
      "P(Z = 13) = 0.013743895347200009\n",
      "P(Z = 14) = 0.010995116277760009\n",
      "P(Z = 15) = 0.008796093022208008\n",
      "P(Z = 16) = 0.007036874417766407\n",
      "P(Z = 17) = 0.005629499534213125\n",
      "P(Z = 18) = 0.004503599627370501\n",
      "P(Z = 19) = 0.0036028797018964006\n",
      "P(Z = 20) = 0.0028823037615171208\n",
      "\n",
      "c. Expected number of throws until the first bullseye: 5.0\n"
     ]
    }
   ],
   "source": [
    "p = 0.2\n",
    "geometric_dist = stats.geom(p)\n",
    "\n",
    "pmf_values = [geometric_dist.pmf(k) for k in range(1, 21)]\n",
    "expected_value = geometric_dist.mean()\n",
    "\n",
    "print(\"a. PMF for Z (number of throws until the first bullseye):\")\n",
    "for k, pmf in enumerate(pmf_values, start=1):\n",
    "    print(f\"P(Z = {k}) = {pmf}\")\n",
    "\n",
    "print(f\"\\nc. Expected number of throws until the first bullseye: {expected_value}\")"
   ]
  },
  {
   "cell_type": "code",
   "execution_count": null,
   "metadata": {},
   "outputs": [],
   "source": []
  }
 ],
 "metadata": {
  "kernelspec": {
   "display_name": "Python 3 (ipykernel)",
   "language": "python",
   "name": "python3"
  },
  "language_info": {
   "codemirror_mode": {
    "name": "ipython",
    "version": 3
   },
   "file_extension": ".py",
   "mimetype": "text/x-python",
   "name": "python",
   "nbconvert_exporter": "python",
   "pygments_lexer": "ipython3",
   "version": "3.11.4"
  }
 },
 "nbformat": 4,
 "nbformat_minor": 2
}
