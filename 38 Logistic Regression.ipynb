{
 "cells": [
  {
   "cell_type": "markdown",
   "id": "a3511efe",
   "metadata": {},
   "source": [
    "When we do linear regression both independent and dependent varible are continuous. When in independent variable there is a categorical data, we have used dummy variable regression. There may be even a chance even in the dependent variable, there may be some categorical variable. In that case, we go for logistic regression."
   ]
  },
  {
   "cell_type": "markdown",
   "id": "247fdb96",
   "metadata": {},
   "source": [
    "Do not refer this for practical it is showing wrong graph as excel sheet contains only 10 Customer dataset instead of 100 (as per video lecture)."
   ]
  },
  {
   "cell_type": "code",
   "execution_count": 1,
   "id": "58fe2ff1",
   "metadata": {},
   "outputs": [],
   "source": [
    "import numpy as np\n",
    "from scipy.optimize import minimize\n",
    "import scipy.stats as stats\n",
    "import pandas as pd\n",
    "import statsmodels.api as sm\n",
    "import matplotlib.pyplot as plt\n",
    "# i just have 10 datas of 100 so my ans will be inaccurate as per lecture"
   ]
  },
  {
   "cell_type": "code",
   "execution_count": 3,
   "id": "e1e2c927",
   "metadata": {},
   "outputs": [
    {
     "data": {
      "text/html": [
       "<div>\n",
       "<style scoped>\n",
       "    .dataframe tbody tr th:only-of-type {\n",
       "        vertical-align: middle;\n",
       "    }\n",
       "\n",
       "    .dataframe tbody tr th {\n",
       "        vertical-align: top;\n",
       "    }\n",
       "\n",
       "    .dataframe thead th {\n",
       "        text-align: right;\n",
       "    }\n",
       "</style>\n",
       "<table border=\"1\" class=\"dataframe\">\n",
       "  <thead>\n",
       "    <tr style=\"text-align: right;\">\n",
       "      <th></th>\n",
       "      <th>Customer</th>\n",
       "      <th>Spending</th>\n",
       "      <th>Card</th>\n",
       "      <th>Coupon</th>\n",
       "    </tr>\n",
       "  </thead>\n",
       "  <tbody>\n",
       "    <tr>\n",
       "      <th>0</th>\n",
       "      <td>1</td>\n",
       "      <td>2.291</td>\n",
       "      <td>1</td>\n",
       "      <td>0</td>\n",
       "    </tr>\n",
       "    <tr>\n",
       "      <th>1</th>\n",
       "      <td>2</td>\n",
       "      <td>3.215</td>\n",
       "      <td>1</td>\n",
       "      <td>0</td>\n",
       "    </tr>\n",
       "    <tr>\n",
       "      <th>2</th>\n",
       "      <td>3</td>\n",
       "      <td>2.135</td>\n",
       "      <td>1</td>\n",
       "      <td>0</td>\n",
       "    </tr>\n",
       "    <tr>\n",
       "      <th>3</th>\n",
       "      <td>4</td>\n",
       "      <td>3.924</td>\n",
       "      <td>0</td>\n",
       "      <td>0</td>\n",
       "    </tr>\n",
       "    <tr>\n",
       "      <th>4</th>\n",
       "      <td>5</td>\n",
       "      <td>2.528</td>\n",
       "      <td>1</td>\n",
       "      <td>0</td>\n",
       "    </tr>\n",
       "    <tr>\n",
       "      <th>5</th>\n",
       "      <td>6</td>\n",
       "      <td>2.473</td>\n",
       "      <td>0</td>\n",
       "      <td>1</td>\n",
       "    </tr>\n",
       "    <tr>\n",
       "      <th>6</th>\n",
       "      <td>7</td>\n",
       "      <td>2.384</td>\n",
       "      <td>0</td>\n",
       "      <td>0</td>\n",
       "    </tr>\n",
       "    <tr>\n",
       "      <th>7</th>\n",
       "      <td>8</td>\n",
       "      <td>7.076</td>\n",
       "      <td>0</td>\n",
       "      <td>0</td>\n",
       "    </tr>\n",
       "    <tr>\n",
       "      <th>8</th>\n",
       "      <td>9</td>\n",
       "      <td>1.182</td>\n",
       "      <td>1</td>\n",
       "      <td>1</td>\n",
       "    </tr>\n",
       "    <tr>\n",
       "      <th>9</th>\n",
       "      <td>10</td>\n",
       "      <td>3.345</td>\n",
       "      <td>0</td>\n",
       "      <td>0</td>\n",
       "    </tr>\n",
       "  </tbody>\n",
       "</table>\n",
       "</div>"
      ],
      "text/plain": [
       "   Customer  Spending  Card  Coupon\n",
       "0         1     2.291     1       0\n",
       "1         2     3.215     1       0\n",
       "2         3     2.135     1       0\n",
       "3         4     3.924     0       0\n",
       "4         5     2.528     1       0\n",
       "5         6     2.473     0       1\n",
       "6         7     2.384     0       0\n",
       "7         8     7.076     0       0\n",
       "8         9     1.182     1       1\n",
       "9        10     3.345     0       0"
      ]
     },
     "execution_count": 3,
     "metadata": {},
     "output_type": "execute_result"
    }
   ],
   "source": [
    "df = pd.read_excel('logreg.xlsx')\n",
    "df"
   ]
  },
  {
   "cell_type": "code",
   "execution_count": 4,
   "id": "25f63071",
   "metadata": {},
   "outputs": [
    {
     "data": {
      "text/plain": [
       "<matplotlib.collections.PathCollection at 0x2065719de80>"
      ]
     },
     "execution_count": 4,
     "metadata": {},
     "output_type": "execute_result"
    },
    {
     "data": {
      "image/png": "[encoded data removed]",
      "text/plain": [
       "<Figure size 640x480 with 1 Axes>"
      ]
     },
     "metadata": {},
     "output_type": "display_data"
    }
   ],
   "source": [
    "plt.scatter(df.Spending, df.Coupon, marker=\"+\", color=\"red\")"
   ]
  },
  {
   "cell_type": "code",
   "execution_count": 6,
   "id": "bbefef94",
   "metadata": {},
   "outputs": [
    {
     "name": "stdout",
     "output_type": "stream",
     "text": [
      "Optimization terminated successfully.\n",
      "         Current function value: 0.180494\n",
      "         Iterations 10\n",
      "                        Results: Logit\n",
      "===============================================================\n",
      "Model:              Logit            Pseudo R-squared: 0.639   \n",
      "Dependent Variable: Coupon           AIC:              9.6099  \n",
      "Date:               2023-01-06 10:07 BIC:              10.5176 \n",
      "No. Observations:   10               Log-Likelihood:   -1.8049 \n",
      "Df Model:           2                LL-Null:          -5.0040 \n",
      "Df Residuals:       7                LLR p-value:      0.040800\n",
      "Converged:          1.0000           Scale:            1.0000  \n",
      "No. Iterations:     10.0000                                    \n",
      "----------------------------------------------------------------\n",
      "            Coef.   Std.Err.     z     P>|z|    [0.025    0.975]\n",
      "----------------------------------------------------------------\n",
      "const      16.1552   14.7701   1.0938  0.2741  -12.7936  45.1040\n",
      "Card       -5.3085    5.7157  -0.9288  0.3530  -16.5111   5.8941\n",
      "Spending   -6.6543    6.0429  -1.1012  0.2708  -18.4982   5.1897\n",
      "===============================================================\n",
      "\n"
     ]
    }
   ],
   "source": [
    "x = df[['Card','Spending']]\n",
    "y = df['Coupon']\n",
    "\n",
    "import statsmodels.api as sm\n",
    "x1 = sm.add_constant(x)\n",
    "logit_model = sm.Logit(y,x1)\n",
    "result = logit_model.fit()\n",
    "print(result.summary2())"
   ]
  },
  {
   "cell_type": "code",
   "execution_count": null,
   "id": "11679de0",
   "metadata": {},
   "outputs": [],
   "source": []
  }
 ],
 "metadata": {
  "kernelspec": {
   "display_name": "Python 3 (ipykernel)",
   "language": "python",
   "name": "python3"
  },
  "language_info": {
   "codemirror_mode": {
    "name": "ipython",
    "version": 3
   },
   "file_extension": ".py",
   "mimetype": "text/x-python",
   "name": "python",
   "nbconvert_exporter": "python",
   "pygments_lexer": "ipython3",
   "version": "3.9.16"
  }
 },
 "nbformat": 4,
 "nbformat_minor": 5
}
