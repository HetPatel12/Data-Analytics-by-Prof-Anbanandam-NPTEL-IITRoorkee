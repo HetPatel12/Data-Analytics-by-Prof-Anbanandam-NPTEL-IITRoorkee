{
 "cells": [
  {
   "cell_type": "code",
   "execution_count": 1,
   "id": "e32db0bc",
   "metadata": {},
   "outputs": [],
   "source": [
    "import pandas as pd\n",
    "import numpy as np\n",
    "import math\n",
    "from scipy import stats"
   ]
  },
  {
   "cell_type": "markdown",
   "id": "4f38e858",
   "metadata": {},
   "source": [
    "sigma1 and sigma2 are known"
   ]
  },
  {
   "cell_type": "code",
   "execution_count": 2,
   "id": "e3e67b44",
   "metadata": {},
   "outputs": [],
   "source": [
    "def zp(x1,x2,sigma1,sigma2,n1,n2):\n",
    "    z = (x1-x2)/(math.sqrt(((sigma1**2)/n1)+((sigma2**2)/n2)))\n",
    "    if(z<0):\n",
    "        p = stats.norm.cdf(z) # lhs area\n",
    "    else:\n",
    "        p = 1-stats.norm.cdf(z) # rhs area\n",
    "    \n",
    "    print(z,p)"
   ]
  },
  {
   "cell_type": "code",
   "execution_count": 3,
   "id": "7b355cf7",
   "metadata": {},
   "outputs": [
    {
     "name": "stdout",
     "output_type": "stream",
     "text": [
      "2.5155764746872635 0.00594189462107364\n"
     ]
    }
   ],
   "source": [
    "zp(121,112,8,8,10,10)"
   ]
  },
  {
   "cell_type": "markdown",
   "id": "f8f4469c",
   "metadata": {},
   "source": [
    "sigma1^2 and sigma2^2 unknown, assumed equal"
   ]
  },
  {
   "cell_type": "markdown",
   "id": "783ccb1a",
   "metadata": {},
   "source": [
    "Lec-20 25:52"
   ]
  },
  {
   "cell_type": "code",
   "execution_count": 4,
   "id": "5db79e80",
   "metadata": {},
   "outputs": [],
   "source": [
    "b = [89.19,90.05,90.46,93.21,97.19,97.04,91.07,92.75]\n",
    "a = [91.5,94.18,92.18,95.39,91.79,89.07,94.72,89.21]"
   ]
  },
  {
   "cell_type": "code",
   "execution_count": 5,
   "id": "16242907",
   "metadata": {},
   "outputs": [
    {
     "data": {
      "text/plain": [
       "Ttest_indResult(statistic=-0.26524493759007167, pvalue=0.7946864078466069)"
      ]
     },
     "execution_count": 5,
     "metadata": {},
     "output_type": "execute_result"
    }
   ],
   "source": [
    "stats.ttest_ind(a,b,equal_var = True)"
   ]
  },
  {
   "cell_type": "code",
   "execution_count": 6,
   "id": "2ceb7999",
   "metadata": {},
   "outputs": [
    {
     "data": {
      "text/plain": [
       "-2.1447866879169277"
      ]
     },
     "execution_count": 6,
     "metadata": {},
     "output_type": "execute_result"
    }
   ],
   "source": [
    "stats.t.ppf(0.025,14) # critical t-value \n",
    "# alpha/2, n1+n2-2"
   ]
  },
  {
   "cell_type": "markdown",
   "id": "4c06f478",
   "metadata": {},
   "source": [
    "t-value is -2.14 and our test statsistics is -0.35 lying on acceptance region"
   ]
  },
  {
   "cell_type": "markdown",
   "id": "9dd01d38",
   "metadata": {},
   "source": [
    "Summary\n",
    "3 Types of problems:\n",
    "1) sigma1^2 and sigma2^2 known: compared to mean           \n",
    "2) sigma1^2 and sigma2^2 unknown and equal variance: Z&T-Test           \n",
    "3) sigma1^2 and sigma2^2 unknown and not equal variance: Lec-21            \n",
    "\n",
    "If you want to know diff bw 2 population variance: add 2 variance\n"
   ]
  },
  {
   "cell_type": "markdown",
   "id": "adaad11c",
   "metadata": {},
   "source": [
    "# Lec-21"
   ]
  },
  {
   "cell_type": "code",
   "execution_count": 8,
   "id": "10469f8b",
   "metadata": {},
   "outputs": [
    {
     "data": {
      "text/plain": [
       "-2.160368656461013"
      ]
     },
     "execution_count": 8,
     "metadata": {},
     "output_type": "execute_result"
    }
   ],
   "source": [
    "stats.t.ppf(0.025,13) # critical t-value (area on lhs, degrees of freedom)"
   ]
  },
  {
   "cell_type": "code",
   "execution_count": 9,
   "id": "921d6985",
   "metadata": {},
   "outputs": [],
   "source": [
    "metro = [3,7,25,10,15,6,12,25,15,7]\n",
    "rural = [48,44,40,38,33,21,20,12,1,18]"
   ]
  },
  {
   "cell_type": "code",
   "execution_count": 10,
   "id": "7445cf0d",
   "metadata": {},
   "outputs": [
    {
     "data": {
      "text/plain": [
       "Ttest_indResult(statistic=-2.7669395785560553, pvalue=0.0158272848161009)"
      ]
     },
     "execution_count": 10,
     "metadata": {},
     "output_type": "execute_result"
    }
   ],
   "source": [
    "stats.ttest_ind(metro,rural,equal_var=False) # 2-tailed test \n",
    "# reject null hypothesis, p-value compared to alpha is very small"
   ]
  },
  {
   "cell_type": "code",
   "execution_count": 11,
   "id": "a5e2e64b",
   "metadata": {},
   "outputs": [],
   "source": [
    "# Inferences about the diff bw 2 population means: matched samples\n",
    "KARL = [1.186,1.151,1.322,1.339,1.200,1.402,1.365,1.537,1.559]\n",
    "LEH = [1.061,0.992,1.063,1.062,1.065,1.178,1.037,1.086,1.052]"
   ]
  },
  {
   "cell_type": "code",
   "execution_count": 12,
   "id": "12aab3b6",
   "metadata": {},
   "outputs": [
    {
     "data": {
      "text/plain": [
       "Ttest_relResult(statistic=6.0819394375848255, pvalue=0.00029529546278604066)"
      ]
     },
     "execution_count": 12,
     "metadata": {},
     "output_type": "execute_result"
    }
   ],
   "source": [
    "stats.ttest_rel(KARL,LEH)\n",
    "# _rel means relative so that dependent sample so called the variable \n",
    "# you will get t-value and p-value<alpha So reject null hypothesis"
   ]
  },
  {
   "cell_type": "code",
   "execution_count": 13,
   "id": "08b08f17",
   "metadata": {},
   "outputs": [],
   "source": [
    "# Lec-21 21:30\n",
    "import math\n",
    "def two_samp_prop(p1,p2,n1,n2):\n",
    "    p_pool = ((p1*n1)+(p2*n2))/(n1+n2) # pooled proportion\n",
    "    x = (p_pool*(1-p_pool)*((1/n1)+(1/n2)))\n",
    "    s = math.sqrt(x)\n",
    "    z = (p1-p2)/s\n",
    "    if(z<0):\n",
    "        p_val = stats.norm.cdf(z)\n",
    "    else:\n",
    "        p_val = 1 - stats.norm.cdf(z)\n",
    "    return z, p_val*2"
   ]
  },
  {
   "cell_type": "code",
   "execution_count": 14,
   "id": "f1721995",
   "metadata": {},
   "outputs": [
    {
     "data": {
      "text/plain": [
       "(1.3442056254198995, 0.17888190308175567)"
      ]
     },
     "execution_count": 14,
     "metadata": {},
     "output_type": "execute_result"
    }
   ],
   "source": [
    "two_samp_prop(0.27,0.19,100,100)\n",
    "# Output: t-value,p-value \n",
    "# Accept null hypothesis"
   ]
  },
  {
   "cell_type": "code",
   "execution_count": 15,
   "id": "e3c2b29d",
   "metadata": {},
   "outputs": [
    {
     "data": {
      "text/plain": [
       "0.9105590484591222"
      ]
     },
     "execution_count": 15,
     "metadata": {},
     "output_type": "execute_result"
    }
   ],
   "source": [
    "# z-critical value\n",
    "stats.norm.cdf(1.3442056254198995)"
   ]
  },
  {
   "cell_type": "markdown",
   "id": "9f24a735",
   "metadata": {},
   "source": [
    "Next lecture: 2 population variance"
   ]
  },
  {
   "cell_type": "markdown",
   "id": "5a55a2aa",
   "metadata": {},
   "source": [
    "# Lec-22"
   ]
  },
  {
   "cell_type": "code",
   "execution_count": 16,
   "id": "2f156d95",
   "metadata": {},
   "outputs": [],
   "source": [
    "import scipy"
   ]
  },
  {
   "cell_type": "code",
   "execution_count": 17,
   "id": "824a21a1",
   "metadata": {},
   "outputs": [
    {
     "data": {
      "text/plain": [
       "2.8450165269958436"
      ]
     },
     "execution_count": 17,
     "metadata": {},
     "output_type": "execute_result"
    }
   ],
   "source": [
    "# Lec-22 11:12 or \n",
    "# upper limit\n",
    "scipy.stats.f.ppf(q=1-0.05, dfn=15, dfd=10)\n",
    "# dfd: denominator degrees of freedom\n",
    "# q: probability\n",
    "# dfn: numerated degrees of freedom"
   ]
  },
  {
   "cell_type": "code",
   "execution_count": 18,
   "id": "96708780",
   "metadata": {},
   "outputs": [
    {
     "data": {
      "text/plain": [
       "0.3931252536255495"
      ]
     },
     "execution_count": 18,
     "metadata": {},
     "output_type": "execute_result"
    }
   ],
   "source": [
    "# lower limit\n",
    "scipy.stats.f.ppf(q=0.05, dfn=15, dfd=10)"
   ]
  },
  {
   "cell_type": "markdown",
   "id": "9973d5a8",
   "metadata": {},
   "source": [
    "F-Test Example"
   ]
  },
  {
   "cell_type": "code",
   "execution_count": 19,
   "id": "65ab81cc",
   "metadata": {},
   "outputs": [],
   "source": [
    "# X & Y 2 populations are given\n",
    "# Null Hypothesis: H0 -> (sigma(x))^2=(sigma(y))^2\n",
    "# Alternative Hypothesis: H1 -> (sigma(x))^2 != (sigma(y))^2\n",
    "# alpha = 5% = 0.05\n",
    "X = [3,7,25,10,15,6,12,25,15,7]\n",
    "Y = [48,44,40,48,33,21,20,12,1,18]\n",
    "# import numpy if not imported"
   ]
  },
  {
   "cell_type": "code",
   "execution_count": 20,
   "id": "4ee5920b",
   "metadata": {},
   "outputs": [],
   "source": [
    "# Ratio\n",
    "F = np.var(X)/np.var(Y)\n",
    "# numerator degrees of freedom\n",
    "dfn = len(X) - 1 #len(X) tell you no. of elements in array and -1 to get degrees of freedom\n",
    "# denominator degrees of freedom\n",
    "dfd = len(Y) - 1"
   ]
  },
  {
   "cell_type": "code",
   "execution_count": 21,
   "id": "246b255e",
   "metadata": {},
   "outputs": [
    {
     "data": {
      "text/plain": [
       "0.016274823086223054"
      ]
     },
     "execution_count": 21,
     "metadata": {},
     "output_type": "execute_result"
    }
   ],
   "source": [
    "p_value = scipy.stats.f.cdf(F,dfn,dfd)\n",
    "p_value"
   ]
  },
  {
   "cell_type": "markdown",
   "id": "888e9696",
   "metadata": {},
   "source": [
    "Whenever degrees of freedom is increasing it behave like z-distribution ie, when mountainuous graph is 'narrow and high (z-test behavior)' not 'broad and short (t-test behavior)' "
   ]
  },
  {
   "cell_type": "code",
   "execution_count": 22,
   "id": "2fd0acd9",
   "metadata": {},
   "outputs": [],
   "source": [
    "# Lec-22 22:19 or ScreenShot(877)\n",
    "# pandas, numpy, stats from scipy and math\n",
    "def samplesize(alpha,beta,mu1,mu2,sigma):\n",
    "    z1 = -1*stats.norm.ppf(alpha)\n",
    "    z2 = -1*stats.norm.ppf(beta)\n",
    "    n = (((z1+z2)**2)*(sigma**2))/((mu1-mu2)**2)\n",
    "    # z1 is sigma1 and z2 is sigma2\n",
    "    print(n)"
   ]
  },
  {
   "cell_type": "code",
   "execution_count": 23,
   "id": "7ae3a65f",
   "metadata": {},
   "outputs": [
    {
     "name": "stdout",
     "output_type": "stream",
     "text": [
      "155.900083325938\n"
     ]
    }
   ],
   "source": [
    "samplesize(0.05,0.1,12,12.75,3.2)"
   ]
  },
  {
   "cell_type": "markdown",
   "id": "e63e98b6",
   "metadata": {},
   "source": [
    "Compared 2 populations\n",
    "Compared Variance of 2 population\n",
    "We have tested whether populations are variants or equal or not\n",
    "When to go for z and when for t test\n",
    "Then by considering alpha and beta value we found formula how to derve the value of sample size it would take an ld sample problem then we found what was the value of sample size"
   ]
  },
  {
   "cell_type": "code",
   "execution_count": null,
   "id": "6dc8c608",
   "metadata": {},
   "outputs": [],
   "source": []
  }
 ],
 "metadata": {
  "kernelspec": {
   "display_name": "Python 3 (ipykernel)",
   "language": "python",
   "name": "python3"
  },
  "language_info": {
   "codemirror_mode": {
    "name": "ipython",
    "version": 3
   },
   "file_extension": ".py",
   "mimetype": "text/x-python",
   "name": "python",
   "nbconvert_exporter": "python",
   "pygments_lexer": "ipython3",
   "version": "3.9.16"
  }
 },
 "nbformat": 4,
 "nbformat_minor": 5
}
