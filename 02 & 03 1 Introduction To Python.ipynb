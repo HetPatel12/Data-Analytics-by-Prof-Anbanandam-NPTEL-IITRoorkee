{
 "cells": [
  {
   "cell_type": "code",
   "execution_count": 1,
   "id": "1b72df3d",
   "metadata": {},
   "outputs": [],
   "source": [
    "import pandas as pd\n",
    "import numpy as np\n",
    "import matplotlib.pyplot as plt"
   ]
  },
  {
   "cell_type": "code",
   "execution_count": 9,
   "id": "97cbd145",
   "metadata": {},
   "outputs": [],
   "source": [
    "df = pd.read_csv('C:/Users/patel/OneDrive/Desktop/CurrencyData.csv')"
   ]
  },
  {
   "cell_type": "code",
   "execution_count": 10,
   "id": "6f2aa297",
   "metadata": {},
   "outputs": [
    {
     "data": {
      "text/html": [
       "<div>\n",
       "<style scoped>\n",
       "    .dataframe tbody tr th:only-of-type {\n",
       "        vertical-align: middle;\n",
       "    }\n",
       "\n",
       "    .dataframe tbody tr th {\n",
       "        vertical-align: top;\n",
       "    }\n",
       "\n",
       "    .dataframe thead th {\n",
       "        text-align: right;\n",
       "    }\n",
       "</style>\n",
       "<table border=\"1\" class=\"dataframe\">\n",
       "  <thead>\n",
       "    <tr style=\"text-align: right;\">\n",
       "      <th></th>\n",
       "      <th>Indian Rupee▲</th>\n",
       "      <th>1.00 INR▲▼</th>\n",
       "      <th>inv. 1.00 INR▲▼</th>\n",
       "    </tr>\n",
       "  </thead>\n",
       "  <tbody>\n",
       "    <tr>\n",
       "      <th>0</th>\n",
       "      <td>Argentine Peso</td>\n",
       "      <td>2.090050</td>\n",
       "      <td>0.478458</td>\n",
       "    </tr>\n",
       "    <tr>\n",
       "      <th>1</th>\n",
       "      <td>Australian Dollar</td>\n",
       "      <td>0.018008</td>\n",
       "      <td>55.531705</td>\n",
       "    </tr>\n",
       "    <tr>\n",
       "      <th>2</th>\n",
       "      <td>Bahraini Dinar</td>\n",
       "      <td>0.004551</td>\n",
       "      <td>219.755483</td>\n",
       "    </tr>\n",
       "    <tr>\n",
       "      <th>3</th>\n",
       "      <td>Botswana Pula</td>\n",
       "      <td>0.155356</td>\n",
       "      <td>6.436833</td>\n",
       "    </tr>\n",
       "    <tr>\n",
       "      <th>4</th>\n",
       "      <td>Brazilian Real</td>\n",
       "      <td>0.064311</td>\n",
       "      <td>15.549519</td>\n",
       "    </tr>\n",
       "    <tr>\n",
       "      <th>5</th>\n",
       "      <td>British Pound</td>\n",
       "      <td>0.009917</td>\n",
       "      <td>100.833779</td>\n",
       "    </tr>\n",
       "    <tr>\n",
       "      <th>6</th>\n",
       "      <td>Bruneian Dollar</td>\n",
       "      <td>0.016392</td>\n",
       "      <td>61.004933</td>\n",
       "    </tr>\n",
       "    <tr>\n",
       "      <th>7</th>\n",
       "      <td>Bulgarian Lev</td>\n",
       "      <td>0.022244</td>\n",
       "      <td>44.955511</td>\n",
       "    </tr>\n",
       "    <tr>\n",
       "      <th>8</th>\n",
       "      <td>Canadian Dollar</td>\n",
       "      <td>0.016516</td>\n",
       "      <td>60.545625</td>\n",
       "    </tr>\n",
       "    <tr>\n",
       "      <th>9</th>\n",
       "      <td>Chilean Peso</td>\n",
       "      <td>10.729099</td>\n",
       "      <td>0.093204</td>\n",
       "    </tr>\n",
       "    <tr>\n",
       "      <th>10</th>\n",
       "      <td>Chinese Yuan Renminbi</td>\n",
       "      <td>0.084407</td>\n",
       "      <td>11.847327</td>\n",
       "    </tr>\n",
       "    <tr>\n",
       "      <th>11</th>\n",
       "      <td>Colombian Peso</td>\n",
       "      <td>57.965346</td>\n",
       "      <td>0.017252</td>\n",
       "    </tr>\n",
       "    <tr>\n",
       "      <th>12</th>\n",
       "      <td>Croatian Kuna</td>\n",
       "      <td>0.085754</td>\n",
       "      <td>11.661307</td>\n",
       "    </tr>\n",
       "    <tr>\n",
       "      <th>13</th>\n",
       "      <td>Czech Koruna</td>\n",
       "      <td>0.275630</td>\n",
       "      <td>3.628051</td>\n",
       "    </tr>\n",
       "    <tr>\n",
       "      <th>14</th>\n",
       "      <td>Danish Krone</td>\n",
       "      <td>0.084591</td>\n",
       "      <td>11.821569</td>\n",
       "    </tr>\n",
       "    <tr>\n",
       "      <th>15</th>\n",
       "      <td>Emirati Dirham</td>\n",
       "      <td>0.044446</td>\n",
       "      <td>22.499132</td>\n",
       "    </tr>\n",
       "    <tr>\n",
       "      <th>16</th>\n",
       "      <td>Euro</td>\n",
       "      <td>0.011373</td>\n",
       "      <td>87.925337</td>\n",
       "    </tr>\n",
       "    <tr>\n",
       "      <th>17</th>\n",
       "      <td>Hong Kong Dollar</td>\n",
       "      <td>0.094181</td>\n",
       "      <td>10.617906</td>\n",
       "    </tr>\n",
       "    <tr>\n",
       "      <th>18</th>\n",
       "      <td>Hungarian Forint</td>\n",
       "      <td>4.593089</td>\n",
       "      <td>0.217718</td>\n",
       "    </tr>\n",
       "    <tr>\n",
       "      <th>19</th>\n",
       "      <td>Icelandic Krona</td>\n",
       "      <td>1.720790</td>\n",
       "      <td>0.581129</td>\n",
       "    </tr>\n",
       "    <tr>\n",
       "      <th>20</th>\n",
       "      <td>Indonesian Rupiah</td>\n",
       "      <td>188.557963</td>\n",
       "      <td>0.005303</td>\n",
       "    </tr>\n",
       "    <tr>\n",
       "      <th>21</th>\n",
       "      <td>Iranian Rial</td>\n",
       "      <td>502.755333</td>\n",
       "      <td>0.001989</td>\n",
       "    </tr>\n",
       "    <tr>\n",
       "      <th>22</th>\n",
       "      <td>Israeli Shekel</td>\n",
       "      <td>0.041665</td>\n",
       "      <td>24.001155</td>\n",
       "    </tr>\n",
       "    <tr>\n",
       "      <th>23</th>\n",
       "      <td>Japanese Yen</td>\n",
       "      <td>1.644985</td>\n",
       "      <td>0.607908</td>\n",
       "    </tr>\n",
       "    <tr>\n",
       "      <th>24</th>\n",
       "      <td>Kazakhstani Tenge</td>\n",
       "      <td>5.669084</td>\n",
       "      <td>0.176395</td>\n",
       "    </tr>\n",
       "    <tr>\n",
       "      <th>25</th>\n",
       "      <td>Kuwaiti Dinar</td>\n",
       "      <td>0.003713</td>\n",
       "      <td>269.311485</td>\n",
       "    </tr>\n",
       "    <tr>\n",
       "      <th>26</th>\n",
       "      <td>Libyan Dinar</td>\n",
       "      <td>0.058459</td>\n",
       "      <td>17.106135</td>\n",
       "    </tr>\n",
       "    <tr>\n",
       "      <th>27</th>\n",
       "      <td>Malaysian Ringgit</td>\n",
       "      <td>0.053533</td>\n",
       "      <td>18.679981</td>\n",
       "    </tr>\n",
       "    <tr>\n",
       "      <th>28</th>\n",
       "      <td>Mauritian Rupee</td>\n",
       "      <td>0.532021</td>\n",
       "      <td>1.879626</td>\n",
       "    </tr>\n",
       "    <tr>\n",
       "      <th>29</th>\n",
       "      <td>Mexican Peso</td>\n",
       "      <td>0.238904</td>\n",
       "      <td>4.185787</td>\n",
       "    </tr>\n",
       "    <tr>\n",
       "      <th>30</th>\n",
       "      <td>Nepalese Rupee</td>\n",
       "      <td>1.600750</td>\n",
       "      <td>0.624707</td>\n",
       "    </tr>\n",
       "    <tr>\n",
       "      <th>31</th>\n",
       "      <td>New Zealand Dollar</td>\n",
       "      <td>0.018928</td>\n",
       "      <td>52.833153</td>\n",
       "    </tr>\n",
       "    <tr>\n",
       "      <th>32</th>\n",
       "      <td>Norwegian Krone</td>\n",
       "      <td>0.119036</td>\n",
       "      <td>8.400850</td>\n",
       "    </tr>\n",
       "    <tr>\n",
       "      <th>33</th>\n",
       "      <td>Omani Rial</td>\n",
       "      <td>0.004655</td>\n",
       "      <td>214.820064</td>\n",
       "    </tr>\n",
       "    <tr>\n",
       "      <th>34</th>\n",
       "      <td>Pakistani Rupee</td>\n",
       "      <td>2.724920</td>\n",
       "      <td>0.366983</td>\n",
       "    </tr>\n",
       "    <tr>\n",
       "      <th>35</th>\n",
       "      <td>Philippine Peso</td>\n",
       "      <td>0.670870</td>\n",
       "      <td>1.490602</td>\n",
       "    </tr>\n",
       "    <tr>\n",
       "      <th>36</th>\n",
       "      <td>Polish Zloty</td>\n",
       "      <td>0.053296</td>\n",
       "      <td>18.763273</td>\n",
       "    </tr>\n",
       "    <tr>\n",
       "      <th>37</th>\n",
       "      <td>Qatari Riyal</td>\n",
       "      <td>0.044053</td>\n",
       "      <td>22.700017</td>\n",
       "    </tr>\n",
       "    <tr>\n",
       "      <th>38</th>\n",
       "      <td>Romanian New Leu</td>\n",
       "      <td>0.055925</td>\n",
       "      <td>17.881093</td>\n",
       "    </tr>\n",
       "    <tr>\n",
       "      <th>39</th>\n",
       "      <td>Russian Ruble</td>\n",
       "      <td>0.796920</td>\n",
       "      <td>1.254831</td>\n",
       "    </tr>\n",
       "    <tr>\n",
       "      <th>40</th>\n",
       "      <td>Saudi Arabian Riyal</td>\n",
       "      <td>0.045384</td>\n",
       "      <td>22.034150</td>\n",
       "    </tr>\n",
       "    <tr>\n",
       "      <th>41</th>\n",
       "      <td>Singapore Dollar</td>\n",
       "      <td>0.016392</td>\n",
       "      <td>61.004933</td>\n",
       "    </tr>\n",
       "    <tr>\n",
       "      <th>42</th>\n",
       "      <td>South African Rand</td>\n",
       "      <td>0.211893</td>\n",
       "      <td>4.719353</td>\n",
       "    </tr>\n",
       "    <tr>\n",
       "      <th>43</th>\n",
       "      <td>South Korean Won</td>\n",
       "      <td>15.761910</td>\n",
       "      <td>0.063444</td>\n",
       "    </tr>\n",
       "    <tr>\n",
       "      <th>44</th>\n",
       "      <td>Sri Lankan Rupee</td>\n",
       "      <td>4.436058</td>\n",
       "      <td>0.225425</td>\n",
       "    </tr>\n",
       "    <tr>\n",
       "      <th>45</th>\n",
       "      <td>Swedish Krona</td>\n",
       "      <td>0.125265</td>\n",
       "      <td>7.983046</td>\n",
       "    </tr>\n",
       "    <tr>\n",
       "      <th>46</th>\n",
       "      <td>Swiss Franc</td>\n",
       "      <td>0.011247</td>\n",
       "      <td>88.914302</td>\n",
       "    </tr>\n",
       "    <tr>\n",
       "      <th>47</th>\n",
       "      <td>Taiwan New Dollar</td>\n",
       "      <td>0.372109</td>\n",
       "      <td>2.687385</td>\n",
       "    </tr>\n",
       "    <tr>\n",
       "      <th>48</th>\n",
       "      <td>Thai Baht</td>\n",
       "      <td>0.421346</td>\n",
       "      <td>2.373349</td>\n",
       "    </tr>\n",
       "    <tr>\n",
       "      <th>49</th>\n",
       "      <td>Trinidadian Dollar</td>\n",
       "      <td>0.082210</td>\n",
       "      <td>12.163980</td>\n",
       "    </tr>\n",
       "    <tr>\n",
       "      <th>50</th>\n",
       "      <td>Turkish Lira</td>\n",
       "      <td>0.225724</td>\n",
       "      <td>4.430184</td>\n",
       "    </tr>\n",
       "    <tr>\n",
       "      <th>51</th>\n",
       "      <td>US Dollar</td>\n",
       "      <td>0.012102</td>\n",
       "      <td>82.628061</td>\n",
       "    </tr>\n",
       "    <tr>\n",
       "      <th>52</th>\n",
       "      <td>Venezuelan Bolivar</td>\n",
       "      <td>19040.355810</td>\n",
       "      <td>0.000053</td>\n",
       "    </tr>\n",
       "  </tbody>\n",
       "</table>\n",
       "</div>"
      ],
      "text/plain": [
       "            Indian Rupee▲    1.00 INR▲▼  inv. 1.00 INR▲▼\n",
       "0          Argentine Peso      2.090050         0.478458\n",
       "1       Australian Dollar      0.018008        55.531705\n",
       "2          Bahraini Dinar      0.004551       219.755483\n",
       "3           Botswana Pula      0.155356         6.436833\n",
       "4          Brazilian Real      0.064311        15.549519\n",
       "5           British Pound      0.009917       100.833779\n",
       "6         Bruneian Dollar      0.016392        61.004933\n",
       "7           Bulgarian Lev      0.022244        44.955511\n",
       "8         Canadian Dollar      0.016516        60.545625\n",
       "9            Chilean Peso     10.729099         0.093204\n",
       "10  Chinese Yuan Renminbi      0.084407        11.847327\n",
       "11         Colombian Peso     57.965346         0.017252\n",
       "12          Croatian Kuna      0.085754        11.661307\n",
       "13           Czech Koruna      0.275630         3.628051\n",
       "14           Danish Krone      0.084591        11.821569\n",
       "15         Emirati Dirham      0.044446        22.499132\n",
       "16                   Euro      0.011373        87.925337\n",
       "17       Hong Kong Dollar      0.094181        10.617906\n",
       "18       Hungarian Forint      4.593089         0.217718\n",
       "19        Icelandic Krona      1.720790         0.581129\n",
       "20      Indonesian Rupiah    188.557963         0.005303\n",
       "21           Iranian Rial    502.755333         0.001989\n",
       "22         Israeli Shekel      0.041665        24.001155\n",
       "23           Japanese Yen      1.644985         0.607908\n",
       "24      Kazakhstani Tenge      5.669084         0.176395\n",
       "25          Kuwaiti Dinar      0.003713       269.311485\n",
       "26           Libyan Dinar      0.058459        17.106135\n",
       "27      Malaysian Ringgit      0.053533        18.679981\n",
       "28        Mauritian Rupee      0.532021         1.879626\n",
       "29           Mexican Peso      0.238904         4.185787\n",
       "30         Nepalese Rupee      1.600750         0.624707\n",
       "31     New Zealand Dollar      0.018928        52.833153\n",
       "32        Norwegian Krone      0.119036         8.400850\n",
       "33             Omani Rial      0.004655       214.820064\n",
       "34        Pakistani Rupee      2.724920         0.366983\n",
       "35        Philippine Peso      0.670870         1.490602\n",
       "36           Polish Zloty      0.053296        18.763273\n",
       "37           Qatari Riyal      0.044053        22.700017\n",
       "38       Romanian New Leu      0.055925        17.881093\n",
       "39          Russian Ruble      0.796920         1.254831\n",
       "40    Saudi Arabian Riyal      0.045384        22.034150\n",
       "41       Singapore Dollar      0.016392        61.004933\n",
       "42     South African Rand      0.211893         4.719353\n",
       "43       South Korean Won     15.761910         0.063444\n",
       "44       Sri Lankan Rupee      4.436058         0.225425\n",
       "45          Swedish Krona      0.125265         7.983046\n",
       "46            Swiss Franc      0.011247        88.914302\n",
       "47      Taiwan New Dollar      0.372109         2.687385\n",
       "48              Thai Baht      0.421346         2.373349\n",
       "49     Trinidadian Dollar      0.082210        12.163980\n",
       "50           Turkish Lira      0.225724         4.430184\n",
       "51              US Dollar      0.012102        82.628061\n",
       "52     Venezuelan Bolivar  19040.355810         0.000053"
      ]
     },
     "execution_count": 10,
     "metadata": {},
     "output_type": "execute_result"
    }
   ],
   "source": [
    "df"
   ]
  },
  {
   "cell_type": "code",
   "execution_count": 11,
   "id": "ed3f8471",
   "metadata": {},
   "outputs": [
    {
     "name": "stdout",
     "output_type": "stream",
     "text": [
      "       Indian Rupee▲  1.00 INR▲▼  inv. 1.00 INR▲▼\n",
      "0     Argentine Peso    2.090050         0.478458\n",
      "1  Australian Dollar    0.018008        55.531705\n",
      "2     Bahraini Dinar    0.004551       219.755483\n",
      "3      Botswana Pula    0.155356         6.436833\n",
      "4     Brazilian Real    0.064311        15.549519\n"
     ]
    }
   ],
   "source": [
    "print(df.head()) # Get 1st 5 Observations"
   ]
  },
  {
   "cell_type": "code",
   "execution_count": 22,
   "id": "94959c33",
   "metadata": {},
   "outputs": [
    {
     "name": "stdout",
     "output_type": "stream",
     "text": [
      "         Indian Rupee▲    1.00 INR▲▼  inv. 1.00 INR▲▼\n",
      "48           Thai Baht      0.421346         2.373349\n",
      "49  Trinidadian Dollar      0.082210        12.163980\n",
      "50        Turkish Lira      0.225724         4.430184\n",
      "51           US Dollar      0.012102        82.628061\n",
      "52  Venezuelan Bolivar  19040.355810         0.000053\n"
     ]
    }
   ],
   "source": [
    "print(df.tail()) # Get last 5 observations"
   ]
  },
  {
   "cell_type": "code",
   "execution_count": 15,
   "id": "177d35da",
   "metadata": {},
   "outputs": [
    {
     "name": "stdout",
     "output_type": "stream",
     "text": [
      "(53, 3)\n"
     ]
    }
   ],
   "source": [
    "print(df.shape) # get no. of rows and columns"
   ]
  },
  {
   "cell_type": "code",
   "execution_count": 16,
   "id": "07a7787a",
   "metadata": {},
   "outputs": [
    {
     "name": "stdout",
     "output_type": "stream",
     "text": [
      "Index(['Indian Rupee▲', '1.00 INR▲▼', 'inv. 1.00 INR▲▼'], dtype='object')\n"
     ]
    }
   ],
   "source": [
    "print(df.columns) # get columnName"
   ]
  },
  {
   "cell_type": "code",
   "execution_count": 17,
   "id": "2b8067b6",
   "metadata": {},
   "outputs": [
    {
     "name": "stdout",
     "output_type": "stream",
     "text": [
      "Indian Rupee▲       object\n",
      "1.00 INR▲▼         float64\n",
      "inv. 1.00 INR▲▼    float64\n",
      "dtype: object\n"
     ]
    }
   ],
   "source": [
    "print(df.dtypes) # Get dataType of each column"
   ]
  },
  {
   "cell_type": "code",
   "execution_count": 18,
   "id": "05cdfb0a",
   "metadata": {},
   "outputs": [
    {
     "name": "stdout",
     "output_type": "stream",
     "text": [
      "<class 'pandas.core.frame.DataFrame'>\n",
      "RangeIndex: 53 entries, 0 to 52\n",
      "Data columns (total 3 columns):\n",
      " #   Column           Non-Null Count  Dtype  \n",
      "---  ------           --------------  -----  \n",
      " 0   Indian Rupee▲    53 non-null     object \n",
      " 1   1.00 INR▲▼       53 non-null     float64\n",
      " 2   inv. 1.00 INR▲▼  53 non-null     float64\n",
      "dtypes: float64(2), object(1)\n",
      "memory usage: 1.4+ KB\n",
      "None\n"
     ]
    }
   ],
   "source": [
    "print(df.info()) # Get info about data"
   ]
  },
  {
   "cell_type": "code",
   "execution_count": 19,
   "id": "2107d64a",
   "metadata": {},
   "outputs": [],
   "source": [
    "# Looking at Columns Rows and Cells\n",
    "inr_df = df['Indian Rupee▲'] # Column"
   ]
  },
  {
   "cell_type": "code",
   "execution_count": 21,
   "id": "b9edd055",
   "metadata": {},
   "outputs": [
    {
     "name": "stdout",
     "output_type": "stream",
     "text": [
      "0       Argentine Peso\n",
      "1    Australian Dollar\n",
      "2       Bahraini Dinar\n",
      "3        Botswana Pula\n",
      "4       Brazilian Real\n",
      "Name: Indian Rupee▲, dtype: object\n"
     ]
    }
   ],
   "source": [
    "print(inr_df.head()) #.head shows only 1st 5 observations"
   ]
  },
  {
   "cell_type": "code",
   "execution_count": 26,
   "id": "9cb9776b",
   "metadata": {},
   "outputs": [
    {
     "name": "stdout",
     "output_type": "stream",
     "text": [
      "       Indian Rupee▲  1.00 INR▲▼  inv. 1.00 INR▲▼\n",
      "0     Argentine Peso    2.090050         0.478458\n",
      "1  Australian Dollar    0.018008        55.531705\n",
      "2     Bahraini Dinar    0.004551       219.755483\n",
      "3      Botswana Pula    0.155356         6.436833\n",
      "4     Brazilian Real    0.064311        15.549519\n"
     ]
    }
   ],
   "source": [
    "# Looking at multiple columns\n",
    "subset = df[['Indian Rupee▲','1.00 INR▲▼','inv. 1.00 INR▲▼']]\n",
    "print(subset.head()) # head will give only 1st 5 rows"
   ]
  },
  {
   "cell_type": "code",
   "execution_count": 27,
   "id": "3bf38de6",
   "metadata": {},
   "outputs": [
    {
     "data": {
      "text/html": [
       "<div>\n",
       "<style scoped>\n",
       "    .dataframe tbody tr th:only-of-type {\n",
       "        vertical-align: middle;\n",
       "    }\n",
       "\n",
       "    .dataframe tbody tr th {\n",
       "        vertical-align: top;\n",
       "    }\n",
       "\n",
       "    .dataframe thead th {\n",
       "        text-align: right;\n",
       "    }\n",
       "</style>\n",
       "<table border=\"1\" class=\"dataframe\">\n",
       "  <thead>\n",
       "    <tr style=\"text-align: right;\">\n",
       "      <th></th>\n",
       "      <th>Indian Rupee▲</th>\n",
       "      <th>1.00 INR▲▼</th>\n",
       "      <th>inv. 1.00 INR▲▼</th>\n",
       "    </tr>\n",
       "  </thead>\n",
       "  <tbody>\n",
       "    <tr>\n",
       "      <th>0</th>\n",
       "      <td>Argentine Peso</td>\n",
       "      <td>2.090050</td>\n",
       "      <td>0.478458</td>\n",
       "    </tr>\n",
       "    <tr>\n",
       "      <th>1</th>\n",
       "      <td>Australian Dollar</td>\n",
       "      <td>0.018008</td>\n",
       "      <td>55.531705</td>\n",
       "    </tr>\n",
       "    <tr>\n",
       "      <th>2</th>\n",
       "      <td>Bahraini Dinar</td>\n",
       "      <td>0.004551</td>\n",
       "      <td>219.755483</td>\n",
       "    </tr>\n",
       "    <tr>\n",
       "      <th>3</th>\n",
       "      <td>Botswana Pula</td>\n",
       "      <td>0.155356</td>\n",
       "      <td>6.436833</td>\n",
       "    </tr>\n",
       "    <tr>\n",
       "      <th>4</th>\n",
       "      <td>Brazilian Real</td>\n",
       "      <td>0.064311</td>\n",
       "      <td>15.549519</td>\n",
       "    </tr>\n",
       "  </tbody>\n",
       "</table>\n",
       "</div>"
      ],
      "text/plain": [
       "       Indian Rupee▲  1.00 INR▲▼  inv. 1.00 INR▲▼\n",
       "0     Argentine Peso    2.090050         0.478458\n",
       "1  Australian Dollar    0.018008        55.531705\n",
       "2     Bahraini Dinar    0.004551       219.755483\n",
       "3      Botswana Pula    0.155356         6.436833\n",
       "4     Brazilian Real    0.064311        15.549519"
      ]
     },
     "execution_count": 27,
     "metadata": {},
     "output_type": "execute_result"
    }
   ],
   "source": [
    "df.head()"
   ]
  },
  {
   "cell_type": "code",
   "execution_count": 28,
   "id": "6275e6f1",
   "metadata": {},
   "outputs": [
    {
     "data": {
      "text/plain": [
       "Indian Rupee▲      Argentine Peso\n",
       "1.00 INR▲▼                2.09005\n",
       "inv. 1.00 INR▲▼          0.478458\n",
       "Name: 0, dtype: object"
      ]
     },
     "execution_count": 28,
     "metadata": {},
     "output_type": "execute_result"
    }
   ],
   "source": [
    "# Access 0th Row \n",
    "df.loc[0]"
   ]
  },
  {
   "cell_type": "markdown",
   "id": "69235d8a",
   "metadata": {},
   "source": [
    "If you want to get 100th row then type:\n",
    "df.loc[99] # not [100]"
   ]
  },
  {
   "cell_type": "code",
   "execution_count": 29,
   "id": "89397922",
   "metadata": {},
   "outputs": [
    {
     "name": "stdout",
     "output_type": "stream",
     "text": [
      "         Indian Rupee▲   1.00 INR▲▼  inv. 1.00 INR▲▼\n",
      "52  Venezuelan Bolivar  19040.35581         0.000053\n"
     ]
    }
   ],
   "source": [
    "# To get the last row\n",
    "print(df.tail(n=1))"
   ]
  },
  {
   "cell_type": "code",
   "execution_count": 31,
   "id": "c31da8b1",
   "metadata": {},
   "outputs": [
    {
     "name": "stdout",
     "output_type": "stream",
     "text": [
      "     Indian Rupee▲  1.00 INR▲▼  inv. 1.00 INR▲▼\n",
      "0   Argentine Peso    2.090050         0.478458\n",
      "3    Botswana Pula    0.155356         6.436833\n",
      "23    Japanese Yen    1.644985         0.607908\n"
     ]
    }
   ],
   "source": [
    "# Prit multiple rows as per your choice\n",
    "print(df.loc[[0,3,23]])"
   ]
  },
  {
   "cell_type": "markdown",
   "id": "e6efc710",
   "metadata": {},
   "source": [
    "Using iloc[-1] we can get last row but -1 cant be used in loc function"
   ]
  },
  {
   "cell_type": "code",
   "execution_count": 32,
   "id": "66110710",
   "metadata": {},
   "outputs": [
    {
     "name": "stdout",
     "output_type": "stream",
     "text": [
      "Indian Rupee▲      Australian Dollar\n",
      "1.00 INR▲▼                  0.018008\n",
      "inv. 1.00 INR▲▼            55.531705\n",
      "Name: 1, dtype: object\n"
     ]
    }
   ],
   "source": [
    "# Select rows by rowNumber\n",
    "print(df.iloc[1])"
   ]
  },
  {
   "cell_type": "code",
   "execution_count": 33,
   "id": "ca6d54f0",
   "metadata": {},
   "outputs": [
    {
     "name": "stdout",
     "output_type": "stream",
     "text": [
      "Indian Rupee▲      Venezuelan Bolivar\n",
      "1.00 INR▲▼                19040.35581\n",
      "inv. 1.00 INR▲▼              0.000053\n",
      "Name: 52, dtype: object\n"
     ]
    }
   ],
   "source": [
    "# Select last row\n",
    "\n",
    "print(df.iloc[-1])"
   ]
  },
  {
   "cell_type": "code",
   "execution_count": 35,
   "id": "7671fb7e",
   "metadata": {},
   "outputs": [
    {
     "name": "stdout",
     "output_type": "stream",
     "text": [
      "         Indian Rupee▲    1.00 INR▲▼  inv. 1.00 INR▲▼\n",
      "1    Australian Dollar      0.018008        55.531705\n",
      "3        Botswana Pula      0.155356         6.436833\n",
      "52  Venezuelan Bolivar  19040.355810         0.000053\n"
     ]
    }
   ],
   "source": [
    "# 1st, 3rd and last row using iloc command\n",
    "print(df.iloc[[1,3,-1]])"
   ]
  },
  {
   "cell_type": "code",
   "execution_count": 36,
   "id": "41bd51f1",
   "metadata": {},
   "outputs": [
    {
     "name": "stdout",
     "output_type": "stream",
     "text": [
      "       Indian Rupee▲  1.00 INR▲▼\n",
      "0     Argentine Peso    2.090050\n",
      "1  Australian Dollar    0.018008\n",
      "2     Bahraini Dinar    0.004551\n",
      "3      Botswana Pula    0.155356\n",
      "4     Brazilian Real    0.064311\n"
     ]
    }
   ],
   "source": [
    "# Subsetting Columns\n",
    "\n",
    "# Python slicing syntax uses a colon, :\n",
    "# If we just have a colon, the attribute refers to everything\n",
    "# If we just want to get the 1st column using iloc or loc syntax, we can write something like \n",
    "# df.loc[;,[columns]] to sunset the columns\n",
    "\n",
    "# Subset columns with loc\n",
    "# note the position of the colon\n",
    "# it is used to select all rows\n",
    "subset = df.loc[:,['Indian Rupee▲','1.00 INR▲▼']]\n",
    "print(subset.head())"
   ]
  },
  {
   "cell_type": "code",
   "execution_count": 37,
   "id": "a8fb5927",
   "metadata": {},
   "outputs": [
    {
     "name": "stdout",
     "output_type": "stream",
     "text": [
      "   1.00 INR▲▼  inv. 1.00 INR▲▼  inv. 1.00 INR▲▼\n",
      "0    2.090050         0.478458         0.478458\n",
      "1    0.018008        55.531705        55.531705\n",
      "2    0.004551       219.755483       219.755483\n",
      "3    0.155356         6.436833         6.436833\n",
      "4    0.064311        15.549519        15.549519\n"
     ]
    }
   ],
   "source": [
    "# subset columns with iloc\n",
    "# iloc allow us to use integers\n",
    "# -1 will select last column\n",
    "subset = df.iloc[:,[1,2,-1]]\n",
    "print(subset.head())"
   ]
  },
  {
   "cell_type": "code",
   "execution_count": 38,
   "id": "93e2ea32",
   "metadata": {},
   "outputs": [
    {
     "data": {
      "text/html": [
       "<div>\n",
       "<style scoped>\n",
       "    .dataframe tbody tr th:only-of-type {\n",
       "        vertical-align: middle;\n",
       "    }\n",
       "\n",
       "    .dataframe tbody tr th {\n",
       "        vertical-align: top;\n",
       "    }\n",
       "\n",
       "    .dataframe thead th {\n",
       "        text-align: right;\n",
       "    }\n",
       "</style>\n",
       "<table border=\"1\" class=\"dataframe\">\n",
       "  <thead>\n",
       "    <tr style=\"text-align: right;\">\n",
       "      <th></th>\n",
       "      <th>1.00 INR▲▼</th>\n",
       "      <th>inv. 1.00 INR▲▼</th>\n",
       "      <th>inv. 1.00 INR▲▼</th>\n",
       "    </tr>\n",
       "  </thead>\n",
       "  <tbody>\n",
       "    <tr>\n",
       "      <th>0</th>\n",
       "      <td>2.090050</td>\n",
       "      <td>0.478458</td>\n",
       "      <td>0.478458</td>\n",
       "    </tr>\n",
       "    <tr>\n",
       "      <th>1</th>\n",
       "      <td>0.018008</td>\n",
       "      <td>55.531705</td>\n",
       "      <td>55.531705</td>\n",
       "    </tr>\n",
       "    <tr>\n",
       "      <th>2</th>\n",
       "      <td>0.004551</td>\n",
       "      <td>219.755483</td>\n",
       "      <td>219.755483</td>\n",
       "    </tr>\n",
       "    <tr>\n",
       "      <th>3</th>\n",
       "      <td>0.155356</td>\n",
       "      <td>6.436833</td>\n",
       "      <td>6.436833</td>\n",
       "    </tr>\n",
       "    <tr>\n",
       "      <th>4</th>\n",
       "      <td>0.064311</td>\n",
       "      <td>15.549519</td>\n",
       "      <td>15.549519</td>\n",
       "    </tr>\n",
       "  </tbody>\n",
       "</table>\n",
       "</div>"
      ],
      "text/plain": [
       "   1.00 INR▲▼  inv. 1.00 INR▲▼  inv. 1.00 INR▲▼\n",
       "0    2.090050         0.478458         0.478458\n",
       "1    0.018008        55.531705        55.531705\n",
       "2    0.004551       219.755483       219.755483\n",
       "3    0.155356         6.436833         6.436833\n",
       "4    0.064311        15.549519        15.549519"
      ]
     },
     "execution_count": 38,
     "metadata": {},
     "output_type": "execute_result"
    }
   ],
   "source": [
    "subset.head()"
   ]
  },
  {
   "cell_type": "code",
   "execution_count": 45,
   "id": "7871c84b",
   "metadata": {},
   "outputs": [
    {
     "data": {
      "text/plain": [
       "[0, 1]"
      ]
     },
     "execution_count": 45,
     "metadata": {},
     "output_type": "execute_result"
    }
   ],
   "source": [
    "# Subsetting columns by range\n",
    "small_range = list(range(2))\n",
    "small_range"
   ]
  },
  {
   "cell_type": "code",
   "execution_count": 46,
   "id": "cb83ffb8",
   "metadata": {},
   "outputs": [
    {
     "data": {
      "text/html": [
       "<div>\n",
       "<style scoped>\n",
       "    .dataframe tbody tr th:only-of-type {\n",
       "        vertical-align: middle;\n",
       "    }\n",
       "\n",
       "    .dataframe tbody tr th {\n",
       "        vertical-align: top;\n",
       "    }\n",
       "\n",
       "    .dataframe thead th {\n",
       "        text-align: right;\n",
       "    }\n",
       "</style>\n",
       "<table border=\"1\" class=\"dataframe\">\n",
       "  <thead>\n",
       "    <tr style=\"text-align: right;\">\n",
       "      <th></th>\n",
       "      <th>Indian Rupee▲</th>\n",
       "      <th>1.00 INR▲▼</th>\n",
       "    </tr>\n",
       "  </thead>\n",
       "  <tbody>\n",
       "    <tr>\n",
       "      <th>0</th>\n",
       "      <td>Argentine Peso</td>\n",
       "      <td>2.090050</td>\n",
       "    </tr>\n",
       "    <tr>\n",
       "      <th>1</th>\n",
       "      <td>Australian Dollar</td>\n",
       "      <td>0.018008</td>\n",
       "    </tr>\n",
       "    <tr>\n",
       "      <th>2</th>\n",
       "      <td>Bahraini Dinar</td>\n",
       "      <td>0.004551</td>\n",
       "    </tr>\n",
       "    <tr>\n",
       "      <th>3</th>\n",
       "      <td>Botswana Pula</td>\n",
       "      <td>0.155356</td>\n",
       "    </tr>\n",
       "    <tr>\n",
       "      <th>4</th>\n",
       "      <td>Brazilian Real</td>\n",
       "      <td>0.064311</td>\n",
       "    </tr>\n",
       "  </tbody>\n",
       "</table>\n",
       "</div>"
      ],
      "text/plain": [
       "       Indian Rupee▲  1.00 INR▲▼\n",
       "0     Argentine Peso    2.090050\n",
       "1  Australian Dollar    0.018008\n",
       "2     Bahraini Dinar    0.004551\n",
       "3      Botswana Pula    0.155356\n",
       "4     Brazilian Real    0.064311"
      ]
     },
     "execution_count": 46,
     "metadata": {},
     "output_type": "execute_result"
    }
   ],
   "source": [
    "subset = df.iloc[: ,small_range]\n",
    "subset.head()"
   ]
  },
  {
   "cell_type": "code",
   "execution_count": 50,
   "id": "9b3de0c2",
   "metadata": {},
   "outputs": [
    {
     "name": "stdout",
     "output_type": "stream",
     "text": [
      "Danish Krone\n"
     ]
    }
   ],
   "source": [
    "# Subsetting Rows and Columns using loc\n",
    "print(df.loc[14,'Indian Rupee▲']) #(df.loc[row,'columnName'])"
   ]
  },
  {
   "cell_type": "code",
   "execution_count": 53,
   "id": "3dc6bf9e",
   "metadata": {},
   "outputs": [
    {
     "name": "stdout",
     "output_type": "stream",
     "text": [
      "Brazilian Real\n"
     ]
    }
   ],
   "source": [
    "# Subsetting Rows and Columns using iloc\n",
    "print(df.iloc[4,0]) # 4th label in 0th column"
   ]
  },
  {
   "cell_type": "code",
   "execution_count": 54,
   "id": "e9b720b8",
   "metadata": {},
   "outputs": [
    {
     "name": "stdout",
     "output_type": "stream",
     "text": [
      "     Indian Rupee▲  1.00 INR▲▼  inv. 1.00 INR▲▼\n",
      "0   Argentine Peso    2.090050         0.478458\n",
      "12   Croatian Kuna    0.085754        11.661307\n",
      "23    Japanese Yen    1.644985         0.607908\n"
     ]
    }
   ],
   "source": [
    "# Subsetting Multiple Rows and Columns\n",
    "print(df.iloc[[0,12,23],[0,1,2]]) # 1st will show rows and 2nd will show index"
   ]
  },
  {
   "cell_type": "code",
   "execution_count": 57,
   "id": "a8845b84",
   "metadata": {},
   "outputs": [
    {
     "name": "stdout",
     "output_type": "stream",
     "text": [
      "      Indian Rupee▲  1.00 INR▲▼  inv. 1.00 INR▲▼\n",
      "0    Argentine Peso    2.090050         0.478458\n",
      "12    Croatian Kuna    0.085754        11.661307\n",
      "32  Norwegian Krone    0.119036         8.400850\n"
     ]
    }
   ],
   "source": [
    "# If we use column names directly,\n",
    "# It makes the code a bit easier to read\n",
    "# Not know we have to use loc instead of iloc\n",
    "\n",
    "print(df.loc[[0,12,32],['Indian Rupee▲','1.00 INR▲▼','inv. 1.00 INR▲▼']])"
   ]
  },
  {
   "cell_type": "code",
   "execution_count": 58,
   "id": "2ca1a7dc",
   "metadata": {},
   "outputs": [
    {
     "name": "stdout",
     "output_type": "stream",
     "text": [
      "            Indian Rupee▲  1.00 INR▲▼  inv. 1.00 INR▲▼\n",
      "1       Australian Dollar    0.018008        55.531705\n",
      "2          Bahraini Dinar    0.004551       219.755483\n",
      "3           Botswana Pula    0.155356         6.436833\n",
      "4          Brazilian Real    0.064311        15.549519\n",
      "5           British Pound    0.009917       100.833779\n",
      "6         Bruneian Dollar    0.016392        61.004933\n",
      "7           Bulgarian Lev    0.022244        44.955511\n",
      "8         Canadian Dollar    0.016516        60.545625\n",
      "9            Chilean Peso   10.729099         0.093204\n",
      "10  Chinese Yuan Renminbi    0.084407        11.847327\n"
     ]
    }
   ],
   "source": [
    "print(df.loc[1:10, ['Indian Rupee▲','1.00 INR▲▼','inv. 1.00 INR▲▼']])"
   ]
  },
  {
   "cell_type": "code",
   "execution_count": 59,
   "id": "857aebff",
   "metadata": {},
   "outputs": [
    {
     "name": "stdout",
     "output_type": "stream",
     "text": [
      "       Indian Rupee▲  1.00 INR▲▼  inv. 1.00 INR▲▼\n",
      "1  Australian Dollar    0.018008        55.531705\n",
      "2     Bahraini Dinar    0.004551       219.755483\n",
      "3      Botswana Pula    0.155356         6.436833\n",
      "4     Brazilian Real    0.064311        15.549519\n",
      "5      British Pound    0.009917       100.833779\n",
      "6    Bruneian Dollar    0.016392        61.004933\n",
      "7      Bulgarian Lev    0.022244        44.955511\n",
      "8    Canadian Dollar    0.016516        60.545625\n",
      "9       Chilean Peso   10.729099         0.093204\n"
     ]
    }
   ],
   "source": [
    "print(df.iloc[1:10, [0,1,2]])"
   ]
  },
  {
   "cell_type": "code",
   "execution_count": 62,
   "id": "393ec14f",
   "metadata": {},
   "outputs": [
    {
     "name": "stdout",
     "output_type": "stream",
     "text": [
      "Indian Rupee▲\n",
      "Argentine Peso               2.090050\n",
      "Australian Dollar            0.018008\n",
      "Bahraini Dinar               0.004551\n",
      "Botswana Pula                0.155356\n",
      "Brazilian Real               0.064311\n",
      "British Pound                0.009917\n",
      "Bruneian Dollar              0.016392\n",
      "Bulgarian Lev                0.022244\n",
      "Canadian Dollar              0.016516\n",
      "Chilean Peso                10.729099\n",
      "Chinese Yuan Renminbi        0.084407\n",
      "Colombian Peso              57.965346\n",
      "Croatian Kuna                0.085754\n",
      "Czech Koruna                 0.275630\n",
      "Danish Krone                 0.084591\n",
      "Emirati Dirham               0.044446\n",
      "Euro                         0.011373\n",
      "Hong Kong Dollar             0.094181\n",
      "Hungarian Forint             4.593089\n",
      "Icelandic Krona              1.720790\n",
      "Indonesian Rupiah          188.557963\n",
      "Iranian Rial               502.755333\n",
      "Israeli Shekel               0.041665\n",
      "Japanese Yen                 1.644985\n",
      "Kazakhstani Tenge            5.669084\n",
      "Kuwaiti Dinar                0.003713\n",
      "Libyan Dinar                 0.058459\n",
      "Malaysian Ringgit            0.053533\n",
      "Mauritian Rupee              0.532021\n",
      "Mexican Peso                 0.238904\n",
      "Nepalese Rupee               1.600750\n",
      "New Zealand Dollar           0.018928\n",
      "Norwegian Krone              0.119036\n",
      "Omani Rial                   0.004655\n",
      "Pakistani Rupee              2.724920\n",
      "Philippine Peso              0.670870\n",
      "Polish Zloty                 0.053296\n",
      "Qatari Riyal                 0.044053\n",
      "Romanian New Leu             0.055925\n",
      "Russian Ruble                0.796920\n",
      "Saudi Arabian Riyal          0.045384\n",
      "Singapore Dollar             0.016392\n",
      "South African Rand           0.211893\n",
      "South Korean Won            15.761910\n",
      "Sri Lankan Rupee             4.436058\n",
      "Swedish Krona                0.125265\n",
      "Swiss Franc                  0.011247\n",
      "Taiwan New Dollar            0.372109\n",
      "Thai Baht                    0.421346\n",
      "Trinidadian Dollar           0.082210\n",
      "Turkish Lira                 0.225724\n",
      "US Dollar                    0.012102\n",
      "Venezuelan Bolivar       19040.355810\n",
      "Name: 1.00 INR▲▼, dtype: float64\n"
     ]
    }
   ],
   "source": [
    "# Grouped \n",
    "# it shows error bcox column 'Indian Rupee▲' needs to be in int format only\n",
    "# Eg: It helps you to group the data yearwise and mean gives avg value of that following year\n",
    "print(df.groupby('Indian Rupee▲')['1.00 INR▲▼'].mean())"
   ]
  },
  {
   "cell_type": "code",
   "execution_count": 63,
   "id": "f83ec697",
   "metadata": {},
   "outputs": [
    {
     "name": "stdout",
     "output_type": "stream",
     "text": [
      "                                      1.00 INR▲▼  inv. 1.00 INR▲▼\n",
      "Indian Rupee▲         1.00 INR▲▼                                 \n",
      "Argentine Peso        2.090050          2.090050         0.478458\n",
      "Australian Dollar     0.018008          0.018008        55.531705\n",
      "Bahraini Dinar        0.004551          0.004551       219.755483\n",
      "Botswana Pula         0.155356          0.155356         6.436833\n",
      "Brazilian Real        0.064311          0.064311        15.549519\n",
      "British Pound         0.009917          0.009917       100.833779\n",
      "Bruneian Dollar       0.016392          0.016392        61.004933\n",
      "Bulgarian Lev         0.022244          0.022244        44.955511\n",
      "Canadian Dollar       0.016516          0.016516        60.545625\n",
      "Chilean Peso          10.729099        10.729099         0.093204\n",
      "Chinese Yuan Renminbi 0.084407          0.084407        11.847327\n",
      "Colombian Peso        57.965346        57.965346         0.017252\n",
      "Croatian Kuna         0.085754          0.085754        11.661307\n",
      "Czech Koruna          0.275630          0.275630         3.628051\n",
      "Danish Krone          0.084591          0.084591        11.821569\n",
      "Emirati Dirham        0.044446          0.044446        22.499132\n",
      "Euro                  0.011373          0.011373        87.925337\n",
      "Hong Kong Dollar      0.094181          0.094181        10.617906\n",
      "Hungarian Forint      4.593089          4.593089         0.217718\n",
      "Icelandic Krona       1.720790          1.720790         0.581129\n",
      "Indonesian Rupiah     188.557963      188.557963         0.005303\n",
      "Iranian Rial          502.755333      502.755333         0.001989\n",
      "Israeli Shekel        0.041665          0.041665        24.001155\n",
      "Japanese Yen          1.644985          1.644985         0.607908\n",
      "Kazakhstani Tenge     5.669084          5.669084         0.176395\n",
      "Kuwaiti Dinar         0.003713          0.003713       269.311485\n",
      "Libyan Dinar          0.058459          0.058459        17.106135\n",
      "Malaysian Ringgit     0.053533          0.053533        18.679981\n",
      "Mauritian Rupee       0.532021          0.532021         1.879626\n",
      "Mexican Peso          0.238904          0.238904         4.185787\n",
      "Nepalese Rupee        1.600750          1.600750         0.624707\n",
      "New Zealand Dollar    0.018928          0.018928        52.833153\n",
      "Norwegian Krone       0.119036          0.119036         8.400850\n",
      "Omani Rial            0.004655          0.004655       214.820064\n",
      "Pakistani Rupee       2.724920          2.724920         0.366983\n",
      "Philippine Peso       0.670870          0.670870         1.490602\n",
      "Polish Zloty          0.053296          0.053296        18.763273\n",
      "Qatari Riyal          0.044053          0.044053        22.700017\n",
      "Romanian New Leu      0.055925          0.055925        17.881093\n",
      "Russian Ruble         0.796920          0.796920         1.254831\n",
      "Saudi Arabian Riyal   0.045384          0.045384        22.034150\n",
      "Singapore Dollar      0.016392          0.016392        61.004933\n",
      "South African Rand    0.211893          0.211893         4.719353\n",
      "South Korean Won      15.761910        15.761910         0.063444\n",
      "Sri Lankan Rupee      4.436058          4.436058         0.225425\n",
      "Swedish Krona         0.125265          0.125265         7.983046\n",
      "Swiss Franc           0.011247          0.011247        88.914302\n",
      "Taiwan New Dollar     0.372109          0.372109         2.687385\n",
      "Thai Baht             0.421346          0.421346         2.373349\n",
      "Trinidadian Dollar    0.082210          0.082210        12.163980\n",
      "Turkish Lira          0.225724          0.225724         4.430184\n",
      "US Dollar             0.012102          0.012102        82.628061\n",
      "Venezuelan Bolivar    19040.355810  19040.355810         0.000053\n"
     ]
    }
   ],
   "source": [
    "# Stacked Table Using Group Command\n",
    "multi_group_var = df.groupby(['Indian Rupee▲','1.00 INR▲▼'])[['1.00 INR▲▼','inv. 1.00 INR▲▼']].mean()\n",
    "print(multi_group_var)"
   ]
  },
  {
   "cell_type": "code",
   "execution_count": 68,
   "id": "c372cb6f",
   "metadata": {},
   "outputs": [
    {
     "ename": "ValueError",
     "evalue": "cannot insert 1.00 INR▲▼, already exists",
     "output_type": "error",
     "traceback": [
      "\u001b[1;31m---------------------------------------------------------------------------\u001b[0m",
      "\u001b[1;31mValueError\u001b[0m                                Traceback (most recent call last)",
      "\u001b[1;32m~\\AppData\\Local\\Temp/ipykernel_6636/3555918887.py\u001b[0m in \u001b[0;36m<module>\u001b[1;34m\u001b[0m\n\u001b[0;32m      3\u001b[0m \u001b[1;31m# if you flatten dataFrame you can use reset_index method\u001b[0m\u001b[1;33m\u001b[0m\u001b[1;33m\u001b[0m\u001b[0m\n\u001b[0;32m      4\u001b[0m \u001b[1;31m# It might give error bcoz of not having appropriate csv file used\u001b[0m\u001b[1;33m\u001b[0m\u001b[1;33m\u001b[0m\u001b[0m\n\u001b[1;32m----> 5\u001b[1;33m \u001b[0mflat\u001b[0m \u001b[1;33m=\u001b[0m \u001b[0mmulti_group_var\u001b[0m\u001b[1;33m.\u001b[0m\u001b[0mreset_index\u001b[0m\u001b[1;33m(\u001b[0m\u001b[1;33m)\u001b[0m\u001b[1;33m\u001b[0m\u001b[1;33m\u001b[0m\u001b[0m\n\u001b[0m\u001b[0;32m      6\u001b[0m \u001b[0mprint\u001b[0m\u001b[1;33m(\u001b[0m\u001b[0mflat\u001b[0m\u001b[1;33m.\u001b[0m\u001b[0mhead\u001b[0m\u001b[1;33m(\u001b[0m\u001b[1;36m15\u001b[0m\u001b[1;33m)\u001b[0m\u001b[1;33m)\u001b[0m \u001b[1;31m# 1st 15 rows\u001b[0m\u001b[1;33m\u001b[0m\u001b[1;33m\u001b[0m\u001b[0m\n",
      "\u001b[1;32mD:\\Anaconda3\\lib\\site-packages\\pandas\\util\\_decorators.py\u001b[0m in \u001b[0;36mwrapper\u001b[1;34m(*args, **kwargs)\u001b[0m\n\u001b[0;32m    309\u001b[0m                     \u001b[0mstacklevel\u001b[0m\u001b[1;33m=\u001b[0m\u001b[0mstacklevel\u001b[0m\u001b[1;33m,\u001b[0m\u001b[1;33m\u001b[0m\u001b[1;33m\u001b[0m\u001b[0m\n\u001b[0;32m    310\u001b[0m                 )\n\u001b[1;32m--> 311\u001b[1;33m             \u001b[1;32mreturn\u001b[0m \u001b[0mfunc\u001b[0m\u001b[1;33m(\u001b[0m\u001b[1;33m*\u001b[0m\u001b[0margs\u001b[0m\u001b[1;33m,\u001b[0m \u001b[1;33m**\u001b[0m\u001b[0mkwargs\u001b[0m\u001b[1;33m)\u001b[0m\u001b[1;33m\u001b[0m\u001b[1;33m\u001b[0m\u001b[0m\n\u001b[0m\u001b[0;32m    312\u001b[0m \u001b[1;33m\u001b[0m\u001b[0m\n\u001b[0;32m    313\u001b[0m         \u001b[1;32mreturn\u001b[0m \u001b[0mwrapper\u001b[0m\u001b[1;33m\u001b[0m\u001b[1;33m\u001b[0m\u001b[0m\n",
      "\u001b[1;32mD:\\Anaconda3\\lib\\site-packages\\pandas\\core\\frame.py\u001b[0m in \u001b[0;36mreset_index\u001b[1;34m(self, level, drop, inplace, col_level, col_fill)\u001b[0m\n\u001b[0;32m   5797\u001b[0m                     )\n\u001b[0;32m   5798\u001b[0m \u001b[1;33m\u001b[0m\u001b[0m\n\u001b[1;32m-> 5799\u001b[1;33m                 \u001b[0mnew_obj\u001b[0m\u001b[1;33m.\u001b[0m\u001b[0minsert\u001b[0m\u001b[1;33m(\u001b[0m\u001b[1;36m0\u001b[0m\u001b[1;33m,\u001b[0m \u001b[0mname\u001b[0m\u001b[1;33m,\u001b[0m \u001b[0mlevel_values\u001b[0m\u001b[1;33m)\u001b[0m\u001b[1;33m\u001b[0m\u001b[1;33m\u001b[0m\u001b[0m\n\u001b[0m\u001b[0;32m   5800\u001b[0m \u001b[1;33m\u001b[0m\u001b[0m\n\u001b[0;32m   5801\u001b[0m         \u001b[0mnew_obj\u001b[0m\u001b[1;33m.\u001b[0m\u001b[0mindex\u001b[0m \u001b[1;33m=\u001b[0m \u001b[0mnew_index\u001b[0m\u001b[1;33m\u001b[0m\u001b[1;33m\u001b[0m\u001b[0m\n",
      "\u001b[1;32mD:\\Anaconda3\\lib\\site-packages\\pandas\\core\\frame.py\u001b[0m in \u001b[0;36minsert\u001b[1;34m(self, loc, column, value, allow_duplicates)\u001b[0m\n\u001b[0;32m   4412\u001b[0m         \u001b[1;32mif\u001b[0m \u001b[1;32mnot\u001b[0m \u001b[0mallow_duplicates\u001b[0m \u001b[1;32mand\u001b[0m \u001b[0mcolumn\u001b[0m \u001b[1;32min\u001b[0m \u001b[0mself\u001b[0m\u001b[1;33m.\u001b[0m\u001b[0mcolumns\u001b[0m\u001b[1;33m:\u001b[0m\u001b[1;33m\u001b[0m\u001b[1;33m\u001b[0m\u001b[0m\n\u001b[0;32m   4413\u001b[0m             \u001b[1;31m# Should this be a different kind of error??\u001b[0m\u001b[1;33m\u001b[0m\u001b[1;33m\u001b[0m\u001b[0m\n\u001b[1;32m-> 4414\u001b[1;33m             \u001b[1;32mraise\u001b[0m \u001b[0mValueError\u001b[0m\u001b[1;33m(\u001b[0m\u001b[1;34mf\"cannot insert {column}, already exists\"\u001b[0m\u001b[1;33m)\u001b[0m\u001b[1;33m\u001b[0m\u001b[1;33m\u001b[0m\u001b[0m\n\u001b[0m\u001b[0;32m   4415\u001b[0m         \u001b[1;32mif\u001b[0m \u001b[1;32mnot\u001b[0m \u001b[0misinstance\u001b[0m\u001b[1;33m(\u001b[0m\u001b[0mloc\u001b[0m\u001b[1;33m,\u001b[0m \u001b[0mint\u001b[0m\u001b[1;33m)\u001b[0m\u001b[1;33m:\u001b[0m\u001b[1;33m\u001b[0m\u001b[1;33m\u001b[0m\u001b[0m\n\u001b[0;32m   4416\u001b[0m             \u001b[1;32mraise\u001b[0m \u001b[0mTypeError\u001b[0m\u001b[1;33m(\u001b[0m\u001b[1;34m\"loc must be int\"\u001b[0m\u001b[1;33m)\u001b[0m\u001b[1;33m\u001b[0m\u001b[1;33m\u001b[0m\u001b[0m\n",
      "\u001b[1;31mValueError\u001b[0m: cannot insert 1.00 INR▲▼, already exists"
     ]
    }
   ],
   "source": [
    "# Very Imp\n",
    "# It is data manipulation from a big data file\n",
    "# if you flatten dataFrame you can use reset_index method\n",
    "# It might give error bcoz of not having appropriate csv file used\n",
    "flat = multi_group_var.reset_index()\n",
    "print(flat.head(15)) # 1st 15 rows"
   ]
  },
  {
   "cell_type": "code",
   "execution_count": 69,
   "id": "29acb674",
   "metadata": {},
   "outputs": [
    {
     "name": "stdout",
     "output_type": "stream",
     "text": [
      "Indian Rupee▲\n",
      "Argentine Peso           1\n",
      "Australian Dollar        1\n",
      "Bahraini Dinar           1\n",
      "Botswana Pula            1\n",
      "Brazilian Real           1\n",
      "British Pound            1\n",
      "Bruneian Dollar          1\n",
      "Bulgarian Lev            1\n",
      "Canadian Dollar          1\n",
      "Chilean Peso             1\n",
      "Chinese Yuan Renminbi    1\n",
      "Colombian Peso           1\n",
      "Croatian Kuna            1\n",
      "Czech Koruna             1\n",
      "Danish Krone             1\n",
      "Emirati Dirham           1\n",
      "Euro                     1\n",
      "Hong Kong Dollar         1\n",
      "Hungarian Forint         1\n",
      "Icelandic Krona          1\n",
      "Indonesian Rupiah        1\n",
      "Iranian Rial             1\n",
      "Israeli Shekel           1\n",
      "Japanese Yen             1\n",
      "Kazakhstani Tenge        1\n",
      "Kuwaiti Dinar            1\n",
      "Libyan Dinar             1\n",
      "Malaysian Ringgit        1\n",
      "Mauritian Rupee          1\n",
      "Mexican Peso             1\n",
      "Nepalese Rupee           1\n",
      "New Zealand Dollar       1\n",
      "Norwegian Krone          1\n",
      "Omani Rial               1\n",
      "Pakistani Rupee          1\n",
      "Philippine Peso          1\n",
      "Polish Zloty             1\n",
      "Qatari Riyal             1\n",
      "Romanian New Leu         1\n",
      "Russian Ruble            1\n",
      "Saudi Arabian Riyal      1\n",
      "Singapore Dollar         1\n",
      "South African Rand       1\n",
      "South Korean Won         1\n",
      "Sri Lankan Rupee         1\n",
      "Swedish Krona            1\n",
      "Swiss Franc              1\n",
      "Taiwan New Dollar        1\n",
      "Thai Baht                1\n",
      "Trinidadian Dollar       1\n",
      "Turkish Lira             1\n",
      "US Dollar                1\n",
      "Venezuelan Bolivar       1\n",
      "Name: 1.00 INR▲▼, dtype: int64\n"
     ]
    }
   ],
   "source": [
    "# Grouped Frequency Counts\n",
    "# Use 'nunique' to get counts of unique values on a Pandas Series\n",
    "# You get to know how many times a text or a value is to used\n",
    "print(df.groupby('Indian Rupee▲')['1.00 INR▲▼'].nunique())"
   ]
  },
  {
   "cell_type": "code",
   "execution_count": 70,
   "id": "c0c74b48",
   "metadata": {},
   "outputs": [
    {
     "name": "stdout",
     "output_type": "stream",
     "text": [
      "Indian Rupee▲\n",
      "Argentine Peso               2.090050\n",
      "Australian Dollar            0.018008\n",
      "Bahraini Dinar               0.004551\n",
      "Botswana Pula                0.155356\n",
      "Brazilian Real               0.064311\n",
      "British Pound                0.009917\n",
      "Bruneian Dollar              0.016392\n",
      "Bulgarian Lev                0.022244\n",
      "Canadian Dollar              0.016516\n",
      "Chilean Peso                10.729099\n",
      "Chinese Yuan Renminbi        0.084407\n",
      "Colombian Peso              57.965346\n",
      "Croatian Kuna                0.085754\n",
      "Czech Koruna                 0.275630\n",
      "Danish Krone                 0.084591\n",
      "Emirati Dirham               0.044446\n",
      "Euro                         0.011373\n",
      "Hong Kong Dollar             0.094181\n",
      "Hungarian Forint             4.593089\n",
      "Icelandic Krona              1.720790\n",
      "Indonesian Rupiah          188.557963\n",
      "Iranian Rial               502.755333\n",
      "Israeli Shekel               0.041665\n",
      "Japanese Yen                 1.644985\n",
      "Kazakhstani Tenge            5.669084\n",
      "Kuwaiti Dinar                0.003713\n",
      "Libyan Dinar                 0.058459\n",
      "Malaysian Ringgit            0.053533\n",
      "Mauritian Rupee              0.532021\n",
      "Mexican Peso                 0.238904\n",
      "Nepalese Rupee               1.600750\n",
      "New Zealand Dollar           0.018928\n",
      "Norwegian Krone              0.119036\n",
      "Omani Rial                   0.004655\n",
      "Pakistani Rupee              2.724920\n",
      "Philippine Peso              0.670870\n",
      "Polish Zloty                 0.053296\n",
      "Qatari Riyal                 0.044053\n",
      "Romanian New Leu             0.055925\n",
      "Russian Ruble                0.796920\n",
      "Saudi Arabian Riyal          0.045384\n",
      "Singapore Dollar             0.016392\n",
      "South African Rand           0.211893\n",
      "South Korean Won            15.761910\n",
      "Sri Lankan Rupee             4.436058\n",
      "Swedish Krona                0.125265\n",
      "Swiss Franc                  0.011247\n",
      "Taiwan New Dollar            0.372109\n",
      "Thai Baht                    0.421346\n",
      "Trinidadian Dollar           0.082210\n",
      "Turkish Lira                 0.225724\n",
      "US Dollar                    0.012102\n",
      "Venezuelan Bolivar       19040.355810\n",
      "Name: 1.00 INR▲▼, dtype: float64\n"
     ]
    }
   ],
   "source": [
    "# Basic Plot bw 2 columns\n",
    "# Eg:  To get Mean Life Expectancy for each year globally\n",
    "\n",
    "# new objet basic_plot is created\n",
    "basic_plot = df.groupby('Indian Rupee▲')['1.00 INR▲▼'].mean()\n",
    "print(basic_plot)"
   ]
  },
  {
   "cell_type": "code",
   "execution_count": 72,
   "id": "de4236b9",
   "metadata": {},
   "outputs": [
    {
     "data": {
      "text/plain": [
       "<AxesSubplot:xlabel='Indian Rupee▲'>"
      ]
     },
     "execution_count": 72,
     "metadata": {},
     "output_type": "execute_result"
    },
    {
     "data": {
      "image/png": "[encoded data removed]",
      "text/plain": [
       "<Figure size 432x288 with 1 Axes>"
      ]
     },
     "metadata": {
      "needs_background": "light"
     },
     "output_type": "display_data"
    }
   ],
   "source": [
    "# To plot a graph for a basic plot \n",
    "basic_plot.plot() "
   ]
  },
  {
   "cell_type": "code",
   "execution_count": 73,
   "id": "fc6b3b6a",
   "metadata": {},
   "outputs": [
    {
     "data": {
      "text/plain": [
       "Indian Rupee▲\n",
       "Argentine Peso               2.090050\n",
       "Australian Dollar            0.018008\n",
       "Bahraini Dinar               0.004551\n",
       "Botswana Pula                0.155356\n",
       "Brazilian Real               0.064311\n",
       "British Pound                0.009917\n",
       "Bruneian Dollar              0.016392\n",
       "Bulgarian Lev                0.022244\n",
       "Canadian Dollar              0.016516\n",
       "Chilean Peso                10.729099\n",
       "Chinese Yuan Renminbi        0.084407\n",
       "Colombian Peso              57.965346\n",
       "Croatian Kuna                0.085754\n",
       "Czech Koruna                 0.275630\n",
       "Danish Krone                 0.084591\n",
       "Emirati Dirham               0.044446\n",
       "Euro                         0.011373\n",
       "Hong Kong Dollar             0.094181\n",
       "Hungarian Forint             4.593089\n",
       "Icelandic Krona              1.720790\n",
       "Indonesian Rupiah          188.557963\n",
       "Iranian Rial               502.755333\n",
       "Israeli Shekel               0.041665\n",
       "Japanese Yen                 1.644985\n",
       "Kazakhstani Tenge            5.669084\n",
       "Kuwaiti Dinar                0.003713\n",
       "Libyan Dinar                 0.058459\n",
       "Malaysian Ringgit            0.053533\n",
       "Mauritian Rupee              0.532021\n",
       "Mexican Peso                 0.238904\n",
       "Nepalese Rupee               1.600750\n",
       "New Zealand Dollar           0.018928\n",
       "Norwegian Krone              0.119036\n",
       "Omani Rial                   0.004655\n",
       "Pakistani Rupee              2.724920\n",
       "Philippine Peso              0.670870\n",
       "Polish Zloty                 0.053296\n",
       "Qatari Riyal                 0.044053\n",
       "Romanian New Leu             0.055925\n",
       "Russian Ruble                0.796920\n",
       "Saudi Arabian Riyal          0.045384\n",
       "Singapore Dollar             0.016392\n",
       "South African Rand           0.211893\n",
       "South Korean Won            15.761910\n",
       "Sri Lankan Rupee             4.436058\n",
       "Swedish Krona                0.125265\n",
       "Swiss Franc                  0.011247\n",
       "Taiwan New Dollar            0.372109\n",
       "Thai Baht                    0.421346\n",
       "Trinidadian Dollar           0.082210\n",
       "Turkish Lira                 0.225724\n",
       "US Dollar                    0.012102\n",
       "Venezuelan Bolivar       19040.355810\n",
       "Name: 1.00 INR▲▼, dtype: float64"
      ]
     },
     "execution_count": 73,
     "metadata": {},
     "output_type": "execute_result"
    }
   ],
   "source": [
    "basic_plot"
   ]
  },
  {
   "cell_type": "code",
   "execution_count": null,
   "id": "e16146f4",
   "metadata": {},
   "outputs": [],
   "source": []
  },
  {
   "cell_type": "code",
   "execution_count": null,
   "id": "22d735e2",
   "metadata": {},
   "outputs": [],
   "source": []
  }
 ],
 "metadata": {
  "kernelspec": {
   "display_name": "Python 3 (ipykernel)",
   "language": "python",
   "name": "python3"
  },
  "language_info": {
   "codemirror_mode": {
    "name": "ipython",
    "version": 3
   },
   "file_extension": ".py",
   "mimetype": "text/x-python",
   "name": "python",
   "nbconvert_exporter": "python",
   "pygments_lexer": "ipython3",
   "version": "3.11.5"
  }
 },
 "nbformat": 4,
 "nbformat_minor": 5
}
