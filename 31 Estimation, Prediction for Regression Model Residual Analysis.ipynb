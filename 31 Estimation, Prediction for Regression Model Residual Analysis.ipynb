{
 "cells": [
  {
   "cell_type": "markdown",
   "id": "847048c9",
   "metadata": {},
   "source": [
    "In previous class we have seen the confidence interval for x coefficient that is the b. For the b we have found that what was lower & upper limit."
   ]
  },
  {
   "cell_type": "markdown",
   "id": "9337a1a7",
   "metadata": {},
   "source": [
    "In this class we will find the confidence interval for y and prediction interval."
   ]
  },
  {
   "cell_type": "code",
   "execution_count": 1,
   "id": "a0345d1d",
   "metadata": {},
   "outputs": [],
   "source": [
    "import pandas as pd\n",
    "import matplotlib as mpl\n",
    "import numpy as np\n",
    "import statsmodels.api as sm\n",
    "from statsmodels.formula.api import ols\n",
    "from sklearn.linear_model import LinearRegression\n",
    "from scipy import stats\n",
    "import seaborn as sns\n",
    "import matplotlib.pyplot as plt"
   ]
  },
  {
   "cell_type": "code",
   "execution_count": 2,
   "id": "9b628436",
   "metadata": {},
   "outputs": [
    {
     "data": {
      "text/html": [
       "<div>\n",
       "<style scoped>\n",
       "    .dataframe tbody tr th:only-of-type {\n",
       "        vertical-align: middle;\n",
       "    }\n",
       "\n",
       "    .dataframe tbody tr th {\n",
       "        vertical-align: top;\n",
       "    }\n",
       "\n",
       "    .dataframe thead th {\n",
       "        text-align: right;\n",
       "    }\n",
       "</style>\n",
       "<table border=\"1\" class=\"dataframe\">\n",
       "  <thead>\n",
       "    <tr style=\"text-align: right;\">\n",
       "      <th></th>\n",
       "      <th>Student_Population</th>\n",
       "      <th>Sales</th>\n",
       "    </tr>\n",
       "  </thead>\n",
       "  <tbody>\n",
       "    <tr>\n",
       "      <th>0</th>\n",
       "      <td>2</td>\n",
       "      <td>58</td>\n",
       "    </tr>\n",
       "    <tr>\n",
       "      <th>1</th>\n",
       "      <td>6</td>\n",
       "      <td>105</td>\n",
       "    </tr>\n",
       "    <tr>\n",
       "      <th>2</th>\n",
       "      <td>8</td>\n",
       "      <td>88</td>\n",
       "    </tr>\n",
       "    <tr>\n",
       "      <th>3</th>\n",
       "      <td>8</td>\n",
       "      <td>118</td>\n",
       "    </tr>\n",
       "    <tr>\n",
       "      <th>4</th>\n",
       "      <td>12</td>\n",
       "      <td>117</td>\n",
       "    </tr>\n",
       "    <tr>\n",
       "      <th>5</th>\n",
       "      <td>16</td>\n",
       "      <td>137</td>\n",
       "    </tr>\n",
       "    <tr>\n",
       "      <th>6</th>\n",
       "      <td>20</td>\n",
       "      <td>157</td>\n",
       "    </tr>\n",
       "    <tr>\n",
       "      <th>7</th>\n",
       "      <td>20</td>\n",
       "      <td>169</td>\n",
       "    </tr>\n",
       "    <tr>\n",
       "      <th>8</th>\n",
       "      <td>22</td>\n",
       "      <td>149</td>\n",
       "    </tr>\n",
       "    <tr>\n",
       "      <th>9</th>\n",
       "      <td>26</td>\n",
       "      <td>202</td>\n",
       "    </tr>\n",
       "  </tbody>\n",
       "</table>\n",
       "</div>"
      ],
      "text/plain": [
       "   Student_Population  Sales\n",
       "0                   2     58\n",
       "1                   6    105\n",
       "2                   8     88\n",
       "3                   8    118\n",
       "4                  12    117\n",
       "5                  16    137\n",
       "6                  20    157\n",
       "7                  20    169\n",
       "8                  22    149\n",
       "9                  26    202"
      ]
     },
     "execution_count": 2,
     "metadata": {},
     "output_type": "execute_result"
    }
   ],
   "source": [
    "data = pd.read_excel('Icecream.xlsx')\n",
    "data"
   ]
  },
  {
   "cell_type": "code",
   "execution_count": 3,
   "id": "37a87793",
   "metadata": {},
   "outputs": [
    {
     "data": {
      "image/png": "[encoded data removed]",
      "text/plain": [
       "<Figure size 640x480 with 1 Axes>"
      ]
     },
     "metadata": {},
     "output_type": "display_data"
    }
   ],
   "source": [
    "data.plot('Student_Population','Sales',style='o') # x-axis\n",
    "plt.ylabel('Ice Cream Sales') # dont write label it now shows error\n",
    "plt.title('Sales')\n",
    "plt.show()"
   ]
  },
  {
   "cell_type": "code",
   "execution_count": 4,
   "id": "ffff9c21",
   "metadata": {},
   "outputs": [
    {
     "name": "stderr",
     "output_type": "stream",
     "text": [
      "d:\\Python311\\Lib\\site-packages\\scipy\\stats\\_stats_py.py:1806: UserWarning: kurtosistest only valid for n>=20 ... continuing anyway, n=10\n",
      "  warnings.warn(\"kurtosistest only valid for n>=20 ... continuing \"\n"
     ]
    },
    {
     "data": {
      "text/html": [
       "<table class=\"simpletable\">\n",
       "<caption>OLS Regression Results</caption>\n",
       "<tr>\n",
       "  <th>Dep. Variable:</th>          <td>Sales</td>      <th>  R-squared:         </th> <td>   0.903</td>\n",
       "</tr>\n",
       "<tr>\n",
       "  <th>Model:</th>                   <td>OLS</td>       <th>  Adj. R-squared:    </th> <td>   0.891</td>\n",
       "</tr>\n",
       "<tr>\n",
       "  <th>Method:</th>             <td>Least Squares</td>  <th>  F-statistic:       </th> <td>   74.25</td>\n",
       "</tr>\n",
       "<tr>\n",
       "  <th>Date:</th>             <td>Sun, 17 Mar 2024</td> <th>  Prob (F-statistic):</th> <td>2.55e-05</td>\n",
       "</tr>\n",
       "<tr>\n",
       "  <th>Time:</th>                 <td>22:50:25</td>     <th>  Log-Likelihood:    </th> <td> -39.342</td>\n",
       "</tr>\n",
       "<tr>\n",
       "  <th>No. Observations:</th>      <td>    10</td>      <th>  AIC:               </th> <td>   82.68</td>\n",
       "</tr>\n",
       "<tr>\n",
       "  <th>Df Residuals:</th>          <td>     8</td>      <th>  BIC:               </th> <td>   83.29</td>\n",
       "</tr>\n",
       "<tr>\n",
       "  <th>Df Model:</th>              <td>     1</td>      <th>                     </th>     <td> </td>   \n",
       "</tr>\n",
       "<tr>\n",
       "  <th>Covariance Type:</th>      <td>nonrobust</td>    <th>                     </th>     <td> </td>   \n",
       "</tr>\n",
       "</table>\n",
       "<table class=\"simpletable\">\n",
       "<tr>\n",
       "           <td></td>             <th>coef</th>     <th>std err</th>      <th>t</th>      <th>P>|t|</th>  <th>[0.025</th>    <th>0.975]</th>  \n",
       "</tr>\n",
       "<tr>\n",
       "  <th>Intercept</th>          <td>   60.0000</td> <td>    9.226</td> <td>    6.503</td> <td> 0.000</td> <td>   38.725</td> <td>   81.275</td>\n",
       "</tr>\n",
       "<tr>\n",
       "  <th>Student_Population</th> <td>    5.0000</td> <td>    0.580</td> <td>    8.617</td> <td> 0.000</td> <td>    3.662</td> <td>    6.338</td>\n",
       "</tr>\n",
       "</table>\n",
       "<table class=\"simpletable\">\n",
       "<tr>\n",
       "  <th>Omnibus:</th>       <td> 0.928</td> <th>  Durbin-Watson:     </th> <td>   3.224</td>\n",
       "</tr>\n",
       "<tr>\n",
       "  <th>Prob(Omnibus):</th> <td> 0.629</td> <th>  Jarque-Bera (JB):  </th> <td>   0.616</td>\n",
       "</tr>\n",
       "<tr>\n",
       "  <th>Skew:</th>          <td>-0.060</td> <th>  Prob(JB):          </th> <td>   0.735</td>\n",
       "</tr>\n",
       "<tr>\n",
       "  <th>Kurtosis:</th>      <td> 1.790</td> <th>  Cond. No.          </th> <td>    33.6</td>\n",
       "</tr>\n",
       "</table><br/><br/>Notes:<br/>[1] Standard Errors assume that the covariance matrix of the errors is correctly specified."
      ],
      "text/latex": [
       "\\begin{center}\n",
       "\\begin{tabular}{lclc}\n",
       "\\toprule\n",
       "\\textbf{Dep. Variable:}      &      Sales       & \\textbf{  R-squared:         } &     0.903   \\\\\n",
       "\\textbf{Model:}              &       OLS        & \\textbf{  Adj. R-squared:    } &     0.891   \\\\\n",
       "\\textbf{Method:}             &  Least Squares   & \\textbf{  F-statistic:       } &     74.25   \\\\\n",
       "\\textbf{Date:}               & Sun, 17 Mar 2024 & \\textbf{  Prob (F-statistic):} &  2.55e-05   \\\\\n",
       "\\textbf{Time:}               &     22:50:25     & \\textbf{  Log-Likelihood:    } &   -39.342   \\\\\n",
       "\\textbf{No. Observations:}   &          10      & \\textbf{  AIC:               } &     82.68   \\\\\n",
       "\\textbf{Df Residuals:}       &           8      & \\textbf{  BIC:               } &     83.29   \\\\\n",
       "\\textbf{Df Model:}           &           1      & \\textbf{                     } &             \\\\\n",
       "\\textbf{Covariance Type:}    &    nonrobust     & \\textbf{                     } &             \\\\\n",
       "\\bottomrule\n",
       "\\end{tabular}\n",
       "\\begin{tabular}{lcccccc}\n",
       "                             & \\textbf{coef} & \\textbf{std err} & \\textbf{t} & \\textbf{P$> |$t$|$} & \\textbf{[0.025} & \\textbf{0.975]}  \\\\\n",
       "\\midrule\n",
       "\\textbf{Intercept}           &      60.0000  &        9.226     &     6.503  &         0.000        &       38.725    &       81.275     \\\\\n",
       "\\textbf{Student\\_Population} &       5.0000  &        0.580     &     8.617  &         0.000        &        3.662    &        6.338     \\\\\n",
       "\\bottomrule\n",
       "\\end{tabular}\n",
       "\\begin{tabular}{lclc}\n",
       "\\textbf{Omnibus:}       &  0.928 & \\textbf{  Durbin-Watson:     } &    3.224  \\\\\n",
       "\\textbf{Prob(Omnibus):} &  0.629 & \\textbf{  Jarque-Bera (JB):  } &    0.616  \\\\\n",
       "\\textbf{Skew:}          & -0.060 & \\textbf{  Prob(JB):          } &    0.735  \\\\\n",
       "\\textbf{Kurtosis:}      &  1.790 & \\textbf{  Cond. No.          } &     33.6  \\\\\n",
       "\\bottomrule\n",
       "\\end{tabular}\n",
       "%\\caption{OLS Regression Results}\n",
       "\\end{center}\n",
       "\n",
       "Notes: \\newline\n",
       " [1] Standard Errors assume that the covariance matrix of the errors is correctly specified."
      ],
      "text/plain": [
       "<class 'statsmodels.iolib.summary.Summary'>\n",
       "\"\"\"\n",
       "                            OLS Regression Results                            \n",
       "==============================================================================\n",
       "Dep. Variable:                  Sales   R-squared:                       0.903\n",
       "Model:                            OLS   Adj. R-squared:                  0.891\n",
       "Method:                 Least Squares   F-statistic:                     74.25\n",
       "Date:                Sun, 17 Mar 2024   Prob (F-statistic):           2.55e-05\n",
       "Time:                        22:50:25   Log-Likelihood:                -39.342\n",
       "No. Observations:                  10   AIC:                             82.68\n",
       "Df Residuals:                       8   BIC:                             83.29\n",
       "Df Model:                           1                                         \n",
       "Covariance Type:            nonrobust                                         \n",
       "======================================================================================\n",
       "                         coef    std err          t      P>|t|      [0.025      0.975]\n",
       "--------------------------------------------------------------------------------------\n",
       "Intercept             60.0000      9.226      6.503      0.000      38.725      81.275\n",
       "Student_Population     5.0000      0.580      8.617      0.000       3.662       6.338\n",
       "==============================================================================\n",
       "Omnibus:                        0.928   Durbin-Watson:                   3.224\n",
       "Prob(Omnibus):                  0.629   Jarque-Bera (JB):                0.616\n",
       "Skew:                          -0.060   Prob(JB):                        0.735\n",
       "Kurtosis:                       1.790   Cond. No.                         33.6\n",
       "==============================================================================\n",
       "\n",
       "Notes:\n",
       "[1] Standard Errors assume that the covariance matrix of the errors is correctly specified.\n",
       "\"\"\""
      ]
     },
     "execution_count": 4,
     "metadata": {},
     "output_type": "execute_result"
    }
   ],
   "source": [
    "# throws error\n",
    "#St_pop = data['Population']\n",
    "#sales = data['Sales']\n",
    "#st_pop = s.add_constant(St_pop)\n",
    "#model1 = sm.OLS(sales, st_pop).fit()\n",
    "#result1 = model1.fit()\n",
    "#print(result1.summary())\n",
    "\n",
    "\n",
    "Reg1 = ols(formula = \"Sales ~ Student_Population\", data=data)\n",
    "Fit1 = Reg1.fit()\n",
    "Fit1.summary()"
   ]
  },
  {
   "cell_type": "code",
   "execution_count": 5,
   "id": "56ffe463",
   "metadata": {},
   "outputs": [],
   "source": [
    "x = data['Student_Population'].values.reshape(-1,1)\n",
    "y = data['Sales'].values.reshape(-1,1)"
   ]
  },
  {
   "cell_type": "code",
   "execution_count": 6,
   "id": "22b2e93b",
   "metadata": {},
   "outputs": [
    {
     "data": {
      "text/html": [
       "<style>#sk-container-id-1 {color: black;}#sk-container-id-1 pre{padding: 0;}#sk-container-id-1 div.sk-toggleable {background-color: white;}#sk-container-id-1 label.sk-toggleable__label {cursor: pointer;display: block;width: 100%;margin-bottom: 0;padding: 0.3em;box-sizing: border-box;text-align: center;}#sk-container-id-1 label.sk-toggleable__label-arrow:before {content: \"▸\";float: left;margin-right: 0.25em;color: #696969;}#sk-container-id-1 label.sk-toggleable__label-arrow:hover:before {color: black;}#sk-container-id-1 div.sk-estimator:hover label.sk-toggleable__label-arrow:before {color: black;}#sk-container-id-1 div.sk-toggleable__content {max-height: 0;max-width: 0;overflow: hidden;text-align: left;background-color: #f0f8ff;}#sk-container-id-1 div.sk-toggleable__content pre {margin: 0.2em;color: black;border-radius: 0.25em;background-color: #f0f8ff;}#sk-container-id-1 input.sk-toggleable__control:checked~div.sk-toggleable__content {max-height: 200px;max-width: 100%;overflow: auto;}#sk-container-id-1 input.sk-toggleable__control:checked~label.sk-toggleable__label-arrow:before {content: \"▾\";}#sk-container-id-1 div.sk-estimator input.sk-toggleable__control:checked~label.sk-toggleable__label {background-color: #d4ebff;}#sk-container-id-1 div.sk-label input.sk-toggleable__control:checked~label.sk-toggleable__label {background-color: #d4ebff;}#sk-container-id-1 input.sk-hidden--visually {border: 0;clip: rect(1px 1px 1px 1px);clip: rect(1px, 1px, 1px, 1px);height: 1px;margin: -1px;overflow: hidden;padding: 0;position: absolute;width: 1px;}#sk-container-id-1 div.sk-estimator {font-family: monospace;background-color: #f0f8ff;border: 1px dotted black;border-radius: 0.25em;box-sizing: border-box;margin-bottom: 0.5em;}#sk-container-id-1 div.sk-estimator:hover {background-color: #d4ebff;}#sk-container-id-1 div.sk-parallel-item::after {content: \"\";width: 100%;border-bottom: 1px solid gray;flex-grow: 1;}#sk-container-id-1 div.sk-label:hover label.sk-toggleable__label {background-color: #d4ebff;}#sk-container-id-1 div.sk-serial::before {content: \"\";position: absolute;border-left: 1px solid gray;box-sizing: border-box;top: 0;bottom: 0;left: 50%;z-index: 0;}#sk-container-id-1 div.sk-serial {display: flex;flex-direction: column;align-items: center;background-color: white;padding-right: 0.2em;padding-left: 0.2em;position: relative;}#sk-container-id-1 div.sk-item {position: relative;z-index: 1;}#sk-container-id-1 div.sk-parallel {display: flex;align-items: stretch;justify-content: center;background-color: white;position: relative;}#sk-container-id-1 div.sk-item::before, #sk-container-id-1 div.sk-parallel-item::before {content: \"\";position: absolute;border-left: 1px solid gray;box-sizing: border-box;top: 0;bottom: 0;left: 50%;z-index: -1;}#sk-container-id-1 div.sk-parallel-item {display: flex;flex-direction: column;z-index: 1;position: relative;background-color: white;}#sk-container-id-1 div.sk-parallel-item:first-child::after {align-self: flex-end;width: 50%;}#sk-container-id-1 div.sk-parallel-item:last-child::after {align-self: flex-start;width: 50%;}#sk-container-id-1 div.sk-parallel-item:only-child::after {width: 0;}#sk-container-id-1 div.sk-dashed-wrapped {border: 1px dashed gray;margin: 0 0.4em 0.5em 0.4em;box-sizing: border-box;padding-bottom: 0.4em;background-color: white;}#sk-container-id-1 div.sk-label label {font-family: monospace;font-weight: bold;display: inline-block;line-height: 1.2em;}#sk-container-id-1 div.sk-label-container {text-align: center;}#sk-container-id-1 div.sk-container {/* jupyter's `normalize.less` sets `[hidden] { display: none; }` but bootstrap.min.css set `[hidden] { display: none !important; }` so we also need the `!important` here to be able to override the default hidden behavior on the sphinx rendered scikit-learn.org. See: https://github.com/scikit-learn/scikit-learn/issues/21755 */display: inline-block !important;position: relative;}#sk-container-id-1 div.sk-text-repr-fallback {display: none;}</style><div id=\"sk-container-id-1\" class=\"sk-top-container\"><div class=\"sk-text-repr-fallback\"><pre>LinearRegression()</pre><b>In a Jupyter environment, please rerun this cell to show the HTML representation or trust the notebook. <br />On GitHub, the HTML representation is unable to render, please try loading this page with nbviewer.org.</b></div><div class=\"sk-container\" hidden><div class=\"sk-item\"><div class=\"sk-estimator sk-toggleable\"><input class=\"sk-toggleable__control sk-hidden--visually\" id=\"sk-estimator-id-1\" type=\"checkbox\" checked><label for=\"sk-estimator-id-1\" class=\"sk-toggleable__label sk-toggleable__label-arrow\">LinearRegression</label><div class=\"sk-toggleable__content\"><pre>LinearRegression()</pre></div></div></div></div></div>"
      ],
      "text/plain": [
       "LinearRegression()"
      ]
     },
     "execution_count": 6,
     "metadata": {},
     "output_type": "execute_result"
    }
   ],
   "source": [
    "reg = LinearRegression()\n",
    "reg.fit(x,y)"
   ]
  },
  {
   "cell_type": "code",
   "execution_count": 7,
   "id": "8675b42e",
   "metadata": {},
   "outputs": [
    {
     "data": {
      "text/plain": [
       "(60.0, 5.0)"
      ]
     },
     "execution_count": 7,
     "metadata": {},
     "output_type": "execute_result"
    }
   ],
   "source": [
    "reg.intercept_[0], reg.coef_[0][0]"
   ]
  },
  {
   "cell_type": "code",
   "execution_count": 8,
   "id": "50547910",
   "metadata": {},
   "outputs": [
    {
     "data": {
      "text/plain": [
       "array([[110.]])"
      ]
     },
     "execution_count": 8,
     "metadata": {},
     "output_type": "execute_result"
    }
   ],
   "source": [
    "reg.predict(np.array([[10]])) # above data is a 2d array so use 2d array format\n",
    "# for i/p:10k students its  o/p:$110k"
   ]
  },
  {
   "cell_type": "code",
   "execution_count": 9,
   "id": "a19942c8",
   "metadata": {},
   "outputs": [
    {
     "data": {
      "text/plain": [
       "<matplotlib.collections.PathCollection at 0x242fedadf90>"
      ]
     },
     "execution_count": 9,
     "metadata": {},
     "output_type": "execute_result"
    },
    {
     "data": {
      "image/png": "[encoded data removed]",
      "text/plain": [
       "<Figure size 640x480 with 1 Axes>"
      ]
     },
     "metadata": {},
     "output_type": "display_data"
    }
   ],
   "source": [
    "# point estimate\n",
    "#x = data['Population'].values.reshape(-1,1)\n",
    "#y = data['Sales'].values.reshape(-1,1)\n",
    "plt.figure()\n",
    "sns.regplot(data=data,x='Student_Population',y='Sales', fit_reg=True) # throws error\n",
    "plt.scatter(np.mean(x), np.mean(y), color = \"green\")"
   ]
  },
  {
   "cell_type": "code",
   "execution_count": 10,
   "id": "177ddd81",
   "metadata": {},
   "outputs": [],
   "source": [
    "# Prediction Interval\n",
    "# result1 has thrown error in statsmodel.api cell so it is showing error\n",
    "#from statsmodels.stats.outliers_influence import summary_table\n",
    "\n",
    "#st, data1, ss2 = summary_table(Fit1, alpha=0.05)\n",
    "#fittedvalues = data[:2]\n",
    "#fittedvalues = data[:,2] # 2, we are reffering 3rd column\n",
    "#predict_mean_se = data1[:3]\n",
    "#predict_mean_se = np.sqrt(ss2[:, 3])  # Column 3 has std err for the mean prediction\n",
    "#predict_mean_se = data1[:,3] # 3, we are reffering 4th column \n",
    "#predict_mean_ci_low, predict_mean_ci_upp = data1[:,4:6].T\n",
    "#predict_mean_ci_low, predict_mean_ci_upp = ss2[:, 4:6].T  # Columns 4 and 5 have the CI for the mean prediction\n",
    "# ci_low means confidence interval lower limit and ci_upp is upper limit\n",
    "# in summary table we are reffering 4th to 6th column\n",
    "#predict_ci_low, predict_ci_upp = data1[:,6:8].T # 6th to 8th column\n",
    "# we are calling diff columns for a particular value"
   ]
  },
  {
   "cell_type": "code",
   "execution_count": 11,
   "id": "3900b7e5",
   "metadata": {},
   "outputs": [
    {
     "data": {
      "image/png": "[encoded data removed]",
      "text/plain": [
       "<Figure size 800x600 with 1 Axes>"
      ]
     },
     "metadata": {},
     "output_type": "display_data"
    }
   ],
   "source": [
    "from statsmodels.stats.outliers_influence import summary_table\n",
    "\n",
    "st, data1, ss2 = summary_table(Fit1, alpha=0.05)\n",
    "\n",
    "# Extracting the relevant values from the data1 array\n",
    "fittedvalues = data1[:, 2] # Linear Regression Line - Red\n",
    "predict_mean_se = np.sqrt(data1[:, 3]) # all rows from 3rd column\n",
    "predict_mean_ci_low, predict_mean_ci_upp = data1[:, 4], data1[:, 5]\n",
    "predict_ci_low, predict_ci_upp = data1[:, 6], data1[:, 7]\n",
    "\n",
    "X = sm.add_constant(x)\n",
    "fig, ax = plt.subplots(figsize=(8, 6))\n",
    "\n",
    "ax.plot(x, y, 'o', label='data') # Blue dotted data values\n",
    "ax.plot(x, fittedvalues, 'r-', label='OLS')  # Using the calculated fitted values\n",
    "\n",
    "ax.plot(x, predict_ci_low, 'b--') # Prediction Interval Line - Low\n",
    "ax.plot(x, predict_ci_upp, 'b--') # Prediction Interval Line - High\n",
    "\n",
    "ax.plot(x, predict_mean_ci_low, 'g--') # Confidence Interval Line - Low\n",
    "ax.plot(x, predict_mean_ci_upp, 'g--') # Confidence Interval Line - High\n",
    "\n",
    "ax.legend(loc='best')\n",
    "\n",
    "plt.show()"
   ]
  },
  {
   "cell_type": "code",
   "execution_count": 12,
   "id": "722b29c6",
   "metadata": {},
   "outputs": [
    {
     "data": {
      "text/html": [
       "<div>\n",
       "<style scoped>\n",
       "    .dataframe tbody tr th:only-of-type {\n",
       "        vertical-align: middle;\n",
       "    }\n",
       "\n",
       "    .dataframe tbody tr th {\n",
       "        vertical-align: top;\n",
       "    }\n",
       "\n",
       "    .dataframe thead th {\n",
       "        text-align: right;\n",
       "    }\n",
       "</style>\n",
       "<table border=\"1\" class=\"dataframe\">\n",
       "  <thead>\n",
       "    <tr style=\"text-align: right;\">\n",
       "      <th></th>\n",
       "      <th>0</th>\n",
       "      <th>1</th>\n",
       "      <th>2</th>\n",
       "      <th>3</th>\n",
       "      <th>4</th>\n",
       "      <th>5</th>\n",
       "      <th>6</th>\n",
       "      <th>7</th>\n",
       "      <th>8</th>\n",
       "      <th>9</th>\n",
       "      <th>10</th>\n",
       "      <th>11</th>\n",
       "    </tr>\n",
       "  </thead>\n",
       "  <tbody>\n",
       "    <tr>\n",
       "      <th>0</th>\n",
       "      <td>1.0</td>\n",
       "      <td>58.0</td>\n",
       "      <td>70.0</td>\n",
       "      <td>8.222586</td>\n",
       "      <td>51.038683</td>\n",
       "      <td>88.961317</td>\n",
       "      <td>32.898342</td>\n",
       "      <td>107.101658</td>\n",
       "      <td>-12.0</td>\n",
       "      <td>11.119311</td>\n",
       "      <td>-1.079204</td>\n",
       "      <td>0.318447</td>\n",
       "    </tr>\n",
       "    <tr>\n",
       "      <th>1</th>\n",
       "      <td>2.0</td>\n",
       "      <td>105.0</td>\n",
       "      <td>90.0</td>\n",
       "      <td>6.377640</td>\n",
       "      <td>75.293135</td>\n",
       "      <td>104.706865</td>\n",
       "      <td>54.881723</td>\n",
       "      <td>125.118277</td>\n",
       "      <td>15.0</td>\n",
       "      <td>12.270929</td>\n",
       "      <td>1.222401</td>\n",
       "      <td>0.201819</td>\n",
       "    </tr>\n",
       "    <tr>\n",
       "      <th>2</th>\n",
       "      <td>3.0</td>\n",
       "      <td>88.0</td>\n",
       "      <td>100.0</td>\n",
       "      <td>5.589855</td>\n",
       "      <td>87.109771</td>\n",
       "      <td>112.890229</td>\n",
       "      <td>65.602914</td>\n",
       "      <td>134.397086</td>\n",
       "      <td>-12.0</td>\n",
       "      <td>12.649250</td>\n",
       "      <td>-0.948673</td>\n",
       "      <td>0.087877</td>\n",
       "    </tr>\n",
       "    <tr>\n",
       "      <th>3</th>\n",
       "      <td>4.0</td>\n",
       "      <td>118.0</td>\n",
       "      <td>100.0</td>\n",
       "      <td>5.589855</td>\n",
       "      <td>87.109771</td>\n",
       "      <td>112.890229</td>\n",
       "      <td>65.602914</td>\n",
       "      <td>134.397086</td>\n",
       "      <td>18.0</td>\n",
       "      <td>12.649250</td>\n",
       "      <td>1.423009</td>\n",
       "      <td>0.197723</td>\n",
       "    </tr>\n",
       "    <tr>\n",
       "      <th>4</th>\n",
       "      <td>5.0</td>\n",
       "      <td>117.0</td>\n",
       "      <td>120.0</td>\n",
       "      <td>4.524581</td>\n",
       "      <td>109.566298</td>\n",
       "      <td>130.433702</td>\n",
       "      <td>86.446108</td>\n",
       "      <td>153.553892</td>\n",
       "      <td>-3.0</td>\n",
       "      <td>13.068212</td>\n",
       "      <td>-0.229565</td>\n",
       "      <td>0.003159</td>\n",
       "    </tr>\n",
       "    <tr>\n",
       "      <th>5</th>\n",
       "      <td>6.0</td>\n",
       "      <td>137.0</td>\n",
       "      <td>140.0</td>\n",
       "      <td>4.524581</td>\n",
       "      <td>129.566298</td>\n",
       "      <td>150.433702</td>\n",
       "      <td>106.446108</td>\n",
       "      <td>173.553892</td>\n",
       "      <td>-3.0</td>\n",
       "      <td>13.068212</td>\n",
       "      <td>-0.229565</td>\n",
       "      <td>0.003159</td>\n",
       "    </tr>\n",
       "    <tr>\n",
       "      <th>6</th>\n",
       "      <td>7.0</td>\n",
       "      <td>157.0</td>\n",
       "      <td>160.0</td>\n",
       "      <td>5.589855</td>\n",
       "      <td>147.109771</td>\n",
       "      <td>172.890229</td>\n",
       "      <td>125.602914</td>\n",
       "      <td>194.397086</td>\n",
       "      <td>-3.0</td>\n",
       "      <td>12.649250</td>\n",
       "      <td>-0.237168</td>\n",
       "      <td>0.005492</td>\n",
       "    </tr>\n",
       "    <tr>\n",
       "      <th>7</th>\n",
       "      <td>8.0</td>\n",
       "      <td>169.0</td>\n",
       "      <td>160.0</td>\n",
       "      <td>5.589855</td>\n",
       "      <td>147.109771</td>\n",
       "      <td>172.890229</td>\n",
       "      <td>125.602914</td>\n",
       "      <td>194.397086</td>\n",
       "      <td>9.0</td>\n",
       "      <td>12.649250</td>\n",
       "      <td>0.711505</td>\n",
       "      <td>0.049431</td>\n",
       "    </tr>\n",
       "    <tr>\n",
       "      <th>8</th>\n",
       "      <td>9.0</td>\n",
       "      <td>149.0</td>\n",
       "      <td>170.0</td>\n",
       "      <td>6.377640</td>\n",
       "      <td>155.293135</td>\n",
       "      <td>184.706865</td>\n",
       "      <td>134.881723</td>\n",
       "      <td>205.118277</td>\n",
       "      <td>-21.0</td>\n",
       "      <td>12.270929</td>\n",
       "      <td>-1.711362</td>\n",
       "      <td>0.395566</td>\n",
       "    </tr>\n",
       "    <tr>\n",
       "      <th>9</th>\n",
       "      <td>10.0</td>\n",
       "      <td>202.0</td>\n",
       "      <td>190.0</td>\n",
       "      <td>8.222586</td>\n",
       "      <td>171.038683</td>\n",
       "      <td>208.961317</td>\n",
       "      <td>152.898342</td>\n",
       "      <td>227.101658</td>\n",
       "      <td>12.0</td>\n",
       "      <td>11.119311</td>\n",
       "      <td>1.079204</td>\n",
       "      <td>0.318447</td>\n",
       "    </tr>\n",
       "  </tbody>\n",
       "</table>\n",
       "</div>"
      ],
      "text/plain": [
       "     0      1      2         3           4           5           6   \\\n",
       "0   1.0   58.0   70.0  8.222586   51.038683   88.961317   32.898342   \n",
       "1   2.0  105.0   90.0  6.377640   75.293135  104.706865   54.881723   \n",
       "2   3.0   88.0  100.0  5.589855   87.109771  112.890229   65.602914   \n",
       "3   4.0  118.0  100.0  5.589855   87.109771  112.890229   65.602914   \n",
       "4   5.0  117.0  120.0  4.524581  109.566298  130.433702   86.446108   \n",
       "5   6.0  137.0  140.0  4.524581  129.566298  150.433702  106.446108   \n",
       "6   7.0  157.0  160.0  5.589855  147.109771  172.890229  125.602914   \n",
       "7   8.0  169.0  160.0  5.589855  147.109771  172.890229  125.602914   \n",
       "8   9.0  149.0  170.0  6.377640  155.293135  184.706865  134.881723   \n",
       "9  10.0  202.0  190.0  8.222586  171.038683  208.961317  152.898342   \n",
       "\n",
       "           7     8          9         10        11  \n",
       "0  107.101658 -12.0  11.119311 -1.079204  0.318447  \n",
       "1  125.118277  15.0  12.270929  1.222401  0.201819  \n",
       "2  134.397086 -12.0  12.649250 -0.948673  0.087877  \n",
       "3  134.397086  18.0  12.649250  1.423009  0.197723  \n",
       "4  153.553892  -3.0  13.068212 -0.229565  0.003159  \n",
       "5  173.553892  -3.0  13.068212 -0.229565  0.003159  \n",
       "6  194.397086  -3.0  12.649250 -0.237168  0.005492  \n",
       "7  194.397086   9.0  12.649250  0.711505  0.049431  \n",
       "8  205.118277 -21.0  12.270929 -1.711362  0.395566  \n",
       "9  227.101658  12.0  11.119311  1.079204  0.318447  "
      ]
     },
     "execution_count": 12,
     "metadata": {},
     "output_type": "execute_result"
    }
   ],
   "source": [
    "pd.DataFrame(data1)"
   ]
  },
  {
   "cell_type": "code",
   "execution_count": 13,
   "id": "5b42ab8e",
   "metadata": {},
   "outputs": [
    {
     "data": {
      "text/html": [
       "<table class=\"simpletable\">\n",
       "<tr>\n",
       "   <th>Obs</th>   <th>Dep Var</th>       <th>Predicted</th>          <th>Std Error</th>           <th>Mean ci</th>            <th>Mean ci</th>          <th>Predict ci</th>         <th>Predict ci</th>          <th>Residual</th>            <th>Std Error</th>            <th>Student</th>              <th>Cook's</th>        \n",
       "</tr>\n",
       "<tr>\n",
       "    <th></th>   <th>Population</th>        <th>Value</th>          <th>Mean Predict</th>          <th>95% low</th>            <th>95% upp</th>            <th>95% low</th>            <th>95% upp</th>               <th></th>                <th>Residual</th>            <th>Residual</th>                 <th>D</th>          \n",
       "</tr>\n",
       "<tr>\n",
       "   <td>1.0</td>    <td>58.0</td>     <td>69.99999999999993</td>  <td>8.222585693865268</td>  <td>51.03868338928038</td>  <td>88.96131661071948</td> <td>32.898341547840026</td> <td>107.10165845215982</td> <td>-11.999999999999929</td> <td>11.119311332409138</td>  <td>-1.0792035263032769</td>  <td>0.3184474325136626</td>  \n",
       "</tr>\n",
       "<tr>\n",
       "   <td>2.0</td>    <td>105.0</td>    <td>89.99999999999994</td>  <td>6.377640298311584</td>  <td>75.29313510033796</td> <td>104.70686489966192</td>  <td>54.88172260110566</td> <td>125.11827739889424</td> <td>15.000000000000057</td>  <td>12.270929232350424</td>  <td>1.2224013125635877</td>   <td>0.20181932943876052</td> \n",
       "</tr>\n",
       "<tr>\n",
       "   <td>3.0</td>    <td>88.0</td>     <td>99.99999999999994</td>  <td>5.589854995725688</td>  <td>87.10977126561956</td> <td>112.89022873438033</td>  <td>65.60291394444249</td>  <td>134.3970860555574</td> <td>-11.999999999999943</td> <td>12.649249824663936</td>  <td>-0.9486728593660895</td>  <td>0.08787685396914853</td> \n",
       "</tr>\n",
       "<tr>\n",
       "   <td>4.0</td>    <td>118.0</td>    <td>99.99999999999994</td>  <td>5.589854995725688</td>  <td>87.10977126561956</td> <td>112.89022873438033</td>  <td>65.60291394444249</td>  <td>134.3970860555574</td> <td>18.000000000000057</td>  <td>12.649249824663936</td>  <td>1.4230092890491455</td>   <td>0.19772292143058734</td> \n",
       "</tr>\n",
       "<tr>\n",
       "   <td>5.0</td>    <td>117.0</td>   <td>119.99999999999996</td>  <td>4.524580752502434</td> <td>109.56629807543695</td> <td>130.43370192456297</td>  <td>86.44610800310323</td> <td>153.55389199689668</td> <td>-2.9999999999999574</td>  <td>13.06821215829023</td>  <td>-0.2295646844160556</td> <td>0.003158671742239181</td> \n",
       "</tr>\n",
       "<tr>\n",
       "   <td>6.0</td>    <td>137.0</td>   <td>139.99999999999997</td>  <td>4.524580752502434</td> <td>129.56629807543695</td>  <td>150.433701924563</td>  <td>106.44610800310325</td>  <td>173.5538919968967</td> <td>-2.9999999999999716</td>  <td>13.06821215829023</td> <td>-0.22956468441605668</td> <td>0.003158671742239211</td> \n",
       "</tr>\n",
       "<tr>\n",
       "   <td>7.0</td>    <td>157.0</td>          <td>160.0</td>       <td>5.5898549957256884</td> <td>147.10977126561963</td> <td>172.89022873438037</td> <td>125.60291394444255</td> <td>194.39708605555745</td>        <td>-3.0</td>         <td>12.649249824663935</td> <td>-0.23716821484152353</td> <td>0.0054923033730718395</td>\n",
       "</tr>\n",
       "<tr>\n",
       "   <td>8.0</td>    <td>169.0</td>          <td>160.0</td>       <td>5.5898549957256884</td> <td>147.10977126561963</td> <td>172.89022873438037</td> <td>125.60291394444255</td> <td>194.39708605555745</td>         <td>9.0</td>         <td>12.649249824663935</td>  <td>0.7115046445245706</td>  <td>0.049430730357646564</td> \n",
       "</tr>\n",
       "<tr>\n",
       "   <td>9.0</td>    <td>149.0</td>          <td>170.0</td>        <td>6.377640298311586</td> <td>155.29313510033802</td> <td>184.70686489966198</td>  <td>134.8817226011057</td>  <td>205.1182773988943</td>        <td>-21.0</td>        <td>12.270929232350424</td>  <td>-1.7113618375890167</td>  <td>0.39556588569996803</td> \n",
       "</tr>\n",
       "<tr>\n",
       "  <td>10.0</td>    <td>202.0</td>          <td>190.0</td>        <td>8.222585693865264</td> <td>171.03868338928046</td> <td>208.96131661071954</td>  <td>152.8983415478401</td>  <td>227.1016584521599</td>        <td>12.0</td>          <td>11.11931133240914</td>  <td>1.0792035263032829</td>   <td>0.31844743251366586</td> \n",
       "</tr>\n",
       "</table>"
      ],
      "text/latex": [
       "\\begin{center}\n",
       "\\begin{tabular}{cccccccccccc}\n",
       "\\toprule\n",
       "\\textbf{Obs} &   \\textbf{Dep Var}  & \\textbf{Predicted} &   \\textbf{Std Error}  &  \\textbf{Mean ci}  &  \\textbf{Mean ci}  & \\textbf{Predict ci} & \\textbf{Predict ci} &  \\textbf{Residual}  & \\textbf{Std Error} &   \\textbf{Student}   &    \\textbf{Cook's}     \\\\\n",
       " \\textbf{}   & \\textbf{Population} &   \\textbf{Value}   & \\textbf{Mean Predict} & \\textbf{95\\% low}  & \\textbf{95\\% upp}  &  \\textbf{95\\% low}  &  \\textbf{95\\% upp}  &      \\textbf{}      & \\textbf{Residual}  &  \\textbf{Residual}   &       \\textbf{D}       \\\\\n",
       "\\midrule\n",
       "    1.0      &         58.0        & 69.99999999999993  &   8.222585693865268   & 51.03868338928038  & 88.96131661071948  &  32.898341547840026 &  107.10165845215982 & -11.999999999999929 & 11.119311332409138 & -1.0792035263032769  &   0.3184474325136626   \\\\\n",
       "    2.0      &        105.0        & 89.99999999999994  &   6.377640298311584   & 75.29313510033796  & 104.70686489966192 &  54.88172260110566  &  125.11827739889424 &  15.000000000000057 & 12.270929232350424 &  1.2224013125635877  &  0.20181932943876052   \\\\\n",
       "    3.0      &         88.0        & 99.99999999999994  &   5.589854995725688   & 87.10977126561956  & 112.89022873438033 &  65.60291394444249  &  134.3970860555574  & -11.999999999999943 & 12.649249824663936 & -0.9486728593660895  &  0.08787685396914853   \\\\\n",
       "    4.0      &        118.0        & 99.99999999999994  &   5.589854995725688   & 87.10977126561956  & 112.89022873438033 &  65.60291394444249  &  134.3970860555574  &  18.000000000000057 & 12.649249824663936 &  1.4230092890491455  &  0.19772292143058734   \\\\\n",
       "    5.0      &        117.0        & 119.99999999999996 &   4.524580752502434   & 109.56629807543695 & 130.43370192456297 &  86.44610800310323  &  153.55389199689668 & -2.9999999999999574 & 13.06821215829023  & -0.2295646844160556  &  0.003158671742239181  \\\\\n",
       "    6.0      &        137.0        & 139.99999999999997 &   4.524580752502434   & 129.56629807543695 &  150.433701924563  &  106.44610800310325 &  173.5538919968967  & -2.9999999999999716 & 13.06821215829023  & -0.22956468441605668 &  0.003158671742239211  \\\\\n",
       "    7.0      &        157.0        &       160.0        &   5.5898549957256884  & 147.10977126561963 & 172.89022873438037 &  125.60291394444255 &  194.39708605555745 &         -3.0        & 12.649249824663935 & -0.23716821484152353 & 0.0054923033730718395  \\\\\n",
       "    8.0      &        169.0        &       160.0        &   5.5898549957256884  & 147.10977126561963 & 172.89022873438037 &  125.60291394444255 &  194.39708605555745 &         9.0         & 12.649249824663935 &  0.7115046445245706  &  0.049430730357646564  \\\\\n",
       "    9.0      &        149.0        &       170.0        &   6.377640298311586   & 155.29313510033802 & 184.70686489966198 &  134.8817226011057  &  205.1182773988943  &        -21.0        & 12.270929232350424 & -1.7113618375890167  &  0.39556588569996803   \\\\\n",
       "    10.0     &        202.0        &       190.0        &   8.222585693865264   & 171.03868338928046 & 208.96131661071954 &  152.8983415478401  &  227.1016584521599  &         12.0        & 11.11931133240914  &  1.0792035263032829  &  0.31844743251366586   \\\\\n",
       "\\bottomrule\n",
       "\\end{tabular}\n",
       "\\end{center}"
      ],
      "text/plain": [
       "<class 'statsmodels.iolib.table.SimpleTable'>"
      ]
     },
     "execution_count": 13,
     "metadata": {},
     "output_type": "execute_result"
    }
   ],
   "source": [
    "st"
   ]
  },
  {
   "cell_type": "code",
   "execution_count": 14,
   "id": "113dffd1",
   "metadata": {},
   "outputs": [
    {
     "data": {
      "text/html": [
       "<div>\n",
       "<style scoped>\n",
       "    .dataframe tbody tr th:only-of-type {\n",
       "        vertical-align: middle;\n",
       "    }\n",
       "\n",
       "    .dataframe tbody tr th {\n",
       "        vertical-align: top;\n",
       "    }\n",
       "\n",
       "    .dataframe thead th {\n",
       "        text-align: right;\n",
       "    }\n",
       "</style>\n",
       "<table border=\"1\" class=\"dataframe\">\n",
       "  <thead>\n",
       "    <tr style=\"text-align: right;\">\n",
       "      <th></th>\n",
       "      <th>Student_Population</th>\n",
       "      <th>Sales</th>\n",
       "    </tr>\n",
       "  </thead>\n",
       "  <tbody>\n",
       "    <tr>\n",
       "      <th>0</th>\n",
       "      <td>2</td>\n",
       "      <td>58</td>\n",
       "    </tr>\n",
       "    <tr>\n",
       "      <th>1</th>\n",
       "      <td>6</td>\n",
       "      <td>105</td>\n",
       "    </tr>\n",
       "    <tr>\n",
       "      <th>2</th>\n",
       "      <td>8</td>\n",
       "      <td>88</td>\n",
       "    </tr>\n",
       "    <tr>\n",
       "      <th>3</th>\n",
       "      <td>8</td>\n",
       "      <td>118</td>\n",
       "    </tr>\n",
       "    <tr>\n",
       "      <th>4</th>\n",
       "      <td>12</td>\n",
       "      <td>117</td>\n",
       "    </tr>\n",
       "    <tr>\n",
       "      <th>5</th>\n",
       "      <td>16</td>\n",
       "      <td>137</td>\n",
       "    </tr>\n",
       "    <tr>\n",
       "      <th>6</th>\n",
       "      <td>20</td>\n",
       "      <td>157</td>\n",
       "    </tr>\n",
       "    <tr>\n",
       "      <th>7</th>\n",
       "      <td>20</td>\n",
       "      <td>169</td>\n",
       "    </tr>\n",
       "    <tr>\n",
       "      <th>8</th>\n",
       "      <td>22</td>\n",
       "      <td>149</td>\n",
       "    </tr>\n",
       "    <tr>\n",
       "      <th>9</th>\n",
       "      <td>26</td>\n",
       "      <td>202</td>\n",
       "    </tr>\n",
       "  </tbody>\n",
       "</table>\n",
       "</div>"
      ],
      "text/plain": [
       "   Student_Population  Sales\n",
       "0                   2     58\n",
       "1                   6    105\n",
       "2                   8     88\n",
       "3                   8    118\n",
       "4                  12    117\n",
       "5                  16    137\n",
       "6                  20    157\n",
       "7                  20    169\n",
       "8                  22    149\n",
       "9                  26    202"
      ]
     },
     "execution_count": 14,
     "metadata": {},
     "output_type": "execute_result"
    }
   ],
   "source": [
    "data"
   ]
  },
  {
   "cell_type": "code",
   "execution_count": 15,
   "id": "dec0cc06",
   "metadata": {},
   "outputs": [
    {
     "data": {
      "text/plain": [
       "['Obs',\n",
       " 'Dep Var\\nPopulation',\n",
       " 'Predicted\\nValue',\n",
       " 'Std Error\\nMean Predict',\n",
       " 'Mean ci\\n95% low',\n",
       " 'Mean ci\\n95% upp',\n",
       " 'Predict ci\\n95% low',\n",
       " 'Predict ci\\n95% upp',\n",
       " 'Residual',\n",
       " 'Std Error\\nResidual',\n",
       " 'Student\\nResidual',\n",
       " \"Cook's\\nD\"]"
      ]
     },
     "execution_count": 15,
     "metadata": {},
     "output_type": "execute_result"
    }
   ],
   "source": [
    "ss2"
   ]
  },
  {
   "cell_type": "code",
   "execution_count": 16,
   "id": "03ff94b4",
   "metadata": {},
   "outputs": [
    {
     "data": {
      "text/plain": [
       "array([ 70.,  90., 100., 100., 120., 140., 160., 160., 170., 190.])"
      ]
     },
     "execution_count": 16,
     "metadata": {},
     "output_type": "execute_result"
    }
   ],
   "source": [
    "fittedvalues\n",
    "# data1[:, 2]"
   ]
  },
  {
   "cell_type": "code",
   "execution_count": 17,
   "id": "74e0e996",
   "metadata": {},
   "outputs": [
    {
     "data": {
      "text/plain": [
       "array([2.86750513, 2.52539904, 2.36428742, 2.36428742, 2.12710619,\n",
       "       2.12710619, 2.36428742, 2.36428742, 2.52539904, 2.86750513])"
      ]
     },
     "execution_count": 17,
     "metadata": {},
     "output_type": "execute_result"
    }
   ],
   "source": [
    "predict_mean_se"
   ]
  },
  {
   "cell_type": "code",
   "execution_count": 18,
   "id": "5a33a5df",
   "metadata": {},
   "outputs": [
    {
     "data": {
      "text/plain": [
       "array([ 51.03868339,  75.2931351 ,  87.10977127,  87.10977127,\n",
       "       109.56629808, 129.56629808, 147.10977127, 147.10977127,\n",
       "       155.2931351 , 171.03868339])"
      ]
     },
     "execution_count": 18,
     "metadata": {},
     "output_type": "execute_result"
    }
   ],
   "source": [
    "predict_mean_ci_low"
   ]
  },
  {
   "cell_type": "code",
   "execution_count": 19,
   "id": "d82068c8",
   "metadata": {},
   "outputs": [
    {
     "data": {
      "text/plain": [
       "array([ 88.96131661, 104.7068649 , 112.89022873, 112.89022873,\n",
       "       130.43370192, 150.43370192, 172.89022873, 172.89022873,\n",
       "       184.7068649 , 208.96131661])"
      ]
     },
     "execution_count": 19,
     "metadata": {},
     "output_type": "execute_result"
    }
   ],
   "source": [
    "predict_mean_ci_upp"
   ]
  },
  {
   "cell_type": "code",
   "execution_count": 20,
   "id": "34dc6105",
   "metadata": {},
   "outputs": [
    {
     "data": {
      "text/plain": [
       "array([ 32.89834155,  54.8817226 ,  65.60291394,  65.60291394,\n",
       "        86.446108  , 106.446108  , 125.60291394, 125.60291394,\n",
       "       134.8817226 , 152.89834155])"
      ]
     },
     "execution_count": 20,
     "metadata": {},
     "output_type": "execute_result"
    }
   ],
   "source": [
    "predict_ci_low"
   ]
  },
  {
   "cell_type": "code",
   "execution_count": 21,
   "id": "548f80df",
   "metadata": {},
   "outputs": [
    {
     "data": {
      "text/plain": [
       "array([107.10165845, 125.1182774 , 134.39708606, 134.39708606,\n",
       "       153.553892  , 173.553892  , 194.39708606, 194.39708606,\n",
       "       205.1182774 , 227.10165845])"
      ]
     },
     "execution_count": 21,
     "metadata": {},
     "output_type": "execute_result"
    }
   ],
   "source": [
    "predict_ci_upp"
   ]
  },
  {
   "cell_type": "code",
   "execution_count": 22,
   "id": "dd675070",
   "metadata": {},
   "outputs": [],
   "source": [
    "# throw error above made 4 cells above for graph\n",
    "#X = sm.add_constant(x)\n",
    "#fig, ax = plt.subplots(figsize=(8,6))\n",
    "#ax.plot(X,y, 'o',label='data')\n",
    "#ax.plot(X, fittedvalues, 'r-',label='OLS') # throws error \n",
    "#ax.plot(X, predict_ci_low, 'b--')\n",
    "#ax.plot(X, predict_ci_upp, 'b--')\n",
    "#ax.plot(X, predict_mean_ci_low, 'g--')\n",
    "#ax.plot(X, predict_mean_ci_upp, 'g--')\n",
    "#ax.legend(loc='best')\n",
    "#plt.show()"
   ]
  },
  {
   "cell_type": "markdown",
   "id": "3703b3ce",
   "metadata": {},
   "source": [
    "Summary: Point Interval, Confidence Interval, Prediction Interval. Point interval is same for particular value of x for both confidence and prediction interval. Confidence interval is not the straight line it is curved line similarly the prediction interval. The prediction interval is having mor margin of error when compared to confidence interval"
   ]
  }
 ],
 "metadata": {
  "kernelspec": {
   "display_name": "Python 3 (ipykernel)",
   "language": "python",
   "name": "python3"
  },
  "language_info": {
   "codemirror_mode": {
    "name": "ipython",
    "version": 3
   },
   "file_extension": ".py",
   "mimetype": "text/x-python",
   "name": "python",
   "nbconvert_exporter": "python",
   "pygments_lexer": "ipython3",
   "version": "3.11.5"
  }
 },
 "nbformat": 4,
 "nbformat_minor": 5
}
