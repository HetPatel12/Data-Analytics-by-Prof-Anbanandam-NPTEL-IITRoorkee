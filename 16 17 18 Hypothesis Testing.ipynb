{
 "cells": [
  {
   "cell_type": "code",
   "execution_count": 1,
   "id": "b2a18b5e",
   "metadata": {},
   "outputs": [],
   "source": [
    "from scipy import stats"
   ]
  },
  {
   "cell_type": "markdown",
   "id": "cc2c4e1e",
   "metadata": {},
   "source": [
    "ScreenShot(663) or Lec-16 23:17"
   ]
  },
  {
   "cell_type": "markdown",
   "id": "3660a60f",
   "metadata": {},
   "source": [
    "If p-value is less than alpha so the way out to this region is a rejection region. \n",
    "As per the figure beyond -Za (LHS) it is rejection region. So beyond Za=-1.46 we have to reject the null hypothesis\n",
    "This is left side test or lower side test.\n",
    "alpha=10% ie 0.1"
   ]
  },
  {
   "cell_type": "code",
   "execution_count": 2,
   "id": "35e1997d",
   "metadata": {},
   "outputs": [
    {
     "data": {
      "text/plain": [
       "0.9750021048517795"
      ]
     },
     "execution_count": 2,
     "metadata": {},
     "output_type": "execute_result"
    }
   ],
   "source": [
    "# p-value to 1 tailed(RHS BY +VE SIGN)\n",
    "stats.norm.cdf(1.96)"
   ]
  },
  {
   "cell_type": "code",
   "execution_count": 3,
   "id": "29dc6154",
   "metadata": {},
   "outputs": [
    {
     "data": {
      "text/plain": [
       "0.07214503696589378"
      ]
     },
     "execution_count": 3,
     "metadata": {},
     "output_type": "execute_result"
    }
   ],
   "source": [
    "# p-value to 1 tailed (LHS BY -VE SIGN)\n",
    "stats.norm.cdf(-1.46)"
   ]
  },
  {
   "cell_type": "markdown",
   "id": "5225ee9a",
   "metadata": {},
   "source": [
    "ScreenShot(665) or Lec-16 24:27\n",
    "\n",
    "When alpha=4%, Z=2.29. Find the coressponding area towards the right side. So we can find out at Za=1.75. Z=2.29"
   ]
  },
  {
   "cell_type": "code",
   "execution_count": 4,
   "id": "1f04e546",
   "metadata": {},
   "outputs": [
    {
     "data": {
      "text/plain": [
       "0.040059156863817114"
      ]
     },
     "execution_count": 4,
     "metadata": {},
     "output_type": "execute_result"
    }
   ],
   "source": [
    "# Not actually required bcoz alpha will be directly given here. \n",
    "# It is only for proof/testing. How to use from Z, How this is Z value that we have find out the probability value \n",
    "1-stats.norm.cdf(1.75)"
   ]
  },
  {
   "cell_type": "code",
   "execution_count": 5,
   "id": "d43b459d",
   "metadata": {},
   "outputs": [
    {
     "data": {
      "text/plain": [
       "0.011010658324411393"
      ]
     },
     "execution_count": 5,
     "metadata": {},
     "output_type": "execute_result"
    }
   ],
   "source": [
    "#  stats.norm.cdf() will give LHS Area Thus it is 1-stats.norm.cdf to get the RHS Area \n",
    "# The area beyond p-value = .011\n",
    "# p-value is less than alpha. So the side rhs to Z(alpha) is rejection region and its LHS is acceptance region\n",
    "# If p-value = 0.01 You are still at rejection region and you have to reject a null hypothesis\n",
    "# If p-value = 0.05 ie, you have crossed the boundary You will land on acceptance region. So accept null hypothesis\n",
    "1-stats.norm.cdf(2.29)"
   ]
  },
  {
   "cell_type": "markdown",
   "id": "135d231c",
   "metadata": {},
   "source": [
    "Screenshot(668) or Lec-16 28:19"
   ]
  },
  {
   "cell_type": "code",
   "execution_count": 6,
   "id": "0dd7e224",
   "metadata": {},
   "outputs": [
    {
     "data": {
      "text/plain": [
       "-1.2815515655446004"
      ]
     },
     "execution_count": 6,
     "metadata": {},
     "output_type": "execute_result"
    }
   ],
   "source": [
    "# When area=0.1, the correspondong Z-value=-1.28 \n",
    "stats.norm.ppf(0.1)"
   ]
  },
  {
   "cell_type": "markdown",
   "id": "a0cb8d68",
   "metadata": {},
   "source": [
    "ScreenShot(669) or Lec-16 28:36"
   ]
  },
  {
   "cell_type": "code",
   "execution_count": 7,
   "id": "14eac789",
   "metadata": {},
   "outputs": [
    {
     "data": {
      "text/plain": [
       "1.6448536269514722"
      ]
     },
     "execution_count": 7,
     "metadata": {},
     "output_type": "execute_result"
    }
   ],
   "source": [
    "# Upper Tail Test alpha=0.05 so RHS Area is 0.05 and LHS Area is 0.95. Corressponding Z-Value is 1.645\n",
    "# If you take Z=1.7, you have to reject the null hypothesis But if lying LHS to Z then accep null hypothesis\n",
    "stats.norm.ppf(0.95)"
   ]
  },
  {
   "cell_type": "markdown",
   "id": "4213a652",
   "metadata": {},
   "source": [
    "We have hypotehsis testing using p-value approach and critical value approach \n",
    "\n",
    "Imp: Decision whether to reject or accept a null hypothesis in p-value method is decided by comparing the probability.\n",
    "     P-value vs Apha-value\n",
    "     But in a critical value approach the decision is done by comparing the critical value and calculated Z-value.\n",
    "     Decision will be same , only for comparison purpose sometimes we compare probability sometimes we compare critical value.\n",
    "     But the end Result will be same."
   ]
  },
  {
   "cell_type": "markdown",
   "id": "25f87313",
   "metadata": {},
   "source": [
    "# Hypothesis Testing - II"
   ]
  },
  {
   "cell_type": "markdown",
   "id": "406c3213",
   "metadata": {},
   "source": [
    "Lec-17 4:20 or ScreenShot(674)"
   ]
  },
  {
   "cell_type": "code",
   "execution_count": 8,
   "id": "4bced4a3",
   "metadata": {},
   "outputs": [
    {
     "data": {
      "text/plain": [
       "0.1378565720320355"
      ]
     },
     "execution_count": 8,
     "metadata": {},
     "output_type": "execute_result"
    }
   ],
   "source": [
    "1-stats.norm.cdf(1.09)"
   ]
  },
  {
   "cell_type": "code",
   "execution_count": 9,
   "id": "50f6e657",
   "metadata": {},
   "outputs": [
    {
     "data": {
      "text/plain": [
       "0.003071959218650444"
      ]
     },
     "execution_count": 9,
     "metadata": {},
     "output_type": "execute_result"
    }
   ],
   "source": [
    "# 2 Tailed Test About population mean using p-value approach\n",
    "# Lec-17 15:44 or ScreenShot(692)\n",
    "1-stats.norm.cdf(2.74)\n",
    "# It gives RHS Area"
   ]
  },
  {
   "cell_type": "code",
   "execution_count": 10,
   "id": "4e796f03",
   "metadata": {},
   "outputs": [
    {
     "data": {
      "text/plain": [
       "0.006143918437300888"
      ]
     },
     "execution_count": 10,
     "metadata": {},
     "output_type": "execute_result"
    }
   ],
   "source": [
    "# Multiply it both side as it is symmetric\n",
    "2*(1-stats.norm.cdf(2.74))"
   ]
  },
  {
   "cell_type": "code",
   "execution_count": 11,
   "id": "f6f58255",
   "metadata": {},
   "outputs": [
    {
     "data": {
      "text/plain": [
       "-2.1700903775845606"
      ]
     },
     "execution_count": 11,
     "metadata": {},
     "output_type": "execute_result"
    }
   ],
   "source": [
    "# Using Critical Value Approach\n",
    "# Lec-17 20:44 or ScreenShot(699)\n",
    "stats.norm.ppf(0.015)\n",
    "# You get lower limit of critical value and it is symmetric so rhs also has same value"
   ]
  },
  {
   "cell_type": "markdown",
   "id": "6e8a1c2c",
   "metadata": {},
   "source": [
    "# Hypothesis Testing - III"
   ]
  },
  {
   "cell_type": "code",
   "execution_count": 12,
   "id": "5b2ee519",
   "metadata": {},
   "outputs": [],
   "source": [
    "import numpy as np # scipy from stats is already imported so not required now"
   ]
  },
  {
   "cell_type": "code",
   "execution_count": 13,
   "id": "4e723bf3",
   "metadata": {},
   "outputs": [
    {
     "data": {
      "text/plain": [
       "TtestResult(statistic=1.5623450931857947, pvalue=0.1621787560592894, df=7)"
      ]
     },
     "execution_count": 13,
     "metadata": {},
     "output_type": "execute_result"
    }
   ],
   "source": [
    "# For doing t-test in Python\n",
    "x=[10,12,20,21,22,24,18,15]\n",
    "stats.ttest_1samp(x,15) # 15 is assumed mean"
   ]
  },
  {
   "cell_type": "markdown",
   "id": "3e3ccdf3",
   "metadata": {},
   "source": [
    "ScreenShot(711) or Lec-18 7:35"
   ]
  },
  {
   "cell_type": "code",
   "execution_count": 14,
   "id": "6e7ebb5f",
   "metadata": {},
   "outputs": [
    {
     "data": {
      "text/plain": [
       "TtestResult(statistic=-0.358433858548785, pvalue=0.7239703579964251, df=19)"
      ]
     },
     "execution_count": 14,
     "metadata": {},
     "output_type": "execute_result"
    }
   ],
   "source": [
    "x=[13,8,10,10,8,9,10,11,6,8,12,11,11,12,10,12,7,10,11,8]\n",
    "stats.ttest_1samp(x,10) # 10 is assumed mean and x is array"
   ]
  },
  {
   "cell_type": "code",
   "execution_count": 15,
   "id": "c6069450",
   "metadata": {},
   "outputs": [
    {
     "data": {
      "text/plain": [
       "0.3619851789982126"
      ]
     },
     "execution_count": 15,
     "metadata": {},
     "output_type": "execute_result"
    }
   ],
   "source": [
    "# s it was one-tailed test div by 2\n",
    "0.7239703579964252/2\n",
    "# ans >=0.05 Accept null hypothesis\n",
    "# if ans ws 0.03 ie, < 0.05, Reject null hypothesis"
   ]
  },
  {
   "cell_type": "code",
   "execution_count": 16,
   "id": "386249ff",
   "metadata": {},
   "outputs": [
    {
     "data": {
      "text/plain": [
       "0.35262102566795583"
      ]
     },
     "execution_count": 16,
     "metadata": {},
     "output_type": "execute_result"
    }
   ],
   "source": [
    "stats.t.cdf(-0.384,19) # Sample size is 20 so degree of freedom = 19\n",
    "# When calaculated it's t-value its corresponding area is 0.352...\n",
    "# It is left side area and if you put 0.384 you get RHS Area\n",
    "# here p-value > alpha ie, 0.35 > 0.05 So accept null hypothesis"
   ]
  },
  {
   "cell_type": "code",
   "execution_count": 17,
   "id": "77ebb16a",
   "metadata": {},
   "outputs": [
    {
     "data": {
      "text/plain": [
       "-1.7291328115213678"
      ]
     },
     "execution_count": 17,
     "metadata": {},
     "output_type": "execute_result"
    }
   ],
   "source": [
    "stats.t.ppf(0.05,19)"
   ]
  },
  {
   "cell_type": "markdown",
   "id": "6ad18f90",
   "metadata": {},
   "source": [
    "Lec-18 14:42 or ScreenShot(722)"
   ]
  },
  {
   "cell_type": "code",
   "execution_count": 18,
   "id": "a9d0f040",
   "metadata": {},
   "outputs": [],
   "source": [
    "from statsmodels.stats.proportion import proportions_ztest"
   ]
  },
  {
   "cell_type": "code",
   "execution_count": 19,
   "id": "729ce631",
   "metadata": {},
   "outputs": [
    {
     "data": {
      "text/plain": [
       "(1.286806739751111, 0.1981616572238455)"
      ]
     },
     "execution_count": 19,
     "metadata": {},
     "output_type": "execute_result"
    }
   ],
   "source": [
    "# proportion test means z-test, no t-test\n",
    "count = 67 # No. of success\n",
    "samplesize = 120 \n",
    "P=0.5 # Population Mean\n",
    "proportions_ztest(count, samplesize, P) \n",
    "# Output(z-value, p-value)"
   ]
  }
 ],
 "metadata": {
  "kernelspec": {
   "display_name": "Python 3 (ipykernel)",
   "language": "python",
   "name": "python3"
  },
  "language_info": {
   "codemirror_mode": {
    "name": "ipython",
    "version": 3
   },
   "file_extension": ".py",
   "mimetype": "text/x-python",
   "name": "python",
   "nbconvert_exporter": "python",
   "pygments_lexer": "ipython3",
   "version": "3.11.4"
  }
 },
 "nbformat": 4,
 "nbformat_minor": 5
}
