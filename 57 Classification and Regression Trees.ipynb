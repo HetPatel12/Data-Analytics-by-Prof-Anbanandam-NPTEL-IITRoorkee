{
 "cells": [
  {
   "cell_type": "markdown",
   "id": "9a49f58f",
   "metadata": {},
   "source": [
    "In classification techniques, the dependent variable is categorical variable most of the time but in regression analysis, continuous variable is he dependent variable \n",
    "\n",
    "Most of the time regression analysis used to predict a continuous variable but the classification analysis is used to predict the categorical variable. "
   ]
  },
  {
   "cell_type": "markdown",
   "id": "0f05edab",
   "metadata": {},
   "source": [
    "Summary: CART Model. Different terminology which are frequently used in CART Model. Theory behind different attribute selection measures like information gain, Gini Index. Pruning of tree.\n",
    "\n",
    "Next Class: With information, how to choose attributes, correct attributes"
   ]
  },
  {
   "cell_type": "code",
   "execution_count": null,
   "id": "88693226",
   "metadata": {},
   "outputs": [],
   "source": []
  }
 ],
 "metadata": {
  "kernelspec": {
   "display_name": "Python 3 (ipykernel)",
   "language": "python",
   "name": "python3"
  },
  "language_info": {
   "codemirror_mode": {
    "name": "ipython",
    "version": 3
   },
   "file_extension": ".py",
   "mimetype": "text/x-python",
   "name": "python",
   "nbconvert_exporter": "python",
   "pygments_lexer": "ipython3",
   "version": "3.9.16"
  }
 },
 "nbformat": 4,
 "nbformat_minor": 5
}
