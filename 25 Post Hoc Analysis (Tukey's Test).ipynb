{
 "cells": [
  {
   "cell_type": "markdown",
   "id": "2f19f808",
   "metadata": {},
   "source": [
    "Once you reject a null hypothesis means you accept alternative hypotheis it is need not be that all means not equal some time any pair may be equal some other pair may not be equal. So whenever you reject null hypothesis, you have to ask which 2 means are equal? For that purpose there is one more statistical analysis ie, Post Hoc Analysis"
   ]
  },
  {
   "cell_type": "code",
   "execution_count": 1,
   "id": "a88900ee",
   "metadata": {},
   "outputs": [],
   "source": [
    "import pandas as pd\n",
    "import numpy as np\n",
    "import math\n",
    "from scipy import stats\n",
    "import scipy\n",
    "import statsmodels.api as sm\n",
    "from statsmodels.formula.api import ols\n",
    "from matplotlib import pyplot as plt"
   ]
  },
  {
   "cell_type": "code",
   "execution_count": 2,
   "id": "e445b0b5",
   "metadata": {},
   "outputs": [
    {
     "data": {
      "image/png": "[encoded data removed]",
      "text/plain": [
       "<Figure size 640x480 with 1 Axes>"
      ]
     },
     "metadata": {},
     "output_type": "display_data"
    }
   ],
   "source": [
    "# Lec-25 5:00 or ScreenShot(991)\n",
    "fivepercent = [7,8,15,11,9,10]\n",
    "tenpercent = [12,17,13,18,19,15]\n",
    "fifteenpercent = [14,18,19,17,16,18]\n",
    "twentypercent = [19,25,22,23,18,20]\n",
    "\n",
    "box_plot_data = [fivepercent, tenpercent, fifteenpercent, twentypercent]\n",
    "plt.boxplot(box_plot_data)\n",
    "plt.show()\n",
    "# box-whisker plot\n",
    "\n",
    "# Means are not equal. They appears that whenever the \n",
    "# percentage of hardwood is increasing so the tensile \n",
    "# strength is increasing bcoz there seems to be there\n",
    "# is an increasing strength.\n"
   ]
  },
  {
   "cell_type": "code",
   "execution_count": 3,
   "id": "5b1b226d",
   "metadata": {},
   "outputs": [
    {
     "data": {
      "text/plain": [
       "3.599599239012541e-06"
      ]
     },
     "execution_count": 3,
     "metadata": {},
     "output_type": "execute_result"
    }
   ],
   "source": [
    "# stats from scipy\n",
    "1-scipy.stats.f.cdf(19.6,3,20)\n",
    "#                  (value at which you calc cdf, dfn, dfd)\n",
    "# alpha = 5% and p-value < alpha so reject null hypotheis. Now there is the \n",
    "# influence of this hardwood on the tensile strength"
   ]
  },
  {
   "cell_type": "code",
   "execution_count": 4,
   "id": "a48bb84d",
   "metadata": {},
   "outputs": [
    {
     "data": {
      "text/plain": [
       "4.938193382310539"
      ]
     },
     "execution_count": 4,
     "metadata": {},
     "output_type": "execute_result"
    }
   ],
   "source": [
    "scipy.stats.f.ppf(1-0.01, dfn=3, dfd=20)\n",
    "# Gives f-value for (probability, numerated degrees of freedom, denominator df)\n",
    "# Our calculated f-value is 19.6 and computed here (op) is 4.93. Far away, \n",
    "# we got to reject null hypothesis"
   ]
  },
  {
   "cell_type": "code",
   "execution_count": 5,
   "id": "9dbd7320",
   "metadata": {},
   "outputs": [
    {
     "data": {
      "text/plain": [
       "F_onewayResult(statistic=19.605206999573184, pvalue=3.5925782584743027e-06)"
      ]
     },
     "execution_count": 5,
     "metadata": {},
     "output_type": "execute_result"
    }
   ],
   "source": [
    "scipy.stats.f_oneway(fivepercent, tenpercent, fifteenpercent, twentypercent)\n",
    "# get f-value, p-value"
   ]
  },
  {
   "cell_type": "code",
   "execution_count": 6,
   "id": "343b7854",
   "metadata": {},
   "outputs": [
    {
     "data": {
      "text/html": [
       "<div>\n",
       "<style scoped>\n",
       "    .dataframe tbody tr th:only-of-type {\n",
       "        vertical-align: middle;\n",
       "    }\n",
       "\n",
       "    .dataframe tbody tr th {\n",
       "        vertical-align: top;\n",
       "    }\n",
       "\n",
       "    .dataframe thead th {\n",
       "        text-align: right;\n",
       "    }\n",
       "</style>\n",
       "<table border=\"1\" class=\"dataframe\">\n",
       "  <thead>\n",
       "    <tr style=\"text-align: right;\">\n",
       "      <th></th>\n",
       "      <th>concentration5</th>\n",
       "      <th>concentration10</th>\n",
       "      <th>concentration15</th>\n",
       "      <th>concentration20</th>\n",
       "    </tr>\n",
       "  </thead>\n",
       "  <tbody>\n",
       "    <tr>\n",
       "      <th>0</th>\n",
       "      <td>7</td>\n",
       "      <td>12</td>\n",
       "      <td>14</td>\n",
       "      <td>19</td>\n",
       "    </tr>\n",
       "    <tr>\n",
       "      <th>1</th>\n",
       "      <td>8</td>\n",
       "      <td>17</td>\n",
       "      <td>18</td>\n",
       "      <td>25</td>\n",
       "    </tr>\n",
       "    <tr>\n",
       "      <th>2</th>\n",
       "      <td>15</td>\n",
       "      <td>13</td>\n",
       "      <td>19</td>\n",
       "      <td>22</td>\n",
       "    </tr>\n",
       "    <tr>\n",
       "      <th>3</th>\n",
       "      <td>11</td>\n",
       "      <td>18</td>\n",
       "      <td>17</td>\n",
       "      <td>23</td>\n",
       "    </tr>\n",
       "    <tr>\n",
       "      <th>4</th>\n",
       "      <td>9</td>\n",
       "      <td>19</td>\n",
       "      <td>16</td>\n",
       "      <td>18</td>\n",
       "    </tr>\n",
       "    <tr>\n",
       "      <th>5</th>\n",
       "      <td>10</td>\n",
       "      <td>15</td>\n",
       "      <td>18</td>\n",
       "      <td>20</td>\n",
       "    </tr>\n",
       "  </tbody>\n",
       "</table>\n",
       "</div>"
      ],
      "text/plain": [
       "   concentration5  concentration10  concentration15  concentration20\n",
       "0               7               12               14               19\n",
       "1               8               17               18               25\n",
       "2              15               13               19               22\n",
       "3              11               18               17               23\n",
       "4               9               19               16               18\n",
       "5              10               15               18               20"
      ]
     },
     "execution_count": 6,
     "metadata": {},
     "output_type": "execute_result"
    }
   ],
   "source": [
    "df = pd.read_excel('concentration.xlsx')\n",
    "df"
   ]
  },
  {
   "cell_type": "code",
   "execution_count": 7,
   "id": "60b76385",
   "metadata": {},
   "outputs": [],
   "source": [
    "data_r1 = pd.melt(df.reset_index(), id_vars=['index'], value_vars=['concentration5','concentration10','concentration15','concentration20'])\n",
    "data_r1.columns = ['index','treatments','value']"
   ]
  },
  {
   "cell_type": "code",
   "execution_count": 8,
   "id": "7c4fb764",
   "metadata": {},
   "outputs": [],
   "source": [
    "model = ols('value ~ C(treatments)', data = data_r1).fit()"
   ]
  },
  {
   "cell_type": "code",
   "execution_count": 9,
   "id": "dd006ebe",
   "metadata": {},
   "outputs": [
    {
     "data": {
      "text/html": [
       "<table class=\"simpletable\">\n",
       "<caption>OLS Regression Results</caption>\n",
       "<tr>\n",
       "  <th>Dep. Variable:</th>          <td>value</td>      <th>  R-squared:         </th> <td>   0.746</td>\n",
       "</tr>\n",
       "<tr>\n",
       "  <th>Model:</th>                   <td>OLS</td>       <th>  Adj. R-squared:    </th> <td>   0.708</td>\n",
       "</tr>\n",
       "<tr>\n",
       "  <th>Method:</th>             <td>Least Squares</td>  <th>  F-statistic:       </th> <td>   19.61</td>\n",
       "</tr>\n",
       "<tr>\n",
       "  <th>Date:</th>             <td>Sun, 17 Mar 2024</td> <th>  Prob (F-statistic):</th> <td>3.59e-06</td>\n",
       "</tr>\n",
       "<tr>\n",
       "  <th>Time:</th>                 <td>13:39:25</td>     <th>  Log-Likelihood:    </th> <td> -54.344</td>\n",
       "</tr>\n",
       "<tr>\n",
       "  <th>No. Observations:</th>      <td>    24</td>      <th>  AIC:               </th> <td>   116.7</td>\n",
       "</tr>\n",
       "<tr>\n",
       "  <th>Df Residuals:</th>          <td>    20</td>      <th>  BIC:               </th> <td>   121.4</td>\n",
       "</tr>\n",
       "<tr>\n",
       "  <th>Df Model:</th>              <td>     3</td>      <th>                     </th>     <td> </td>   \n",
       "</tr>\n",
       "<tr>\n",
       "  <th>Covariance Type:</th>      <td>nonrobust</td>    <th>                     </th>     <td> </td>   \n",
       "</tr>\n",
       "</table>\n",
       "<table class=\"simpletable\">\n",
       "<tr>\n",
       "                  <td></td>                    <th>coef</th>     <th>std err</th>      <th>t</th>      <th>P>|t|</th>  <th>[0.025</th>    <th>0.975]</th>  \n",
       "</tr>\n",
       "<tr>\n",
       "  <th>Intercept</th>                        <td>   15.6667</td> <td>    1.041</td> <td>   15.042</td> <td> 0.000</td> <td>   13.494</td> <td>   17.839</td>\n",
       "</tr>\n",
       "<tr>\n",
       "  <th>C(treatments)[T.concentration15]</th> <td>    1.3333</td> <td>    1.473</td> <td>    0.905</td> <td> 0.376</td> <td>   -1.739</td> <td>    4.406</td>\n",
       "</tr>\n",
       "<tr>\n",
       "  <th>C(treatments)[T.concentration20]</th> <td>    5.5000</td> <td>    1.473</td> <td>    3.734</td> <td> 0.001</td> <td>    2.428</td> <td>    8.572</td>\n",
       "</tr>\n",
       "<tr>\n",
       "  <th>C(treatments)[T.concentration5]</th>  <td>   -5.6667</td> <td>    1.473</td> <td>   -3.847</td> <td> 0.001</td> <td>   -8.739</td> <td>   -2.594</td>\n",
       "</tr>\n",
       "</table>\n",
       "<table class=\"simpletable\">\n",
       "<tr>\n",
       "  <th>Omnibus:</th>       <td> 0.929</td> <th>  Durbin-Watson:     </th> <td>   2.181</td>\n",
       "</tr>\n",
       "<tr>\n",
       "  <th>Prob(Omnibus):</th> <td> 0.628</td> <th>  Jarque-Bera (JB):  </th> <td>   0.861</td>\n",
       "</tr>\n",
       "<tr>\n",
       "  <th>Skew:</th>          <td> 0.248</td> <th>  Prob(JB):          </th> <td>   0.650</td>\n",
       "</tr>\n",
       "<tr>\n",
       "  <th>Kurtosis:</th>      <td> 2.215</td> <th>  Cond. No.          </th> <td>    4.79</td>\n",
       "</tr>\n",
       "</table><br/><br/>Notes:<br/>[1] Standard Errors assume that the covariance matrix of the errors is correctly specified."
      ],
      "text/latex": [
       "\\begin{center}\n",
       "\\begin{tabular}{lclc}\n",
       "\\toprule\n",
       "\\textbf{Dep. Variable:}                   &      value       & \\textbf{  R-squared:         } &     0.746   \\\\\n",
       "\\textbf{Model:}                           &       OLS        & \\textbf{  Adj. R-squared:    } &     0.708   \\\\\n",
       "\\textbf{Method:}                          &  Least Squares   & \\textbf{  F-statistic:       } &     19.61   \\\\\n",
       "\\textbf{Date:}                            & Sun, 17 Mar 2024 & \\textbf{  Prob (F-statistic):} &  3.59e-06   \\\\\n",
       "\\textbf{Time:}                            &     13:39:25     & \\textbf{  Log-Likelihood:    } &   -54.344   \\\\\n",
       "\\textbf{No. Observations:}                &          24      & \\textbf{  AIC:               } &     116.7   \\\\\n",
       "\\textbf{Df Residuals:}                    &          20      & \\textbf{  BIC:               } &     121.4   \\\\\n",
       "\\textbf{Df Model:}                        &           3      & \\textbf{                     } &             \\\\\n",
       "\\textbf{Covariance Type:}                 &    nonrobust     & \\textbf{                     } &             \\\\\n",
       "\\bottomrule\n",
       "\\end{tabular}\n",
       "\\begin{tabular}{lcccccc}\n",
       "                                          & \\textbf{coef} & \\textbf{std err} & \\textbf{t} & \\textbf{P$> |$t$|$} & \\textbf{[0.025} & \\textbf{0.975]}  \\\\\n",
       "\\midrule\n",
       "\\textbf{Intercept}                        &      15.6667  &        1.041     &    15.042  &         0.000        &       13.494    &       17.839     \\\\\n",
       "\\textbf{C(treatments)[T.concentration15]} &       1.3333  &        1.473     &     0.905  &         0.376        &       -1.739    &        4.406     \\\\\n",
       "\\textbf{C(treatments)[T.concentration20]} &       5.5000  &        1.473     &     3.734  &         0.001        &        2.428    &        8.572     \\\\\n",
       "\\textbf{C(treatments)[T.concentration5]}  &      -5.6667  &        1.473     &    -3.847  &         0.001        &       -8.739    &       -2.594     \\\\\n",
       "\\bottomrule\n",
       "\\end{tabular}\n",
       "\\begin{tabular}{lclc}\n",
       "\\textbf{Omnibus:}       &  0.929 & \\textbf{  Durbin-Watson:     } &    2.181  \\\\\n",
       "\\textbf{Prob(Omnibus):} &  0.628 & \\textbf{  Jarque-Bera (JB):  } &    0.861  \\\\\n",
       "\\textbf{Skew:}          &  0.248 & \\textbf{  Prob(JB):          } &    0.650  \\\\\n",
       "\\textbf{Kurtosis:}      &  2.215 & \\textbf{  Cond. No.          } &     4.79  \\\\\n",
       "\\bottomrule\n",
       "\\end{tabular}\n",
       "%\\caption{OLS Regression Results}\n",
       "\\end{center}\n",
       "\n",
       "Notes: \\newline\n",
       " [1] Standard Errors assume that the covariance matrix of the errors is correctly specified."
      ],
      "text/plain": [
       "<class 'statsmodels.iolib.summary.Summary'>\n",
       "\"\"\"\n",
       "                            OLS Regression Results                            \n",
       "==============================================================================\n",
       "Dep. Variable:                  value   R-squared:                       0.746\n",
       "Model:                            OLS   Adj. R-squared:                  0.708\n",
       "Method:                 Least Squares   F-statistic:                     19.61\n",
       "Date:                Sun, 17 Mar 2024   Prob (F-statistic):           3.59e-06\n",
       "Time:                        13:39:25   Log-Likelihood:                -54.344\n",
       "No. Observations:                  24   AIC:                             116.7\n",
       "Df Residuals:                      20   BIC:                             121.4\n",
       "Df Model:                           3                                         \n",
       "Covariance Type:            nonrobust                                         \n",
       "====================================================================================================\n",
       "                                       coef    std err          t      P>|t|      [0.025      0.975]\n",
       "----------------------------------------------------------------------------------------------------\n",
       "Intercept                           15.6667      1.041     15.042      0.000      13.494      17.839\n",
       "C(treatments)[T.concentration15]     1.3333      1.473      0.905      0.376      -1.739       4.406\n",
       "C(treatments)[T.concentration20]     5.5000      1.473      3.734      0.001       2.428       8.572\n",
       "C(treatments)[T.concentration5]     -5.6667      1.473     -3.847      0.001      -8.739      -2.594\n",
       "==============================================================================\n",
       "Omnibus:                        0.929   Durbin-Watson:                   2.181\n",
       "Prob(Omnibus):                  0.628   Jarque-Bera (JB):                0.861\n",
       "Skew:                           0.248   Prob(JB):                        0.650\n",
       "Kurtosis:                       2.215   Cond. No.                         4.79\n",
       "==============================================================================\n",
       "\n",
       "Notes:\n",
       "[1] Standard Errors assume that the covariance matrix of the errors is correctly specified.\n",
       "\"\"\""
      ]
     },
     "execution_count": 9,
     "metadata": {},
     "output_type": "execute_result"
    }
   ],
   "source": [
    "model.summary()"
   ]
  },
  {
   "cell_type": "code",
   "execution_count": 10,
   "id": "c743c024",
   "metadata": {},
   "outputs": [
    {
     "data": {
      "text/html": [
       "<div>\n",
       "<style scoped>\n",
       "    .dataframe tbody tr th:only-of-type {\n",
       "        vertical-align: middle;\n",
       "    }\n",
       "\n",
       "    .dataframe tbody tr th {\n",
       "        vertical-align: top;\n",
       "    }\n",
       "\n",
       "    .dataframe thead th {\n",
       "        text-align: right;\n",
       "    }\n",
       "</style>\n",
       "<table border=\"1\" class=\"dataframe\">\n",
       "  <thead>\n",
       "    <tr style=\"text-align: right;\">\n",
       "      <th></th>\n",
       "      <th>df</th>\n",
       "      <th>sum_sq</th>\n",
       "      <th>mean_sq</th>\n",
       "      <th>F</th>\n",
       "      <th>PR(&gt;F)</th>\n",
       "    </tr>\n",
       "  </thead>\n",
       "  <tbody>\n",
       "    <tr>\n",
       "      <th>C(treatments)</th>\n",
       "      <td>3.0</td>\n",
       "      <td>382.791667</td>\n",
       "      <td>127.597222</td>\n",
       "      <td>19.605207</td>\n",
       "      <td>0.000004</td>\n",
       "    </tr>\n",
       "    <tr>\n",
       "      <th>Residual</th>\n",
       "      <td>20.0</td>\n",
       "      <td>130.166667</td>\n",
       "      <td>6.508333</td>\n",
       "      <td>NaN</td>\n",
       "      <td>NaN</td>\n",
       "    </tr>\n",
       "  </tbody>\n",
       "</table>\n",
       "</div>"
      ],
      "text/plain": [
       "                 df      sum_sq     mean_sq          F    PR(>F)\n",
       "C(treatments)   3.0  382.791667  127.597222  19.605207  0.000004\n",
       "Residual       20.0  130.166667    6.508333        NaN       NaN"
      ]
     },
     "execution_count": 10,
     "metadata": {},
     "output_type": "execute_result"
    }
   ],
   "source": [
    "aov_table = sm.stats.anova_lm(model, typ=1)\n",
    "aov_table"
   ]
  },
  {
   "cell_type": "markdown",
   "id": "b1791b56",
   "metadata": {},
   "source": [
    "LSD"
   ]
  },
  {
   "cell_type": "code",
   "execution_count": 11,
   "id": "4c1856f0",
   "metadata": {},
   "outputs": [
    {
     "data": {
      "text/plain": [
       "3.072422588325206"
      ]
     },
     "execution_count": 11,
     "metadata": {},
     "output_type": "execute_result"
    }
   ],
   "source": [
    "# import math\n",
    "t = -1*scipy.stats.t.ppf(0.025,20)\n",
    "n=6\n",
    "MSE=6.508333\n",
    "lsd = t*math.sqrt(2*MSE/n)\n",
    "lsd"
   ]
  },
  {
   "cell_type": "code",
   "execution_count": 12,
   "id": "29ae7b01",
   "metadata": {},
   "outputs": [
    {
     "data": {
      "text/html": [
       "<table class=\"simpletable\">\n",
       "<caption>Multiple Comparison of Means - Tukey HSD, FWER=0.05</caption>\n",
       "<tr>\n",
       "      <th>group1</th>          <th>group2</th>      <th>meandiff</th>  <th>p-adj</th>   <th>lower</th>   <th>upper</th>  <th>reject</th>\n",
       "</tr>\n",
       "<tr>\n",
       "  <td>concentration10</td> <td>concentration15</td>  <td>1.3333</td>  <td>0.8022</td>  <td>-2.7892</td> <td>5.4559</td>   <td>False</td>\n",
       "</tr>\n",
       "<tr>\n",
       "  <td>concentration10</td> <td>concentration20</td>    <td>5.5</td>   <td>0.0066</td>  <td>1.3774</td>  <td>9.6226</td>   <td>True</td> \n",
       "</tr>\n",
       "<tr>\n",
       "  <td>concentration10</td> <td>concentration5</td>   <td>-5.6667</td> <td>0.0051</td>  <td>-9.7892</td> <td>-1.5441</td>  <td>True</td> \n",
       "</tr>\n",
       "<tr>\n",
       "  <td>concentration15</td> <td>concentration20</td>  <td>4.1667</td>   <td>0.047</td>  <td>0.0441</td>  <td>8.2892</td>   <td>True</td> \n",
       "</tr>\n",
       "<tr>\n",
       "  <td>concentration15</td> <td>concentration5</td>    <td>-7.0</td>   <td>0.0007</td> <td>-11.1226</td> <td>-2.8774</td>  <td>True</td> \n",
       "</tr>\n",
       "<tr>\n",
       "  <td>concentration20</td> <td>concentration5</td>  <td>-11.1667</td>   <td>0.0</td>  <td>-15.2892</td> <td>-7.0441</td>  <td>True</td> \n",
       "</tr>\n",
       "</table>"
      ],
      "text/latex": [
       "\\begin{center}\n",
       "\\begin{tabular}{ccccccc}\n",
       "\\toprule\n",
       "\\textbf{group1} & \\textbf{group2} & \\textbf{meandiff} & \\textbf{p-adj} & \\textbf{lower} & \\textbf{upper} & \\textbf{reject}  \\\\\n",
       "\\midrule\n",
       "concentration10 & concentration15 &       1.3333      &     0.8022     &    -2.7892     &     5.4559     &      False       \\\\\n",
       "concentration10 & concentration20 &        5.5        &     0.0066     &     1.3774     &     9.6226     &       True       \\\\\n",
       "concentration10 &  concentration5 &      -5.6667      &     0.0051     &    -9.7892     &    -1.5441     &       True       \\\\\n",
       "concentration15 & concentration20 &       4.1667      &     0.047      &     0.0441     &     8.2892     &       True       \\\\\n",
       "concentration15 &  concentration5 &        -7.0       &     0.0007     &    -11.1226    &    -2.8774     &       True       \\\\\n",
       "concentration20 &  concentration5 &      -11.1667     &      0.0       &    -15.2892    &    -7.0441     &       True       \\\\\n",
       "\\bottomrule\n",
       "\\end{tabular}\n",
       "%\\caption{Multiple Comparison of Means - Tukey HSD, FWER=0.05}\n",
       "\\end{center}"
      ],
      "text/plain": [
       "<class 'statsmodels.iolib.table.SimpleTable'>"
      ]
     },
     "execution_count": 12,
     "metadata": {},
     "output_type": "execute_result"
    }
   ],
   "source": [
    "from statsmodels.stats.multicomp import pairwise_tukeyhsd\n",
    "from statsmodels.stats.multicomp import MultiComparison\n",
    "mc = MultiComparison(data_r1['value'], data_r1['treatments'])\n",
    "mcresult = mc.tukeyhsd(0.05)\n",
    "mcresult.summary()"
   ]
  },
  {
   "cell_type": "code",
   "execution_count": 13,
   "id": "0a90a975",
   "metadata": {},
   "outputs": [
    {
     "data": {
      "text/plain": [
       "2.8660814020156584"
      ]
     },
     "execution_count": 13,
     "metadata": {},
     "output_type": "execute_result"
    }
   ],
   "source": [
    "scipy.stats.f.ppf(1-0.05,dfn=4,dfd=20)\n",
    "# alpha = .05, F(0.05,4,20)=2.87\n",
    "# Reject Ho"
   ]
  },
  {
   "cell_type": "code",
   "execution_count": 14,
   "id": "c5b27701",
   "metadata": {},
   "outputs": [
    {
     "data": {
      "text/html": [
       "<div>\n",
       "<style scoped>\n",
       "    .dataframe tbody tr th:only-of-type {\n",
       "        vertical-align: middle;\n",
       "    }\n",
       "\n",
       "    .dataframe tbody tr th {\n",
       "        vertical-align: top;\n",
       "    }\n",
       "\n",
       "    .dataframe thead th {\n",
       "        text-align: right;\n",
       "    }\n",
       "</style>\n",
       "<table border=\"1\" class=\"dataframe\">\n",
       "  <thead>\n",
       "    <tr style=\"text-align: right;\">\n",
       "      <th></th>\n",
       "      <th>cotwt.15</th>\n",
       "      <th>cotwt.20</th>\n",
       "      <th>cotwt.25</th>\n",
       "      <th>cotwt.30</th>\n",
       "      <th>cotwt.35</th>\n",
       "    </tr>\n",
       "  </thead>\n",
       "  <tbody>\n",
       "    <tr>\n",
       "      <th>0</th>\n",
       "      <td>7</td>\n",
       "      <td>12</td>\n",
       "      <td>14</td>\n",
       "      <td>19</td>\n",
       "      <td>7</td>\n",
       "    </tr>\n",
       "    <tr>\n",
       "      <th>1</th>\n",
       "      <td>7</td>\n",
       "      <td>17</td>\n",
       "      <td>18</td>\n",
       "      <td>25</td>\n",
       "      <td>10</td>\n",
       "    </tr>\n",
       "    <tr>\n",
       "      <th>2</th>\n",
       "      <td>15</td>\n",
       "      <td>18</td>\n",
       "      <td>18</td>\n",
       "      <td>22</td>\n",
       "      <td>11</td>\n",
       "    </tr>\n",
       "    <tr>\n",
       "      <th>3</th>\n",
       "      <td>11</td>\n",
       "      <td>25</td>\n",
       "      <td>19</td>\n",
       "      <td>19</td>\n",
       "      <td>15</td>\n",
       "    </tr>\n",
       "    <tr>\n",
       "      <th>4</th>\n",
       "      <td>9</td>\n",
       "      <td>10</td>\n",
       "      <td>19</td>\n",
       "      <td>23</td>\n",
       "      <td>11</td>\n",
       "    </tr>\n",
       "  </tbody>\n",
       "</table>\n",
       "</div>"
      ],
      "text/plain": [
       "   cotwt.15  cotwt.20  cotwt.25  cotwt.30  cotwt.35\n",
       "0         7        12        14        19         7\n",
       "1         7        17        18        25        10\n",
       "2        15        18        18        22        11\n",
       "3        11        25        19        19        15\n",
       "4         9        10        19        23        11"
      ]
     },
     "execution_count": 14,
     "metadata": {},
     "output_type": "execute_result"
    }
   ],
   "source": [
    "df3 = pd.read_excel('cotwt.xlsx')\n",
    "df3"
   ]
  },
  {
   "cell_type": "code",
   "execution_count": 15,
   "id": "cbd3929a",
   "metadata": {},
   "outputs": [],
   "source": [
    "data1 = pd.melt(df3.reset_index(), id_vars=['index'], value_vars=['cotwt.15','cotwt.20','cotwt.25','cotwt.30','cotwt.35'])\n",
    "data1.columns = ['id','treatments','value']"
   ]
  },
  {
   "cell_type": "code",
   "execution_count": 16,
   "id": "634d7d1c",
   "metadata": {},
   "outputs": [
    {
     "data": {
      "text/html": [
       "<table class=\"simpletable\">\n",
       "<caption>Multiple Comparison of Means - Tukey HSD, FWER=0.05</caption>\n",
       "<tr>\n",
       "   <th>group1</th>   <th>group2</th>  <th>meandiff</th>  <th>p-adj</th>   <th>lower</th>   <th>upper</th>  <th>reject</th>\n",
       "</tr>\n",
       "<tr>\n",
       "  <td>cotwt.15</td> <td>cotwt.20</td>    <td>6.6</td>   <td>0.0605</td>  <td>-0.2132</td> <td>13.4132</td>  <td>False</td>\n",
       "</tr>\n",
       "<tr>\n",
       "  <td>cotwt.15</td> <td>cotwt.25</td>    <td>7.8</td>    <td>0.02</td>   <td>0.9868</td>  <td>14.6132</td>  <td>True</td> \n",
       "</tr>\n",
       "<tr>\n",
       "  <td>cotwt.15</td> <td>cotwt.30</td>   <td>11.8</td>   <td>0.0004</td>  <td>4.9868</td>  <td>18.6132</td>  <td>True</td> \n",
       "</tr>\n",
       "<tr>\n",
       "  <td>cotwt.15</td> <td>cotwt.35</td>    <td>1.0</td>   <td>0.9917</td>  <td>-5.8132</td> <td>7.8132</td>   <td>False</td>\n",
       "</tr>\n",
       "<tr>\n",
       "  <td>cotwt.20</td> <td>cotwt.25</td>    <td>1.2</td>   <td>0.9835</td>  <td>-5.6132</td> <td>8.0132</td>   <td>False</td>\n",
       "</tr>\n",
       "<tr>\n",
       "  <td>cotwt.20</td> <td>cotwt.30</td>    <td>5.2</td>   <td>0.1911</td>  <td>-1.6132</td> <td>12.0132</td>  <td>False</td>\n",
       "</tr>\n",
       "<tr>\n",
       "  <td>cotwt.20</td> <td>cotwt.35</td>   <td>-5.6</td>   <td>0.1403</td> <td>-12.4132</td> <td>1.2132</td>   <td>False</td>\n",
       "</tr>\n",
       "<tr>\n",
       "  <td>cotwt.25</td> <td>cotwt.30</td>    <td>4.0</td>   <td>0.4243</td>  <td>-2.8132</td> <td>10.8132</td>  <td>False</td>\n",
       "</tr>\n",
       "<tr>\n",
       "  <td>cotwt.25</td> <td>cotwt.35</td>   <td>-6.8</td>   <td>0.0506</td> <td>-13.6132</td> <td>0.0132</td>   <td>False</td>\n",
       "</tr>\n",
       "<tr>\n",
       "  <td>cotwt.30</td> <td>cotwt.35</td>   <td>-10.8</td>  <td>0.0011</td> <td>-17.6132</td> <td>-3.9868</td>  <td>True</td> \n",
       "</tr>\n",
       "</table>"
      ],
      "text/latex": [
       "\\begin{center}\n",
       "\\begin{tabular}{ccccccc}\n",
       "\\toprule\n",
       "\\textbf{group1} & \\textbf{group2} & \\textbf{meandiff} & \\textbf{p-adj} & \\textbf{lower} & \\textbf{upper} & \\textbf{reject}  \\\\\n",
       "\\midrule\n",
       "    cotwt.15    &     cotwt.20    &        6.6        &     0.0605     &    -0.2132     &    13.4132     &      False       \\\\\n",
       "    cotwt.15    &     cotwt.25    &        7.8        &      0.02      &     0.9868     &    14.6132     &       True       \\\\\n",
       "    cotwt.15    &     cotwt.30    &        11.8       &     0.0004     &     4.9868     &    18.6132     &       True       \\\\\n",
       "    cotwt.15    &     cotwt.35    &        1.0        &     0.9917     &    -5.8132     &     7.8132     &      False       \\\\\n",
       "    cotwt.20    &     cotwt.25    &        1.2        &     0.9835     &    -5.6132     &     8.0132     &      False       \\\\\n",
       "    cotwt.20    &     cotwt.30    &        5.2        &     0.1911     &    -1.6132     &    12.0132     &      False       \\\\\n",
       "    cotwt.20    &     cotwt.35    &        -5.6       &     0.1403     &    -12.4132    &     1.2132     &      False       \\\\\n",
       "    cotwt.25    &     cotwt.30    &        4.0        &     0.4243     &    -2.8132     &    10.8132     &      False       \\\\\n",
       "    cotwt.25    &     cotwt.35    &        -6.8       &     0.0506     &    -13.6132    &     0.0132     &      False       \\\\\n",
       "    cotwt.30    &     cotwt.35    &       -10.8       &     0.0011     &    -17.6132    &    -3.9868     &       True       \\\\\n",
       "\\bottomrule\n",
       "\\end{tabular}\n",
       "%\\caption{Multiple Comparison of Means - Tukey HSD, FWER=0.05}\n",
       "\\end{center}"
      ],
      "text/plain": [
       "<class 'statsmodels.iolib.table.SimpleTable'>"
      ]
     },
     "execution_count": 16,
     "metadata": {},
     "output_type": "execute_result"
    }
   ],
   "source": [
    "mc = MultiComparison(data1['value'], data1['treatments'])\n",
    "mcresults = mc.tukeyhsd(0.05)\n",
    "mcresults.summary()"
   ]
  },
  {
   "cell_type": "code",
   "execution_count": null,
   "id": "3a28d429",
   "metadata": {},
   "outputs": [],
   "source": []
  }
 ],
 "metadata": {
  "kernelspec": {
   "display_name": "Python 3 (ipykernel)",
   "language": "python",
   "name": "python3"
  },
  "language_info": {
   "codemirror_mode": {
    "name": "ipython",
    "version": 3
   },
   "file_extension": ".py",
   "mimetype": "text/x-python",
   "name": "python",
   "nbconvert_exporter": "python",
   "pygments_lexer": "ipython3",
   "version": "3.11.5"
  }
 },
 "nbformat": 4,
 "nbformat_minor": 5
}
