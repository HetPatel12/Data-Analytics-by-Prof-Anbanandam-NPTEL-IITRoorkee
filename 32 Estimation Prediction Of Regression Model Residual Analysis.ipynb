{
 "cells": [
  {
   "cell_type": "code",
   "execution_count": 1,
   "id": "8d3a457b",
   "metadata": {},
   "outputs": [],
   "source": [
    "import pandas as pd\n",
    "from statsmodels.formula.api import ols\n",
    "from statsmodels.stats.anova import anova_lm\n",
    "import matplotlib.pyplot as plt"
   ]
  },
  {
   "cell_type": "code",
   "execution_count": 2,
   "id": "c4ab5860",
   "metadata": {},
   "outputs": [
    {
     "data": {
      "text/html": [
       "<div>\n",
       "<style scoped>\n",
       "    .dataframe tbody tr th:only-of-type {\n",
       "        vertical-align: middle;\n",
       "    }\n",
       "\n",
       "    .dataframe tbody tr th {\n",
       "        vertical-align: top;\n",
       "    }\n",
       "\n",
       "    .dataframe thead th {\n",
       "        text-align: right;\n",
       "    }\n",
       "</style>\n",
       "<table border=\"1\" class=\"dataframe\">\n",
       "  <thead>\n",
       "    <tr style=\"text-align: right;\">\n",
       "      <th></th>\n",
       "      <th>Student_Population</th>\n",
       "      <th>Sales</th>\n",
       "    </tr>\n",
       "  </thead>\n",
       "  <tbody>\n",
       "    <tr>\n",
       "      <th>0</th>\n",
       "      <td>2</td>\n",
       "      <td>58</td>\n",
       "    </tr>\n",
       "    <tr>\n",
       "      <th>1</th>\n",
       "      <td>6</td>\n",
       "      <td>105</td>\n",
       "    </tr>\n",
       "    <tr>\n",
       "      <th>2</th>\n",
       "      <td>8</td>\n",
       "      <td>88</td>\n",
       "    </tr>\n",
       "    <tr>\n",
       "      <th>3</th>\n",
       "      <td>8</td>\n",
       "      <td>118</td>\n",
       "    </tr>\n",
       "    <tr>\n",
       "      <th>4</th>\n",
       "      <td>12</td>\n",
       "      <td>117</td>\n",
       "    </tr>\n",
       "    <tr>\n",
       "      <th>5</th>\n",
       "      <td>16</td>\n",
       "      <td>137</td>\n",
       "    </tr>\n",
       "    <tr>\n",
       "      <th>6</th>\n",
       "      <td>20</td>\n",
       "      <td>157</td>\n",
       "    </tr>\n",
       "    <tr>\n",
       "      <th>7</th>\n",
       "      <td>20</td>\n",
       "      <td>169</td>\n",
       "    </tr>\n",
       "    <tr>\n",
       "      <th>8</th>\n",
       "      <td>22</td>\n",
       "      <td>149</td>\n",
       "    </tr>\n",
       "    <tr>\n",
       "      <th>9</th>\n",
       "      <td>26</td>\n",
       "      <td>202</td>\n",
       "    </tr>\n",
       "  </tbody>\n",
       "</table>\n",
       "</div>"
      ],
      "text/plain": [
       "   Student_Population  Sales\n",
       "0                   2     58\n",
       "1                   6    105\n",
       "2                   8     88\n",
       "3                   8    118\n",
       "4                  12    117\n",
       "5                  16    137\n",
       "6                  20    157\n",
       "7                  20    169\n",
       "8                  22    149\n",
       "9                  26    202"
      ]
     },
     "execution_count": 2,
     "metadata": {},
     "output_type": "execute_result"
    }
   ],
   "source": [
    "df1 = pd.read_excel('Icecream.xlsx')\n",
    "df1"
   ]
  },
  {
   "cell_type": "code",
   "execution_count": 3,
   "id": "6cad4c36",
   "metadata": {},
   "outputs": [
    {
     "name": "stderr",
     "output_type": "stream",
     "text": [
      "d:\\Python311\\Lib\\site-packages\\scipy\\stats\\_stats_py.py:1806: UserWarning: kurtosistest only valid for n>=20 ... continuing anyway, n=10\n",
      "  warnings.warn(\"kurtosistest only valid for n>=20 ... continuing \"\n"
     ]
    },
    {
     "data": {
      "text/html": [
       "<table class=\"simpletable\">\n",
       "<caption>OLS Regression Results</caption>\n",
       "<tr>\n",
       "  <th>Dep. Variable:</th>          <td>Sales</td>      <th>  R-squared:         </th> <td>   0.903</td>\n",
       "</tr>\n",
       "<tr>\n",
       "  <th>Model:</th>                   <td>OLS</td>       <th>  Adj. R-squared:    </th> <td>   0.891</td>\n",
       "</tr>\n",
       "<tr>\n",
       "  <th>Method:</th>             <td>Least Squares</td>  <th>  F-statistic:       </th> <td>   74.25</td>\n",
       "</tr>\n",
       "<tr>\n",
       "  <th>Date:</th>             <td>Mon, 18 Mar 2024</td> <th>  Prob (F-statistic):</th> <td>2.55e-05</td>\n",
       "</tr>\n",
       "<tr>\n",
       "  <th>Time:</th>                 <td>10:09:39</td>     <th>  Log-Likelihood:    </th> <td> -39.342</td>\n",
       "</tr>\n",
       "<tr>\n",
       "  <th>No. Observations:</th>      <td>    10</td>      <th>  AIC:               </th> <td>   82.68</td>\n",
       "</tr>\n",
       "<tr>\n",
       "  <th>Df Residuals:</th>          <td>     8</td>      <th>  BIC:               </th> <td>   83.29</td>\n",
       "</tr>\n",
       "<tr>\n",
       "  <th>Df Model:</th>              <td>     1</td>      <th>                     </th>     <td> </td>   \n",
       "</tr>\n",
       "<tr>\n",
       "  <th>Covariance Type:</th>      <td>nonrobust</td>    <th>                     </th>     <td> </td>   \n",
       "</tr>\n",
       "</table>\n",
       "<table class=\"simpletable\">\n",
       "<tr>\n",
       "           <td></td>             <th>coef</th>     <th>std err</th>      <th>t</th>      <th>P>|t|</th>  <th>[0.025</th>    <th>0.975]</th>  \n",
       "</tr>\n",
       "<tr>\n",
       "  <th>Intercept</th>          <td>   60.0000</td> <td>    9.226</td> <td>    6.503</td> <td> 0.000</td> <td>   38.725</td> <td>   81.275</td>\n",
       "</tr>\n",
       "<tr>\n",
       "  <th>Student_Population</th> <td>    5.0000</td> <td>    0.580</td> <td>    8.617</td> <td> 0.000</td> <td>    3.662</td> <td>    6.338</td>\n",
       "</tr>\n",
       "</table>\n",
       "<table class=\"simpletable\">\n",
       "<tr>\n",
       "  <th>Omnibus:</th>       <td> 0.928</td> <th>  Durbin-Watson:     </th> <td>   3.224</td>\n",
       "</tr>\n",
       "<tr>\n",
       "  <th>Prob(Omnibus):</th> <td> 0.629</td> <th>  Jarque-Bera (JB):  </th> <td>   0.616</td>\n",
       "</tr>\n",
       "<tr>\n",
       "  <th>Skew:</th>          <td>-0.060</td> <th>  Prob(JB):          </th> <td>   0.735</td>\n",
       "</tr>\n",
       "<tr>\n",
       "  <th>Kurtosis:</th>      <td> 1.790</td> <th>  Cond. No.          </th> <td>    33.6</td>\n",
       "</tr>\n",
       "</table><br/><br/>Notes:<br/>[1] Standard Errors assume that the covariance matrix of the errors is correctly specified."
      ],
      "text/latex": [
       "\\begin{center}\n",
       "\\begin{tabular}{lclc}\n",
       "\\toprule\n",
       "\\textbf{Dep. Variable:}      &      Sales       & \\textbf{  R-squared:         } &     0.903   \\\\\n",
       "\\textbf{Model:}              &       OLS        & \\textbf{  Adj. R-squared:    } &     0.891   \\\\\n",
       "\\textbf{Method:}             &  Least Squares   & \\textbf{  F-statistic:       } &     74.25   \\\\\n",
       "\\textbf{Date:}               & Mon, 18 Mar 2024 & \\textbf{  Prob (F-statistic):} &  2.55e-05   \\\\\n",
       "\\textbf{Time:}               &     10:09:39     & \\textbf{  Log-Likelihood:    } &   -39.342   \\\\\n",
       "\\textbf{No. Observations:}   &          10      & \\textbf{  AIC:               } &     82.68   \\\\\n",
       "\\textbf{Df Residuals:}       &           8      & \\textbf{  BIC:               } &     83.29   \\\\\n",
       "\\textbf{Df Model:}           &           1      & \\textbf{                     } &             \\\\\n",
       "\\textbf{Covariance Type:}    &    nonrobust     & \\textbf{                     } &             \\\\\n",
       "\\bottomrule\n",
       "\\end{tabular}\n",
       "\\begin{tabular}{lcccccc}\n",
       "                             & \\textbf{coef} & \\textbf{std err} & \\textbf{t} & \\textbf{P$> |$t$|$} & \\textbf{[0.025} & \\textbf{0.975]}  \\\\\n",
       "\\midrule\n",
       "\\textbf{Intercept}           &      60.0000  &        9.226     &     6.503  &         0.000        &       38.725    &       81.275     \\\\\n",
       "\\textbf{Student\\_Population} &       5.0000  &        0.580     &     8.617  &         0.000        &        3.662    &        6.338     \\\\\n",
       "\\bottomrule\n",
       "\\end{tabular}\n",
       "\\begin{tabular}{lclc}\n",
       "\\textbf{Omnibus:}       &  0.928 & \\textbf{  Durbin-Watson:     } &    3.224  \\\\\n",
       "\\textbf{Prob(Omnibus):} &  0.629 & \\textbf{  Jarque-Bera (JB):  } &    0.616  \\\\\n",
       "\\textbf{Skew:}          & -0.060 & \\textbf{  Prob(JB):          } &    0.735  \\\\\n",
       "\\textbf{Kurtosis:}      &  1.790 & \\textbf{  Cond. No.          } &     33.6  \\\\\n",
       "\\bottomrule\n",
       "\\end{tabular}\n",
       "%\\caption{OLS Regression Results}\n",
       "\\end{center}\n",
       "\n",
       "Notes: \\newline\n",
       " [1] Standard Errors assume that the covariance matrix of the errors is correctly specified."
      ],
      "text/plain": [
       "<class 'statsmodels.iolib.summary.Summary'>\n",
       "\"\"\"\n",
       "                            OLS Regression Results                            \n",
       "==============================================================================\n",
       "Dep. Variable:                  Sales   R-squared:                       0.903\n",
       "Model:                            OLS   Adj. R-squared:                  0.891\n",
       "Method:                 Least Squares   F-statistic:                     74.25\n",
       "Date:                Mon, 18 Mar 2024   Prob (F-statistic):           2.55e-05\n",
       "Time:                        10:09:39   Log-Likelihood:                -39.342\n",
       "No. Observations:                  10   AIC:                             82.68\n",
       "Df Residuals:                       8   BIC:                             83.29\n",
       "Df Model:                           1                                         \n",
       "Covariance Type:            nonrobust                                         \n",
       "======================================================================================\n",
       "                         coef    std err          t      P>|t|      [0.025      0.975]\n",
       "--------------------------------------------------------------------------------------\n",
       "Intercept             60.0000      9.226      6.503      0.000      38.725      81.275\n",
       "Student_Population     5.0000      0.580      8.617      0.000       3.662       6.338\n",
       "==============================================================================\n",
       "Omnibus:                        0.928   Durbin-Watson:                   3.224\n",
       "Prob(Omnibus):                  0.629   Jarque-Bera (JB):                0.616\n",
       "Skew:                          -0.060   Prob(JB):                        0.735\n",
       "Kurtosis:                       1.790   Cond. No.                         33.6\n",
       "==============================================================================\n",
       "\n",
       "Notes:\n",
       "[1] Standard Errors assume that the covariance matrix of the errors is correctly specified.\n",
       "\"\"\""
      ]
     },
     "execution_count": 3,
     "metadata": {},
     "output_type": "execute_result"
    }
   ],
   "source": [
    "Reg1 = ols(formula = \"Sales ~ Student_Population\", data=df1)\n",
    "Fit1 = Reg1.fit()\n",
    "Fit1.summary()"
   ]
  },
  {
   "cell_type": "markdown",
   "id": "48d0e777",
   "metadata": {},
   "source": [
    "y = 60+5x1; x1 is no. of Studentpopulations"
   ]
  },
  {
   "cell_type": "code",
   "execution_count": 5,
   "id": "e166d23f",
   "metadata": {},
   "outputs": [
    {
     "data": {
      "text/html": [
       "<div>\n",
       "<style scoped>\n",
       "    .dataframe tbody tr th:only-of-type {\n",
       "        vertical-align: middle;\n",
       "    }\n",
       "\n",
       "    .dataframe tbody tr th {\n",
       "        vertical-align: top;\n",
       "    }\n",
       "\n",
       "    .dataframe thead th {\n",
       "        text-align: right;\n",
       "    }\n",
       "</style>\n",
       "<table border=\"1\" class=\"dataframe\">\n",
       "  <thead>\n",
       "    <tr style=\"text-align: right;\">\n",
       "      <th></th>\n",
       "      <th>df</th>\n",
       "      <th>sum_sq</th>\n",
       "      <th>mean_sq</th>\n",
       "      <th>F</th>\n",
       "      <th>PR(&gt;F)</th>\n",
       "    </tr>\n",
       "  </thead>\n",
       "  <tbody>\n",
       "    <tr>\n",
       "      <th>Student_Population</th>\n",
       "      <td>1.0</td>\n",
       "      <td>14200.0</td>\n",
       "      <td>14200.00</td>\n",
       "      <td>74.248366</td>\n",
       "      <td>0.000025</td>\n",
       "    </tr>\n",
       "    <tr>\n",
       "      <th>Residual</th>\n",
       "      <td>8.0</td>\n",
       "      <td>1530.0</td>\n",
       "      <td>191.25</td>\n",
       "      <td>NaN</td>\n",
       "      <td>NaN</td>\n",
       "    </tr>\n",
       "  </tbody>\n",
       "</table>\n",
       "</div>"
      ],
      "text/plain": [
       "                     df   sum_sq   mean_sq          F    PR(>F)\n",
       "Student_Population  1.0  14200.0  14200.00  74.248366  0.000025\n",
       "Residual            8.0   1530.0    191.25        NaN       NaN"
      ]
     },
     "execution_count": 5,
     "metadata": {},
     "output_type": "execute_result"
    }
   ],
   "source": [
    "anova_lm(Fit1)\n",
    "# get anova table for regression analysis\n",
    "# Residual is 8 bcoz there is a 10 data set. So degree of freedom is n-p-1\n",
    "# where p is no. of independent variable. There is only one independent \n",
    "# variable so the degrees of freedom is 1\n",
    "\n",
    "# sum_sq/degrees of freedom gives you mean_sq(mean sum of squares)\n",
    "# F value = mean_sq/mean_error_sum_of_square and p-value is very low so\n",
    "# model is valid"
   ]
  },
  {
   "cell_type": "code",
   "execution_count": 6,
   "id": "5416d0f3",
   "metadata": {},
   "outputs": [
    {
     "data": {
      "text/plain": [
       "array([-1.09212653,  1.26798654, -0.94196706,  1.54023214, -0.21544891,\n",
       "       -0.21544891, -0.22263461,  0.68766487, -2.01063738,  1.09212653])"
      ]
     },
     "execution_count": 6,
     "metadata": {},
     "output_type": "execute_result"
    }
   ],
   "source": [
    "# if 95% of data is within limit ie, b/w (-2,2) then it is acceptable and assumption is valid\n",
    "influence = Fit1.get_influence()\n",
    "resid_student = influence.resid_studentized_external\n",
    "resid_student\n",
    "# array of standardized residual"
   ]
  },
  {
   "cell_type": "markdown",
   "id": "30c396c3",
   "metadata": {},
   "source": [
    "# get_influence(): \n",
    "get_influence() function calculates how much each data point affects a regression model. It provides metrics like Cook's distance, standardized residuals, studentized residuals and leverage. This helps identify influential points and potential outliers that impact the model's results and predictions."
   ]
  },
  {
   "cell_type": "markdown",
   "id": "1b8a617b",
   "metadata": {},
   "source": [
    "# resid_studentized_external:\n",
    "It refers to the externally studentized residuals. Residuals are the differences between the actual observed values and the predicted values from the regression model. Studentized residuals are a type of residual that are standardized, which means they are divided by their estimated standard deviation.\n",
    "        \n",
    "\"External\" studentization involves dividing each residual by an estimate of its standard deviation that is calculated without considering the data point in question. This can help identify data points that have a particularly large influence on the regression model, even if they are not outliers.\n",
    "\n",
    "High absolute values of studentized residuals suggest that a particular data point might have a significant impact on the overall model fit. These data points are often referred to as \"influential points.\""
   ]
  },
  {
   "cell_type": "code",
   "execution_count": 7,
   "id": "4e4edf83",
   "metadata": {},
   "outputs": [
    {
     "data": {
      "text/plain": [
       "<matplotlib.collections.PathCollection at 0x24745f8ff90>"
      ]
     },
     "execution_count": 7,
     "metadata": {},
     "output_type": "execute_result"
    },
    {
     "data": {
      "image/png": "[encoded data removed]",
      "text/plain": [
       "<Figure size 640x480 with 1 Axes>"
      ]
     },
     "metadata": {},
     "output_type": "display_data"
    }
   ],
   "source": [
    "plt.figure()\n",
    "plt.scatter(df1['Student_Population'],resid_student, color=\"green\")\n",
    "# plotting standardized residual plot against independent variable x so for \n",
    "# that you have to use command 'influence' as done abbove\n",
    "# if 95% of data is within limit ie, -2 to 2 then it is acceptable and assumption is valid"
   ]
  },
  {
   "cell_type": "code",
   "execution_count": 12,
   "id": "05d5951d",
   "metadata": {},
   "outputs": [
    {
     "data": {
      "image/png": "[encoded data removed]",
      "text/plain": [
       "<Figure size 640x480 with 1 Axes>"
      ]
     },
     "metadata": {},
     "output_type": "display_data"
    }
   ],
   "source": [
    "from scipy import stats\n",
    "import statsmodels.api as sm\n",
    "res = Fit1.resid #residuals\n",
    "probplot = sm.ProbPlot(res,stats.norm,fit=True)\n",
    "fig = probplot.qqplot(line='45')\n",
    "h = plt.title('qqplot - residuals of OLS fit')\n",
    "plt.show()\n",
    "\n",
    "# In graph, if high majority of points are above red line the normality \n",
    "# assumption is validated"
   ]
  },
  {
   "cell_type": "markdown",
   "id": "f0eb3c4b",
   "metadata": {},
   "source": [
    "Summary: Tested various assumptions about regression models. These assumtions are tested with the help of different residual plots."
   ]
  },
  {
   "cell_type": "markdown",
   "id": "89bbab9a",
   "metadata": {},
   "source": [
    "4 Types of Residual Plot: Residuals vs Independent variable, Residual vs Our Predicted values, Standardized Residual Plot and Normal Probability Plot."
   ]
  }
 ],
 "metadata": {
  "kernelspec": {
   "display_name": "Python 3 (ipykernel)",
   "language": "python",
   "name": "python3"
  },
  "language_info": {
   "codemirror_mode": {
    "name": "ipython",
    "version": 3
   },
   "file_extension": ".py",
   "mimetype": "text/x-python",
   "name": "python",
   "nbconvert_exporter": "python",
   "pygments_lexer": "ipython3",
   "version": "3.11.5"
  }
 },
 "nbformat": 4,
 "nbformat_minor": 5
}
