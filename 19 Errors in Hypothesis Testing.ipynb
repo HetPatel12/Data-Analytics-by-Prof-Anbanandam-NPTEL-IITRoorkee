{
 "cells": [
  {
   "cell_type": "code",
   "execution_count": 2,
   "id": "da4ece72",
   "metadata": {},
   "outputs": [],
   "source": [
    "from scipy import stats"
   ]
  },
  {
   "cell_type": "code",
   "execution_count": 3,
   "id": "c78613a9",
   "metadata": {},
   "outputs": [],
   "source": [
    "# For type 1 error\n",
    "def z_value(x,mu,SEM): # SEM is std error of mean\n",
    "    z = (x - mu)/SEM\n",
    "    # Calc alpha for diff value of x,mu,SEM\n",
    "    if(z < 0): # LHS Area\n",
    "        alpha = stats.norm.cdf(z)\n",
    "    else: # RHS Area\n",
    "        alpha = 1 - stats.norm.cdf(z)\n",
    "    print(alpha)"
   ]
  },
  {
   "cell_type": "code",
   "execution_count": 4,
   "id": "f0fb9994",
   "metadata": {},
   "outputs": [],
   "source": [
    "x = 48.5\n",
    "mu = 50\n",
    "SEM = 0.79"
   ]
  },
  {
   "cell_type": "code",
   "execution_count": 5,
   "id": "a40518ad",
   "metadata": {},
   "outputs": [
    {
     "name": "stdout",
     "output_type": "stream",
     "text": [
      "0.02879971774715278\n"
     ]
    }
   ],
   "source": [
    "# LHS Area ie alph/2\n",
    "z_value(x,mu,SEM)"
   ]
  },
  {
   "cell_type": "markdown",
   "id": "e73dcbbe",
   "metadata": {},
   "source": [
    "Type-1 \n",
    "Error can be reduced by increasing the area of acceptance region or increase the sample size.\n",
    "As sample size increases alpha size decreases means we are more accurate in making decision ie, the possibility of incorrect rejection is reduced."
   ]
  },
  {
   "cell_type": "code",
   "execution_count": 6,
   "id": "7d38ea63",
   "metadata": {},
   "outputs": [
    {
     "name": "stdout",
     "output_type": "stream",
     "text": [
      "0.005676434117424844\n"
     ]
    }
   ],
   "source": [
    "# if condition for LHS & RHS values of area\n",
    "z_value(48,mu,SEM)"
   ]
  },
  {
   "cell_type": "code",
   "execution_count": 7,
   "id": "836f808b",
   "metadata": {},
   "outputs": [
    {
     "name": "stdout",
     "output_type": "stream",
     "text": [
      "0.0056764341174248\n"
     ]
    }
   ],
   "source": [
    "# else condition for LHS & RHS Area\n",
    "z_value(52,mu,SEM)"
   ]
  },
  {
   "cell_type": "markdown",
   "id": "771e6a19",
   "metadata": {},
   "source": [
    "Type-2 Error"
   ]
  },
  {
   "cell_type": "code",
   "execution_count": 8,
   "id": "0a9b1643",
   "metadata": {},
   "outputs": [
    {
     "data": {
      "text/plain": [
       "0.26339575390741593"
      ]
     },
     "execution_count": 8,
     "metadata": {},
     "output_type": "execute_result"
    }
   ],
   "source": [
    "beta = stats.norm.cdf((51.5-52)/0.79) # x - true mean and 0.79 is sigma/root(n)\n",
    "beta # output is pink area in ScreenShot 751"
   ]
  },
  {
   "cell_type": "markdown",
   "id": "2e793d71",
   "metadata": {},
   "source": [
    "diff between true mean and assumed mean is becoming less than beta value increases means type-2 error is increasing\n",
    "For eg: there are 2 products in same shape, texture then type 2 error occur"
   ]
  },
  {
   "cell_type": "code",
   "execution_count": 9,
   "id": "e6573c4c",
   "metadata": {},
   "outputs": [
    {
     "data": {
      "text/plain": [
       "0.8972117321157791"
      ]
     },
     "execution_count": 9,
     "metadata": {},
     "output_type": "execute_result"
    }
   ],
   "source": [
    "beta = stats.norm.cdf((51.5-50.5)/0.79)\n",
    "beta"
   ]
  },
  {
   "cell_type": "markdown",
   "id": "cf360b27",
   "metadata": {},
   "source": [
    "ScreenShot(767) or Lec-19 26:10"
   ]
  },
  {
   "cell_type": "code",
   "execution_count": 10,
   "id": "77b8afc3",
   "metadata": {},
   "outputs": [],
   "source": [
    "import numpy as np"
   ]
  },
  {
   "cell_type": "code",
   "execution_count": 11,
   "id": "709fd425",
   "metadata": {},
   "outputs": [],
   "source": [
    "def type_2(mu1,mu2,sigma,n,alpha):\n",
    "    z = stats.norm.ppf(alpha)\n",
    "    xbar = (mu1)+(z*sigma/np.sqrt(n))\n",
    "    z2 = (xbar - mu2)/(sigma/np.sqrt(n))\n",
    "    \n",
    "    if(mu1 > mu2):\n",
    "        beta = 1-stats.norm.cdf(z2)\n",
    "    else:\n",
    "        beta = stats.norm.cdf(z2)\n",
    "    \n",
    "    print(beta)"
   ]
  },
  {
   "cell_type": "code",
   "execution_count": 12,
   "id": "89cf37aa",
   "metadata": {},
   "outputs": [
    {
     "name": "stdout",
     "output_type": "stream",
     "text": [
      "0.27292999450730004\n"
     ]
    }
   ],
   "source": [
    "type_2(8.3,7.4,3.1,60,0.05)"
   ]
  },
  {
   "cell_type": "code",
   "execution_count": 13,
   "id": "1d85b64c",
   "metadata": {},
   "outputs": [
    {
     "name": "stdout",
     "output_type": "stream",
     "text": [
      "0.8079200023112734\n"
     ]
    }
   ],
   "source": [
    "type_2(12,11.99,0.1,60,0.05) \n",
    "# assumed mean, true mean, std deviation (sigma), n (sample size), alpha"
   ]
  },
  {
   "cell_type": "code",
   "execution_count": 14,
   "id": "239a5109",
   "metadata": {},
   "outputs": [
    {
     "name": "stdout",
     "output_type": "stream",
     "text": [
      "0.07303790512847008\n"
     ]
    }
   ],
   "source": [
    "type_2(12,11.96,0.1,60,0.05)"
   ]
  },
  {
   "cell_type": "markdown",
   "id": "8e291fb9",
   "metadata": {},
   "source": [
    "Lec-19 39:40 or ScreenShot(779)"
   ]
  },
  {
   "cell_type": "code",
   "execution_count": 15,
   "id": "b8c55b3f",
   "metadata": {},
   "outputs": [
    {
     "name": "stdout",
     "output_type": "stream",
     "text": [
      "0.010499750448532241\n"
     ]
    }
   ],
   "source": [
    "type_2(14,12,3.2,40,0.05)"
   ]
  },
  {
   "cell_type": "code",
   "execution_count": 16,
   "id": "9f23494b",
   "metadata": {},
   "outputs": [
    {
     "name": "stdout",
     "output_type": "stream",
     "text": [
      "0.06457982995225997\n"
     ]
    }
   ],
   "source": [
    "type_2(13.6,12,3.2,40,0.05)"
   ]
  },
  {
   "cell_type": "code",
   "execution_count": 17,
   "id": "fb7fa573",
   "metadata": {},
   "outputs": [
    {
     "name": "stdout",
     "output_type": "stream",
     "text": [
      "0.2336575101104159\n"
     ]
    }
   ],
   "source": [
    "type_2(13.2,12,3.2,40,0.05)"
   ]
  },
  {
   "cell_type": "code",
   "execution_count": 18,
   "id": "44120170",
   "metadata": {},
   "outputs": [
    {
     "name": "stdout",
     "output_type": "stream",
     "text": [
      "0.49995065746353273\n"
     ]
    }
   ],
   "source": [
    "type_2(12.8323,12,3.2,40,0.05)"
   ]
  },
  {
   "cell_type": "code",
   "execution_count": 19,
   "id": "cb75ea04",
   "metadata": {},
   "outputs": [
    {
     "name": "stdout",
     "output_type": "stream",
     "text": [
      "0.5254013387545549\n"
     ]
    }
   ],
   "source": [
    "type_2(12.8,12,3.2,40,0.05)"
   ]
  },
  {
   "cell_type": "code",
   "execution_count": 20,
   "id": "692b395c",
   "metadata": {},
   "outputs": [
    {
     "name": "stdout",
     "output_type": "stream",
     "text": [
      "0.8035262335707292\n"
     ]
    }
   ],
   "source": [
    "type_2(12.4,12,3.2,40,0.05)"
   ]
  },
  {
   "cell_type": "code",
   "execution_count": 21,
   "id": "86d3e2d0",
   "metadata": {},
   "outputs": [
    {
     "name": "stdout",
     "output_type": "stream",
     "text": [
      "0.9499796127157129\n"
     ]
    }
   ],
   "source": [
    "type_2(12.0001,12,3.2,40,0.05)"
   ]
  }
 ],
 "metadata": {
  "kernelspec": {
   "display_name": "Python 3 (ipykernel)",
   "language": "python",
   "name": "python3"
  },
  "language_info": {
   "codemirror_mode": {
    "name": "ipython",
    "version": 3
   },
   "file_extension": ".py",
   "mimetype": "text/x-python",
   "name": "python",
   "nbconvert_exporter": "python",
   "pygments_lexer": "ipython3",
   "version": "3.9.16"
  }
 },
 "nbformat": 4,
 "nbformat_minor": 5
}
