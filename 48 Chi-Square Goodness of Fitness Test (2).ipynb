{
 "cells": [
  {
   "cell_type": "code",
   "execution_count": 20,
   "id": "3101dd71",
   "metadata": {},
   "outputs": [],
   "source": [
    "from scipy.stats import chi2\n",
    "from scipy.stats import norm \n",
    "import pandas as pd\n",
    "import numpy as np"
   ]
  },
  {
   "cell_type": "code",
   "execution_count": 21,
   "id": "32a51fb0",
   "metadata": {},
   "outputs": [
    {
     "data": {
      "text/plain": [
       "24.724970311318277"
      ]
     },
     "execution_count": 21,
     "metadata": {},
     "output_type": "execute_result"
    }
   ],
   "source": [
    "chi2.ppf(0.99, 11)"
   ]
  },
  {
   "cell_type": "code",
   "execution_count": 22,
   "id": "7b8699cb",
   "metadata": {},
   "outputs": [
    {
     "data": {
      "text/plain": [
       "1537.25"
      ]
     },
     "execution_count": 22,
     "metadata": {},
     "output_type": "execute_result"
    }
   ],
   "source": [
    "x = [1610,1585,1649,1590,1540,1397,1410,1350,1495,1564,1602,1655]\n",
    "np.mean(x)"
   ]
  },
  {
   "cell_type": "code",
   "execution_count": 23,
   "id": "a5d86431",
   "metadata": {},
   "outputs": [],
   "source": [
    "# expected frequncy\n",
    "exp_f=[1537.25,1537.25,1537.25,1537.25,1537.25,1537.25,1537.25,1537.25,1537.25,1537.25,1537.25,1537.25]"
   ]
  },
  {
   "cell_type": "code",
   "execution_count": 24,
   "id": "adb90667",
   "metadata": {},
   "outputs": [
    {
     "data": {
      "text/plain": [
       "Power_divergenceResult(statistic=74.37583346885673, pvalue=1.78545252783034e-11)"
      ]
     },
     "execution_count": 24,
     "metadata": {},
     "output_type": "execute_result"
    }
   ],
   "source": [
    "from scipy.stats import chisquare\n",
    "chisquare(x,exp_f)\n",
    "# expected chi2 = 74.37, p-value=1.78*10^-11\n",
    "# 24.725 is table value and calculated value is 74.37\n",
    "# so we have to reject our null hypothesis means dataset is not following uniform distribution"
   ]
  },
  {
   "cell_type": "code",
   "execution_count": 25,
   "id": "1306b222",
   "metadata": {},
   "outputs": [],
   "source": [
    "# ScreenShot 2028\n",
    "A = [33,43,44,45,52,52,56,58,63,64,64,65,66,68,70,72,73,73,74,75,83,84,85,86,91,92,94,98,102,105]"
   ]
  },
  {
   "cell_type": "code",
   "execution_count": 26,
   "id": "18e6e46f",
   "metadata": {},
   "outputs": [
    {
     "data": {
      "text/plain": [
       "71.0"
      ]
     },
     "execution_count": 26,
     "metadata": {},
     "output_type": "execute_result"
    }
   ],
   "source": [
    "mean = np.mean(A)\n",
    "mean"
   ]
  },
  {
   "cell_type": "code",
   "execution_count": 27,
   "id": "26a718ac",
   "metadata": {},
   "outputs": [
    {
     "data": {
      "text/plain": [
       "18.226354544998845"
      ]
     },
     "execution_count": 27,
     "metadata": {},
     "output_type": "execute_result"
    }
   ],
   "source": [
    "std = np.std(A)\n",
    "std # std dev"
   ]
  },
  {
   "cell_type": "code",
   "execution_count": 28,
   "id": "79886680",
   "metadata": {},
   "outputs": [],
   "source": [
    "x = 1/6 # for 6 equal probability intervals"
   ]
  },
  {
   "cell_type": "code",
   "execution_count": 30,
   "id": "7295c016",
   "metadata": {},
   "outputs": [
    {
     "name": "stdout",
     "output_type": "stream",
     "text": [
      "[53.36743154175236]\n",
      "[63.14941153083116]\n",
      "[71.0]\n",
      "[78.85058846916884]\n",
      "[88.63256845824763]\n"
     ]
    }
   ],
   "source": [
    "for j in range(1,6):\n",
    "    Prob_intervals = [norm.ppf(j*x, mean, std)]\n",
    "    print(Prob_intervals)"
   ]
  },
  {
   "cell_type": "code",
   "execution_count": 32,
   "id": "37d8c096",
   "metadata": {},
   "outputs": [],
   "source": [
    "Expected_Freq = [5,5,5,5,5,5] # divide the normal distribution into 6 intervals"
   ]
  },
  {
   "cell_type": "code",
   "execution_count": 33,
   "id": "0a44a796",
   "metadata": {},
   "outputs": [],
   "source": [
    "Obs_f = [6,3,6,5,4,6]"
   ]
  },
  {
   "cell_type": "code",
   "execution_count": 37,
   "id": "24273b12",
   "metadata": {},
   "outputs": [
    {
     "data": {
      "text/plain": [
       "Power_divergenceResult(statistic=1.5999999999999999, pvalue=0.9012493445012737)"
      ]
     },
     "execution_count": 37,
     "metadata": {},
     "output_type": "execute_result"
    }
   ],
   "source": [
    "from scipy.stats import chisquare\n",
    "chisquare(Obs_f, Expected_Freq)\n",
    "# chi2 = 1.59, p-value=0.901>0.05 so accept null hypothesis\n",
    "# so the given dataset follow normal distribution"
   ]
  },
  {
   "cell_type": "code",
   "execution_count": 38,
   "id": "51f57642",
   "metadata": {},
   "outputs": [
    {
     "data": {
      "text/plain": [
       "7.814727903251179"
      ]
     },
     "execution_count": 38,
     "metadata": {},
     "output_type": "execute_result"
    }
   ],
   "source": [
    "chi2.ppf(0.95, 3) # alpha=0.05: (1-alpha, degrees of freedom)"
   ]
  },
  {
   "cell_type": "code",
   "execution_count": null,
   "id": "65fb996d",
   "metadata": {},
   "outputs": [],
   "source": []
  }
 ],
 "metadata": {
  "kernelspec": {
   "display_name": "Python 3 (ipykernel)",
   "language": "python",
   "name": "python3"
  },
  "language_info": {
   "codemirror_mode": {
    "name": "ipython",
    "version": 3
   },
   "file_extension": ".py",
   "mimetype": "text/x-python",
   "name": "python",
   "nbconvert_exporter": "python",
   "pygments_lexer": "ipython3",
   "version": "3.9.16"
  }
 },
 "nbformat": 4,
 "nbformat_minor": 5
}
