{
 "cells": [
  {
   "cell_type": "code",
   "execution_count": 1,
   "id": "1f86c6d6",
   "metadata": {},
   "outputs": [],
   "source": [
    "import scipy\n",
    "import numpy as np"
   ]
  },
  {
   "cell_type": "code",
   "execution_count": 2,
   "id": "b7638a35",
   "metadata": {},
   "outputs": [],
   "source": [
    "from scipy.stats import binom # binom is for binomial operations"
   ]
  },
  {
   "cell_type": "markdown",
   "id": "ff4e09ff",
   "metadata": {},
   "source": [
    " You can also import image by url in markdown type"
   ]
  },
  {
   "cell_type": "markdown",
   "id": "0f20c97b",
   "metadata": {},
   "source": [
    "![](http://www.stat.yale.edu/Courses/1997-98/101/binpdf.gif)"
   ]
  },
  {
   "cell_type": "markdown",
   "id": "44771983",
   "metadata": {},
   "source": [
    "As urvey found that 65% of all financial consumers were very satisfied with\n",
    "their primary financial institutuion. Suppose that 25 financial consumers are sampled and if survey result still holds true today, what is the probability that exactly 19 survey satisfied twith their primary financial institution?"
   ]
  },
  {
   "cell_type": "markdown",
   "id": "f45ba84b",
   "metadata": {},
   "source": [
    "Here now we have to see what distribution we can use for this problem\n",
    "There are 2 possibilities: satisfied / not satisfied\n",
    "We can go for binomial distribution"
   ]
  },
  {
   "cell_type": "code",
   "execution_count": 3,
   "id": "8e4d5e59",
   "metadata": {},
   "outputs": [
    {
     "name": "stdout",
     "output_type": "stream",
     "text": [
      "0.090777998593228\n"
     ]
    }
   ],
   "source": [
    "# pmf is probability mass function\n",
    "# k: probability distribution of current context\n",
    "# n: no. of sample\n",
    "# p: probability of success\n",
    "print(binom.pmf(k=19,n=25,p=0.65))"
   ]
  },
  {
   "cell_type": "markdown",
   "id": "1ff7e346",
   "metadata": {},
   "source": [
    "According to the US Census Bureau 6% of all workers in Jackson, Mississippi are unemployed. In conducting a random telephone survey in Jackson. What is the probability of getting two or fewer unemployed workers in a sample of 20?"
   ]
  },
  {
   "cell_type": "code",
   "execution_count": 4,
   "id": "2a443a46",
   "metadata": {},
   "outputs": [
    {
     "data": {
      "text/plain": [
       "0.8850275957378549"
      ]
     },
     "execution_count": 4,
     "metadata": {},
     "output_type": "execute_result"
    }
   ],
   "source": [
    "'''\n",
    "As per the above question, we ant to know 2 or less than 2, so say the \n",
    "probability(0) + probability(1) + probability(2)\n",
    "So here we will perform, cumulative density function\n",
    "'''\n",
    "\n",
    "# here 2 represents <= 2\n",
    "# 20 represents sample and 0.06 represents probability\n",
    "binom.cdf(2,20,0.06)"
   ]
  },
  {
   "cell_type": "markdown",
   "id": "2b0e246b",
   "metadata": {},
   "source": [
    "Solve the binomial probability for n=20, p=40 & x=10."
   ]
  },
  {
   "cell_type": "code",
   "execution_count": 5,
   "id": "f8578a6d",
   "metadata": {},
   "outputs": [
    {
     "name": "stdout",
     "output_type": "stream",
     "text": [
      "0.11714155053639005\n"
     ]
    }
   ],
   "source": [
    "print(binom.pmf(k=10,n=20,p=0.4))"
   ]
  },
  {
   "cell_type": "markdown",
   "id": "3febc0ea",
   "metadata": {},
   "source": [
    "# Poisson Distribution"
   ]
  },
  {
   "cell_type": "code",
   "execution_count": 6,
   "id": "06034162",
   "metadata": {},
   "outputs": [],
   "source": [
    "from scipy.stats import poisson"
   ]
  },
  {
   "cell_type": "code",
   "execution_count": 7,
   "id": "f20ac541",
   "metadata": {},
   "outputs": [
    {
     "data": {
      "text/plain": [
       "0.18044704431548356"
      ]
     },
     "execution_count": 7,
     "metadata": {},
     "output_type": "execute_result"
    }
   ],
   "source": [
    "poisson.pmf(3,2) # x=3, mean=2"
   ]
  },
  {
   "cell_type": "markdown",
   "id": "ab8dd682",
   "metadata": {},
   "source": [
    "Suppose bank customers arrive randomly on weekday afternoons at an average of 3.2 customers every 4mins. What is the probability of exactly 5 customers arriving in a 4min interval on a weekday afternoon?"
   ]
  },
  {
   "cell_type": "code",
   "execution_count": 8,
   "id": "7910b4f1",
   "metadata": {},
   "outputs": [
    {
     "data": {
      "text/plain": [
       "0.11397938346351824"
      ]
     },
     "execution_count": 8,
     "metadata": {},
     "output_type": "execute_result"
    }
   ],
   "source": [
    "# Arrival pattern follow poisson distribution and be careful on the unit of\n",
    "# mean and of x ie, unit of(x=mean)\n",
    "poisson.pmf(5,3.2) # x=5, arrival rate=3.2"
   ]
  },
  {
   "cell_type": "markdown",
   "id": "e4574240",
   "metadata": {},
   "source": [
    "Bank customers arrive randomly on weekday afternoons at an average of 3.2 customers every 4 mins. What is probability of having more than 7 customers in a 4-min interval on a weekday afternoon?"
   ]
  },
  {
   "cell_type": "code",
   "execution_count": 9,
   "id": "6854862d",
   "metadata": {},
   "outputs": [
    {
     "data": {
      "text/plain": [
       "0.9831701582510425"
      ]
     },
     "execution_count": 9,
     "metadata": {},
     "output_type": "execute_result"
    }
   ],
   "source": [
    "# Find probability of x>7, so 1stly find upto 7\n",
    "# when you subtract -1 of this one then you get probability of more than it\n",
    "\n",
    "# Here we are finding upto 7\n",
    "prob = poisson.cdf(7,3.2) # lambda=3.2\n",
    "prob"
   ]
  },
  {
   "cell_type": "code",
   "execution_count": 10,
   "id": "cec75f7b",
   "metadata": {},
   "outputs": [
    {
     "data": {
      "text/plain": [
       "0.01682984174895752"
      ]
     },
     "execution_count": 10,
     "metadata": {},
     "output_type": "execute_result"
    }
   ],
   "source": [
    "# Now if you want more than 7 do as said above,\n",
    "prob_more_than_7 = 1-prob\n",
    "prob_more_than_7"
   ]
  },
  {
   "cell_type": "markdown",
   "id": "15c27226",
   "metadata": {},
   "source": [
    "A bank has an average random arrival rate of 3.2 cutomers every 4 mins. What is the probability of getting eactly 10 customers during an 8-min interval?"
   ]
  },
  {
   "cell_type": "code",
   "execution_count": 11,
   "id": "ed85bee0",
   "metadata": {},
   "outputs": [
    {
     "data": {
      "text/plain": [
       "0.052790043854115495"
      ]
     },
     "execution_count": 11,
     "metadata": {},
     "output_type": "execute_result"
    }
   ],
   "source": [
    "# Unit of x and lambda are different one is 4 min and 2nd is 8min \n",
    "# So, 3.2-->6.4\n",
    "\n",
    "poisson.pmf(10,6.4)"
   ]
  },
  {
   "cell_type": "markdown",
   "id": "de3d1ac8",
   "metadata": {},
   "source": [
    "# Uniform Distribution"
   ]
  },
  {
   "cell_type": "markdown",
   "id": "e5449cf1",
   "metadata": {},
   "source": [
    "Suppose the amount of time it takes to assemble a plastic module ranges from 27 to 39 seconds and tht assembly times are uniformly distributed. Describe the distribution. What is the probability that a given assembly will take between 30 and 35 seconds?"
   ]
  },
  {
   "cell_type": "code",
   "execution_count": 12,
   "id": "d26a74b1",
   "metadata": {},
   "outputs": [
    {
     "data": {
      "text/plain": [
       "array([27, 28, 29, 30, 31, 32, 33, 34, 35, 36, 37, 38, 39])"
      ]
     },
     "execution_count": 12,
     "metadata": {},
     "output_type": "execute_result"
    }
   ],
   "source": [
    "# First we will develop an array and arrange using np.arrange \n",
    "# arange means array range, if you just ype range it will print list not arrayList\n",
    "\n",
    "# 27 is starting value. n-1=39 so n=40 and 39 will be last value in array  \n",
    "U = np.arange(27,40,1)\n",
    "U"
   ]
  },
  {
   "cell_type": "code",
   "execution_count": 13,
   "id": "6528b20f",
   "metadata": {},
   "outputs": [
    {
     "data": {
      "text/plain": [
       "33.0"
      ]
     },
     "execution_count": 13,
     "metadata": {},
     "output_type": "execute_result"
    }
   ],
   "source": [
    "# We have find out the mean of this distribution\n",
    "# starting point 27, scale is 12 => 27+12=39\n",
    "# So that is a syntax for, so mean is 33 otherwise in the uniform distribution\n",
    "# finding mean is not very complicated formula ie, (a+b)/2\n",
    "from scipy.stats import uniform\n",
    "uniform.mean(loc=27,scale=12)"
   ]
  },
  {
   "cell_type": "code",
   "execution_count": 14,
   "id": "f653a828",
   "metadata": {},
   "outputs": [
    {
     "data": {
      "text/plain": [
       "array([0.25      , 0.33333333, 0.41666667, 0.5       , 0.58333333,\n",
       "       0.66666667])"
      ]
     },
     "execution_count": 14,
     "metadata": {},
     "output_type": "execute_result"
    }
   ],
   "source": [
    "# Cumulative distribution function\n",
    "\n",
    "# in question it was asked 30 to 35 here 35->36(+1) starting point 27 and \n",
    "# scale is 12. It will give you probability for 30-35, \n",
    "uniform.cdf(np.arange(30,36,1), loc=27, scale=12)\n",
    "\n",
    "#array([prob(30),pron(31),prob(32) and so on])"
   ]
  },
  {
   "cell_type": "code",
   "execution_count": 15,
   "id": "c50ac24b",
   "metadata": {},
   "outputs": [
    {
     "data": {
      "text/plain": [
       "0.416666667"
      ]
     },
     "execution_count": 15,
     "metadata": {},
     "output_type": "execute_result"
    }
   ],
   "source": [
    "'''\n",
    "Suppose we ant bw 30 and 35 for 30 the prob is 0.25 and for 35 it is 0.66. So,\n",
    "if we want bw 30 and 35 =>prob(35)-prob(30) = 0.66-0.25\n",
    "'''\n",
    "Prob = 0.666666667-0.25\n",
    "Prob"
   ]
  },
  {
   "cell_type": "markdown",
   "id": "bb98491a",
   "metadata": {},
   "source": [
    " According to the National Association of Insurance Commissioners, the average annual cost for automobile insurance in the US in a recent year was USD691. Suppose automobile insurance costs are uniformly distributed in the US with a range of from USD200 to USD1,182. What is the standard deviation of this unoform distribution?"
   ]
  },
  {
   "cell_type": "code",
   "execution_count": 16,
   "id": "60758584",
   "metadata": {},
   "outputs": [
    {
     "data": {
      "text/plain": [
       "691.0"
      ]
     },
     "execution_count": 16,
     "metadata": {},
     "output_type": "execute_result"
    }
   ],
   "source": [
    "# mean is given $691, starting point 200, difference is 982 ie, \n",
    "# (1182-200)=982\n",
    "uniform.mean(loc=200,scale=982)"
   ]
  },
  {
   "cell_type": "code",
   "execution_count": 17,
   "id": "7892ca04",
   "metadata": {},
   "outputs": [
    {
     "data": {
      "text/plain": [
       "283.4789821721062"
      ]
     },
     "execution_count": 17,
     "metadata": {},
     "output_type": "execute_result"
    }
   ],
   "source": [
    "# If you want to do the standard deviatoon of uniform distribution because \n",
    "# this formula is different. It is not simple std deviation so uniform.std()\n",
    "uniform.std(loc=200, scale=982)"
   ]
  },
  {
   "cell_type": "markdown",
   "id": "714c9bfa",
   "metadata": {},
   "source": [
    "![](https://ds055uzetaobb.cloudfront.net/brioche/uploads/enBFdMBLyU-basic-normal-distribution.png?width=1200)"
   ]
  },
  {
   "cell_type": "markdown",
   "id": "d5486dbf",
   "metadata": {},
   "source": [
    "![](https://ds055uzetaobb.cloudfront.net/brioche/uploads/enBFdMBLyU-basic-normal-distribution.png?width=1200)"
   ]
  },
  {
   "cell_type": "markdown",
   "id": "0f7494fb",
   "metadata": {},
   "source": [
    "# Normal Distribution"
   ]
  },
  {
   "cell_type": "code",
   "execution_count": 18,
   "id": "4a5a11e5",
   "metadata": {},
   "outputs": [],
   "source": [
    "from scipy.stats import norm"
   ]
  },
  {
   "cell_type": "code",
   "execution_count": 19,
   "id": "69cf4806",
   "metadata": {},
   "outputs": [],
   "source": [
    "val,m,s= 68,65.5,2.5 # value, mean, standard deviation. What is probability?"
   ]
  },
  {
   "cell_type": "code",
   "execution_count": 20,
   "id": "8435fd05",
   "metadata": {},
   "outputs": [
    {
     "name": "stdout",
     "output_type": "stream",
     "text": [
      "0.8413447460685429\n"
     ]
    }
   ],
   "source": [
    "# upto 68 only\n",
    "print(norm.cdf(val,m,s)) # it give probability"
   ]
  },
  {
   "cell_type": "markdown",
   "id": "41976ccb",
   "metadata": {},
   "source": [
    "cdf(x>val)"
   ]
  },
  {
   "cell_type": "code",
   "execution_count": 21,
   "id": "69552924",
   "metadata": {},
   "outputs": [
    {
     "name": "stdout",
     "output_type": "stream",
     "text": [
      "0.15865525393145707\n"
     ]
    }
   ],
   "source": [
    "# if you want to know value above 68\n",
    "print(1-norm.cdf(val,m,s)) # RHS area"
   ]
  },
  {
   "cell_type": "markdown",
   "id": "c57ed573",
   "metadata": {},
   "source": [
    "cdf(val1 < x < val2)"
   ]
  },
  {
   "cell_type": "code",
   "execution_count": 22,
   "id": "5046454e",
   "metadata": {},
   "outputs": [
    {
     "name": "stdout",
     "output_type": "stream",
     "text": [
      "0.6826894921370859\n"
     ]
    }
   ],
   "source": [
    "'''\n",
    "For example value 1<=x<=2.\n",
    "This is how you can findout upper and lower limit. Simply you type the lower \n",
    "limit bcoz m,s values already have been declared\n",
    "'''\n",
    "print(norm.cdf(val,m,s) - (norm.cdf(63,m,s)))"
   ]
  },
  {
   "cell_type": "markdown",
   "id": "e87fc49c",
   "metadata": {},
   "source": [
    "What is the probability of obtaining a score greater than 700 on a GMAT test that has a mean of 494 and a standard deviation of 100? Assume GMAT scores are normally distributed."
   ]
  },
  {
   "cell_type": "markdown",
   "id": "cd4e6b7a",
   "metadata": {},
   "source": [
    "P(x>700 | m=494 and s=100) = ?"
   ]
  },
  {
   "cell_type": "code",
   "execution_count": 23,
   "id": "66074de0",
   "metadata": {},
   "outputs": [
    {
     "name": "stdout",
     "output_type": "stream",
     "text": [
      "0.019699270409376912\n"
     ]
    }
   ],
   "source": [
    "# x>=700 find x=700 then subtract 1\n",
    "print(1-norm.cdf(700,494,100)) # (value, mean, standard deviation)"
   ]
  },
  {
   "cell_type": "markdown",
   "id": "ab0cb1cd",
   "metadata": {},
   "source": [
    " For the same GMAT examination, what is the probability of randomly drawing a score that is 550 or less?"
   ]
  },
  {
   "cell_type": "code",
   "execution_count": 24,
   "id": "02e1dccc",
   "metadata": {},
   "outputs": [
    {
     "name": "stdout",
     "output_type": "stream",
     "text": [
      "0.712260281150973\n"
     ]
    }
   ],
   "source": [
    "print(norm.cdf(550,494,100))"
   ]
  },
  {
   "cell_type": "markdown",
   "id": "9e990ccd",
   "metadata": {},
   "source": [
    "What is the probability of randomly obtaining a score between 300 and 600 on GMAT exam?"
   ]
  },
  {
   "cell_type": "code",
   "execution_count": 25,
   "id": "056c23a8",
   "metadata": {},
   "outputs": [
    {
     "name": "stdout",
     "output_type": "stream",
     "text": [
      "0.8292378553956377\n"
     ]
    }
   ],
   "source": [
    "print(norm.cdf(600,494,100)-norm.cdf(300,494,100))"
   ]
  },
  {
   "cell_type": "markdown",
   "id": "9b930074",
   "metadata": {},
   "source": [
    "What is the probability of getting score between 350 and 450 on the same GMAT exam?"
   ]
  },
  {
   "cell_type": "code",
   "execution_count": 26,
   "id": "4c1f8e00",
   "metadata": {},
   "outputs": [
    {
     "name": "stdout",
     "output_type": "stream",
     "text": [
      "0.2550348541262666\n"
     ]
    }
   ],
   "source": [
    "print(norm.cdf(450,494,100)-norm.cdf(350,494,100))"
   ]
  },
  {
   "cell_type": "markdown",
   "id": "cd09af24",
   "metadata": {},
   "source": [
    "Till now we have just found cdf. NOw suppose the area is given of the area is given we want to know the x value, if it is std normal distribution we want to know the z value bcoz the default funcn is the standard norrmal distribution where the mean=0 & standard deviation=1."
   ]
  },
  {
   "cell_type": "code",
   "execution_count": 27,
   "id": "7ba6be9b",
   "metadata": {},
   "outputs": [
    {
     "data": {
      "text/plain": [
       "1.6448536269514722"
      ]
     },
     "execution_count": 27,
     "metadata": {},
     "output_type": "execute_result"
    }
   ],
   "source": [
    "'''\n",
    "So the area under 0.95 the corresponding z value is 1.645  \n",
    "ppf => probability function \n",
    "'''\n",
    "# RHS Area\n",
    "norm.ppf(0.95)"
   ]
  },
  {
   "cell_type": "code",
   "execution_count": 28,
   "id": "e34826d0",
   "metadata": {},
   "outputs": [
    {
     "data": {
      "text/plain": [
       "-0.4454425062917199"
      ]
     },
     "execution_count": 28,
     "metadata": {},
     "output_type": "execute_result"
    }
   ],
   "source": [
    "# LHS Area\n",
    "norm.ppf(1-.672)"
   ]
  },
  {
   "cell_type": "markdown",
   "id": "4f434046",
   "metadata": {},
   "source": [
    "# Hypergeometric Distribution"
   ]
  },
  {
   "cell_type": "markdown",
   "id": "89a10ec3",
   "metadata": {},
   "source": [
    "Suppose 18 major computer science operate in the US and that 12 are located in Clifornia's Silicon Valley. If 3 computer companies are selected randomly from the entire list. What is the probability that one or more of the selected companies are located in silicon valley?"
   ]
  },
  {
   "cell_type": "code",
   "execution_count": 29,
   "id": "94941128",
   "metadata": {},
   "outputs": [
    {
     "data": {
      "text/plain": [
       "0.9754901960784313"
      ]
     },
     "execution_count": 29,
     "metadata": {},
     "output_type": "execute_result"
    }
   ],
   "source": [
    "# Focus on statement one or more means 1-1=0, x-1\n",
    "# 18: population size, N\n",
    "# 3 : no. of sample, n\n",
    "# 12: no. of success in the population,  A\n",
    "from scipy.stats import hypergeom\n",
    "# sf: survival function\n",
    "pval = hypergeom.sf(0,18,3,12) # hypergeom.sf(x-1,N,n,A), sf=1-cdf\n",
    "pval"
   ]
  },
  {
   "cell_type": "markdown",
   "id": "746a0360",
   "metadata": {},
   "source": [
    "A western city has 18 police officers eligible for promotion. 11 of 18 are Hispanic. Suppose only 5 of the police officers are chosen for promotion. If the officerrs chosen for promotion had been selected by chance alone. What is the probability that one or fewer of the five promoted offeicers would have been Hispanic?"
   ]
  },
  {
   "cell_type": "code",
   "execution_count": 30,
   "id": "baa646dc",
   "metadata": {},
   "outputs": [
    {
     "data": {
      "text/plain": [
       "0.04738562091503268"
      ]
     },
     "execution_count": 30,
     "metadata": {},
     "output_type": "execute_result"
    }
   ],
   "source": [
    "# Focus on one or fewer, so here we have to find cumulative probability\n",
    "# X=1 (x-1 will not be done), N=18, n=5, A=11\n",
    "\n",
    "pval = hypergeom.cdf(1,18,5,11)\n",
    "pval"
   ]
  },
  {
   "cell_type": "markdown",
   "id": "fc4be3c7",
   "metadata": {},
   "source": [
    "# Exponential Distribution Example"
   ]
  },
  {
   "cell_type": "markdown",
   "id": "f70066dc",
   "metadata": {},
   "source": [
    "A manufacturing firm has been involved in statistical quality control of several years. As prt of the prodution process, parts are randomly selected and tested. From the records of these tests. It has been established that a defective part occurs in a pattern that is Poisson distributed on the average of 1.38 defects every 20 minutes during production runs. Use this information to determine the probability that less than 15 min will elapse between any two defects?"
   ]
  },
  {
   "cell_type": "code",
   "execution_count": 31,
   "id": "cbe62383",
   "metadata": {},
   "outputs": [
    {
     "data": {
      "text/plain": [
       "0.7246376811594204"
      ]
     },
     "execution_count": 31,
     "metadata": {},
     "output_type": "execute_result"
    }
   ],
   "source": [
    "# 1st Mean of the poisson distribution \n",
    "# 2nd Between any 2 defects. As if you want to find between 2 things \n",
    "# Always use exponential distribution\n",
    "\n",
    "# Mean of the exponential distribution=1 and mean of poisson distribution=1.38\n",
    "# lambda = mu1\n",
    "# Asked probability less than 15 mins\n",
    "mu1 = 1/1.38 # For 20 mins\n",
    "mu1"
   ]
  },
  {
   "cell_type": "code",
   "execution_count": 32,
   "id": "91177793",
   "metadata": {},
   "outputs": [
    {
     "data": {
      "text/plain": [
       "0.6447736190750485"
      ]
     },
     "execution_count": 32,
     "metadata": {},
     "output_type": "execute_result"
    }
   ],
   "source": [
    "from scipy.stats import expon\n",
    "\n",
    "#Lower limit of x=0, upper is 0.75 and lambda value\n",
    "expon.cdf(0.75,0,(1/1.38)) # 15/20=0.75, loc=0 bcoz y=(x-loc) and y=x/scale"
   ]
  },
  {
   "cell_type": "code",
   "execution_count": null,
   "id": "a6dfa042",
   "metadata": {},
   "outputs": [],
   "source": []
  }
 ],
 "metadata": {
  "kernelspec": {
   "display_name": "Python 3 (ipykernel)",
   "language": "python",
   "name": "python3"
  },
  "language_info": {
   "codemirror_mode": {
    "name": "ipython",
    "version": 3
   },
   "file_extension": ".py",
   "mimetype": "text/x-python",
   "name": "python",
   "nbconvert_exporter": "python",
   "pygments_lexer": "ipython3",
   "version": "3.9.16"
  }
 },
 "nbformat": 4,
 "nbformat_minor": 5
}
